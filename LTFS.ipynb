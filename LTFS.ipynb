{
  "nbformat": 4,
  "nbformat_minor": 0,
  "metadata": {
    "colab": {
      "name": "LTFS.ipynb",
      "version": "0.3.2",
      "provenance": [],
      "toc_visible": true,
      "include_colab_link": true
    },
    "kernelspec": {
      "name": "python3",
      "display_name": "Python 3"
    },
    "accelerator": "GPU"
  },
  "cells": [
    {
      "cell_type": "markdown",
      "metadata": {
        "id": "view-in-github",
        "colab_type": "text"
      },
      "source": [
        "<a href=\"https://colab.research.google.com/github/Piyush01Bhatt/DataScience-Competitions/blob/master/LTFS.ipynb\" target=\"_parent\"><img src=\"https://colab.research.google.com/assets/colab-badge.svg\" alt=\"Open In Colab\"/></a>"
      ]
    },
    {
      "cell_type": "code",
      "metadata": {
        "id": "vwEF5Gmxk0LD",
        "colab_type": "code",
        "colab": {}
      },
      "source": [
        "#unzip train_ltfs.zip"
      ],
      "execution_count": 0,
      "outputs": []
    },
    {
      "cell_type": "code",
      "metadata": {
        "id": "IraMsG1MwKN-",
        "colab_type": "code",
        "colab": {}
      },
      "source": [
        "import pandas as pd\n",
        "import matplotlib.pyplot as plt\n",
        "plt.style.use('ggplot')\n",
        "import seaborn as sns\n",
        "import numpy as np\n",
        "from dateutil.relativedelta import relativedelta"
      ],
      "execution_count": 0,
      "outputs": []
    },
    {
      "cell_type": "code",
      "metadata": {
        "id": "UnviChuCwndv",
        "colab_type": "code",
        "colab": {}
      },
      "source": [
        "train = pd.read_csv('train.csv')\n",
        "test = pd.read_csv('test_ltfs.csv')\n",
        "data_dict = pd.read_excel('Data Dictionary.xlsx')"
      ],
      "execution_count": 0,
      "outputs": []
    },
    {
      "cell_type": "code",
      "metadata": {
        "id": "53A8G4WaxBxA",
        "colab_type": "code",
        "outputId": "5dbba544-4f23-43e6-f492-b905a6374203",
        "colab": {
          "base_uri": "https://localhost:8080/",
          "height": 53
        }
      },
      "source": [
        "print(f'train shape = {train.shape}')\n",
        "print(f'test shape = {test.shape}')"
      ],
      "execution_count": 0,
      "outputs": [
        {
          "output_type": "stream",
          "text": [
            "train shape = (233154, 41)\n",
            "test shape = (112392, 40)\n"
          ],
          "name": "stdout"
        }
      ]
    },
    {
      "cell_type": "code",
      "metadata": {
        "id": "BTxVxpMyxT00",
        "colab_type": "code",
        "outputId": "6663d2d8-b99a-4954-db62-8c4fc4ae9645",
        "colab": {
          "base_uri": "https://localhost:8080/",
          "height": 253
        }
      },
      "source": [
        "train.head()"
      ],
      "execution_count": 0,
      "outputs": [
        {
          "output_type": "execute_result",
          "data": {
            "text/html": [
              "<div>\n",
              "<style scoped>\n",
              "    .dataframe tbody tr th:only-of-type {\n",
              "        vertical-align: middle;\n",
              "    }\n",
              "\n",
              "    .dataframe tbody tr th {\n",
              "        vertical-align: top;\n",
              "    }\n",
              "\n",
              "    .dataframe thead th {\n",
              "        text-align: right;\n",
              "    }\n",
              "</style>\n",
              "<table border=\"1\" class=\"dataframe\">\n",
              "  <thead>\n",
              "    <tr style=\"text-align: right;\">\n",
              "      <th></th>\n",
              "      <th>UniqueID</th>\n",
              "      <th>disbursed_amount</th>\n",
              "      <th>asset_cost</th>\n",
              "      <th>ltv</th>\n",
              "      <th>branch_id</th>\n",
              "      <th>supplier_id</th>\n",
              "      <th>manufacturer_id</th>\n",
              "      <th>Current_pincode_ID</th>\n",
              "      <th>Date.of.Birth</th>\n",
              "      <th>Employment.Type</th>\n",
              "      <th>...</th>\n",
              "      <th>SEC.SANCTIONED.AMOUNT</th>\n",
              "      <th>SEC.DISBURSED.AMOUNT</th>\n",
              "      <th>PRIMARY.INSTAL.AMT</th>\n",
              "      <th>SEC.INSTAL.AMT</th>\n",
              "      <th>NEW.ACCTS.IN.LAST.SIX.MONTHS</th>\n",
              "      <th>DELINQUENT.ACCTS.IN.LAST.SIX.MONTHS</th>\n",
              "      <th>AVERAGE.ACCT.AGE</th>\n",
              "      <th>CREDIT.HISTORY.LENGTH</th>\n",
              "      <th>NO.OF_INQUIRIES</th>\n",
              "      <th>loan_default</th>\n",
              "    </tr>\n",
              "  </thead>\n",
              "  <tbody>\n",
              "    <tr>\n",
              "      <th>0</th>\n",
              "      <td>420825</td>\n",
              "      <td>50578</td>\n",
              "      <td>58400</td>\n",
              "      <td>89.55</td>\n",
              "      <td>67</td>\n",
              "      <td>22807</td>\n",
              "      <td>45</td>\n",
              "      <td>1441</td>\n",
              "      <td>01-01-84</td>\n",
              "      <td>Salaried</td>\n",
              "      <td>...</td>\n",
              "      <td>0</td>\n",
              "      <td>0</td>\n",
              "      <td>0</td>\n",
              "      <td>0</td>\n",
              "      <td>0</td>\n",
              "      <td>0</td>\n",
              "      <td>0yrs 0mon</td>\n",
              "      <td>0yrs 0mon</td>\n",
              "      <td>0</td>\n",
              "      <td>0</td>\n",
              "    </tr>\n",
              "    <tr>\n",
              "      <th>1</th>\n",
              "      <td>537409</td>\n",
              "      <td>47145</td>\n",
              "      <td>65550</td>\n",
              "      <td>73.23</td>\n",
              "      <td>67</td>\n",
              "      <td>22807</td>\n",
              "      <td>45</td>\n",
              "      <td>1502</td>\n",
              "      <td>31-07-85</td>\n",
              "      <td>Self employed</td>\n",
              "      <td>...</td>\n",
              "      <td>0</td>\n",
              "      <td>0</td>\n",
              "      <td>1991</td>\n",
              "      <td>0</td>\n",
              "      <td>0</td>\n",
              "      <td>1</td>\n",
              "      <td>1yrs 11mon</td>\n",
              "      <td>1yrs 11mon</td>\n",
              "      <td>0</td>\n",
              "      <td>1</td>\n",
              "    </tr>\n",
              "    <tr>\n",
              "      <th>2</th>\n",
              "      <td>417566</td>\n",
              "      <td>53278</td>\n",
              "      <td>61360</td>\n",
              "      <td>89.63</td>\n",
              "      <td>67</td>\n",
              "      <td>22807</td>\n",
              "      <td>45</td>\n",
              "      <td>1497</td>\n",
              "      <td>24-08-85</td>\n",
              "      <td>Self employed</td>\n",
              "      <td>...</td>\n",
              "      <td>0</td>\n",
              "      <td>0</td>\n",
              "      <td>0</td>\n",
              "      <td>0</td>\n",
              "      <td>0</td>\n",
              "      <td>0</td>\n",
              "      <td>0yrs 0mon</td>\n",
              "      <td>0yrs 0mon</td>\n",
              "      <td>0</td>\n",
              "      <td>0</td>\n",
              "    </tr>\n",
              "    <tr>\n",
              "      <th>3</th>\n",
              "      <td>624493</td>\n",
              "      <td>57513</td>\n",
              "      <td>66113</td>\n",
              "      <td>88.48</td>\n",
              "      <td>67</td>\n",
              "      <td>22807</td>\n",
              "      <td>45</td>\n",
              "      <td>1501</td>\n",
              "      <td>30-12-93</td>\n",
              "      <td>Self employed</td>\n",
              "      <td>...</td>\n",
              "      <td>0</td>\n",
              "      <td>0</td>\n",
              "      <td>31</td>\n",
              "      <td>0</td>\n",
              "      <td>0</td>\n",
              "      <td>0</td>\n",
              "      <td>0yrs 8mon</td>\n",
              "      <td>1yrs 3mon</td>\n",
              "      <td>1</td>\n",
              "      <td>1</td>\n",
              "    </tr>\n",
              "    <tr>\n",
              "      <th>4</th>\n",
              "      <td>539055</td>\n",
              "      <td>52378</td>\n",
              "      <td>60300</td>\n",
              "      <td>88.39</td>\n",
              "      <td>67</td>\n",
              "      <td>22807</td>\n",
              "      <td>45</td>\n",
              "      <td>1495</td>\n",
              "      <td>09-12-77</td>\n",
              "      <td>Self employed</td>\n",
              "      <td>...</td>\n",
              "      <td>0</td>\n",
              "      <td>0</td>\n",
              "      <td>0</td>\n",
              "      <td>0</td>\n",
              "      <td>0</td>\n",
              "      <td>0</td>\n",
              "      <td>0yrs 0mon</td>\n",
              "      <td>0yrs 0mon</td>\n",
              "      <td>1</td>\n",
              "      <td>1</td>\n",
              "    </tr>\n",
              "  </tbody>\n",
              "</table>\n",
              "<p>5 rows × 41 columns</p>\n",
              "</div>"
            ],
            "text/plain": [
              "   UniqueID  disbursed_amount  asset_cost    ltv  branch_id  supplier_id  \\\n",
              "0    420825             50578       58400  89.55         67        22807   \n",
              "1    537409             47145       65550  73.23         67        22807   \n",
              "2    417566             53278       61360  89.63         67        22807   \n",
              "3    624493             57513       66113  88.48         67        22807   \n",
              "4    539055             52378       60300  88.39         67        22807   \n",
              "\n",
              "   manufacturer_id  Current_pincode_ID Date.of.Birth Employment.Type  \\\n",
              "0               45                1441      01-01-84        Salaried   \n",
              "1               45                1502      31-07-85   Self employed   \n",
              "2               45                1497      24-08-85   Self employed   \n",
              "3               45                1501      30-12-93   Self employed   \n",
              "4               45                1495      09-12-77   Self employed   \n",
              "\n",
              "       ...      SEC.SANCTIONED.AMOUNT  SEC.DISBURSED.AMOUNT  \\\n",
              "0      ...                          0                     0   \n",
              "1      ...                          0                     0   \n",
              "2      ...                          0                     0   \n",
              "3      ...                          0                     0   \n",
              "4      ...                          0                     0   \n",
              "\n",
              "   PRIMARY.INSTAL.AMT  SEC.INSTAL.AMT  NEW.ACCTS.IN.LAST.SIX.MONTHS  \\\n",
              "0                   0               0                             0   \n",
              "1                1991               0                             0   \n",
              "2                   0               0                             0   \n",
              "3                  31               0                             0   \n",
              "4                   0               0                             0   \n",
              "\n",
              "   DELINQUENT.ACCTS.IN.LAST.SIX.MONTHS  AVERAGE.ACCT.AGE  \\\n",
              "0                                    0         0yrs 0mon   \n",
              "1                                    1        1yrs 11mon   \n",
              "2                                    0         0yrs 0mon   \n",
              "3                                    0         0yrs 8mon   \n",
              "4                                    0         0yrs 0mon   \n",
              "\n",
              "   CREDIT.HISTORY.LENGTH  NO.OF_INQUIRIES  loan_default  \n",
              "0              0yrs 0mon                0             0  \n",
              "1             1yrs 11mon                0             1  \n",
              "2              0yrs 0mon                0             0  \n",
              "3              1yrs 3mon                1             1  \n",
              "4              0yrs 0mon                1             1  \n",
              "\n",
              "[5 rows x 41 columns]"
            ]
          },
          "metadata": {
            "tags": []
          },
          "execution_count": 81
        }
      ]
    },
    {
      "cell_type": "code",
      "metadata": {
        "id": "pD0MR8Erxdb3",
        "colab_type": "code",
        "outputId": "f585f250-dd1e-4ef6-e4f0-5e265d02f3ab",
        "colab": {
          "base_uri": "https://localhost:8080/",
          "height": 71
        }
      },
      "source": [
        "train['loan_default'].value_counts()"
      ],
      "execution_count": 0,
      "outputs": [
        {
          "output_type": "execute_result",
          "data": {
            "text/plain": [
              "0    182543\n",
              "1     50611\n",
              "Name: loan_default, dtype: int64"
            ]
          },
          "metadata": {
            "tags": []
          },
          "execution_count": 82
        }
      ]
    },
    {
      "cell_type": "code",
      "metadata": {
        "id": "9W67fglvQlPL",
        "colab_type": "code",
        "outputId": "b6796b58-a515-49d8-d6fd-910701a56ae7",
        "colab": {
          "base_uri": "https://localhost:8080/",
          "height": 304
        }
      },
      "source": [
        "sns.countplot(x='loan_default',data=train)"
      ],
      "execution_count": 0,
      "outputs": [
        {
          "output_type": "execute_result",
          "data": {
            "text/plain": [
              "<matplotlib.axes._subplots.AxesSubplot at 0x7f2f001acfd0>"
            ]
          },
          "metadata": {
            "tags": []
          },
          "execution_count": 83
        },
        {
          "output_type": "display_data",
          "data": {
            "image/png": "[encoded data removed]",
            "text/plain": [
              "<Figure size 432x288 with 1 Axes>"
            ]
          },
          "metadata": {
            "tags": []
          }
        }
      ]
    },
    {
      "cell_type": "code",
      "metadata": {
        "id": "V4_zpuLpQ-rH",
        "colab_type": "code",
        "outputId": "71526690-6ece-41bc-ca88-8babd256c8fd",
        "colab": {
          "base_uri": "https://localhost:8080/",
          "height": 53
        }
      },
      "source": [
        "label0 = train['loan_default'].value_counts()[0]\n",
        "label1 = train['loan_default'].value_counts()[1]\n",
        "print(f'loan_default val 0 = {label0/train.shape[0]}')\n",
        "print(f'loan_default val 1 = {label1/train.shape[0]}')"
      ],
      "execution_count": 0,
      "outputs": [
        {
          "output_type": "stream",
          "text": [
            "loan_default val 0 = 0.7829288796246258\n",
            "loan_default val 1 = 0.2170711203753742\n"
          ],
          "name": "stdout"
        }
      ]
    },
    {
      "cell_type": "markdown",
      "metadata": {
        "id": "_V5zt_7lUZEt",
        "colab_type": "text"
      },
      "source": [
        "There is clearly an imbalance in the predictive class labels of loan_default.\n",
        "So we will be using the techniques of undersampling or over sampling for predicting the loan_default values"
      ]
    },
    {
      "cell_type": "code",
      "metadata": {
        "id": "vVZCqaF9SiVT",
        "colab_type": "code",
        "outputId": "660b35cd-f00a-4bfa-c681-1695cb839c0a",
        "colab": {
          "base_uri": "https://localhost:8080/",
          "height": 89
        }
      },
      "source": [
        "train.dtypes.value_counts()"
      ],
      "execution_count": 0,
      "outputs": [
        {
          "output_type": "execute_result",
          "data": {
            "text/plain": [
              "int64      34\n",
              "object      6\n",
              "float64     1\n",
              "dtype: int64"
            ]
          },
          "metadata": {
            "tags": []
          },
          "execution_count": 85
        }
      ]
    },
    {
      "cell_type": "markdown",
      "metadata": {
        "id": "6rs_Kjr6gomX",
        "colab_type": "text"
      },
      "source": [
        "##** Disbursed Amount**\n",
        "Amount of Loan disbursed i.e the amount received after the loan is approved."
      ]
    },
    {
      "cell_type": "code",
      "metadata": {
        "id": "7yCAjXtFgn_1",
        "colab_type": "code",
        "outputId": "58695d7b-68e7-4c3c-a663-5addcc29b912",
        "colab": {
          "base_uri": "https://localhost:8080/",
          "height": 324
        }
      },
      "source": [
        "sns.distplot(train['disbursed_amount'],kde=False,bins=100)\n",
        "plt.xlim(0, 150000)"
      ],
      "execution_count": 0,
      "outputs": [
        {
          "output_type": "execute_result",
          "data": {
            "text/plain": [
              "(0, 150000)"
            ]
          },
          "metadata": {
            "tags": []
          },
          "execution_count": 86
        },
        {
          "output_type": "display_data",
          "data": {
            "image/png": "[encoded data removed]",
            "text/plain": [
              "<Figure size 432x288 with 1 Axes>"
            ]
          },
          "metadata": {
            "tags": []
          }
        }
      ]
    },
    {
      "cell_type": "code",
      "metadata": {
        "id": "x8o8YUr7lY3Q",
        "colab_type": "code",
        "outputId": "b3b81d03-b16c-419b-bda2-05ffe035c47f",
        "colab": {
          "base_uri": "https://localhost:8080/",
          "height": 324
        }
      },
      "source": [
        "sns.violinplot(y='disbursed_amount',x='loan_default',data=train)"
      ],
      "execution_count": 0,
      "outputs": [
        {
          "output_type": "execute_result",
          "data": {
            "text/plain": [
              "<matplotlib.axes._subplots.AxesSubplot at 0x7f2f03b195c0>"
            ]
          },
          "metadata": {
            "tags": []
          },
          "execution_count": 87
        },
        {
          "output_type": "display_data",
          "data": {
            "image/png": "[encoded data removed]",
            "text/plain": [
              "<Figure size 432x288 with 1 Axes>"
            ]
          },
          "metadata": {
            "tags": []
          }
        }
      ]
    },
    {
      "cell_type": "code",
      "metadata": {
        "id": "fAIp2Q5hl047",
        "colab_type": "code",
        "outputId": "727f0407-7f3e-42b8-87d9-800529a335a9",
        "colab": {
          "base_uri": "https://localhost:8080/",
          "height": 324
        }
      },
      "source": [
        "sns.distplot(train.loc[train['loan_default']==1,'disbursed_amount'],kde=False,bins=50)"
      ],
      "execution_count": 0,
      "outputs": [
        {
          "output_type": "execute_result",
          "data": {
            "text/plain": [
              "<matplotlib.axes._subplots.AxesSubplot at 0x7f2f06bc0a20>"
            ]
          },
          "metadata": {
            "tags": []
          },
          "execution_count": 88
        },
        {
          "output_type": "display_data",
          "data": {
            "image/png": "[encoded data removed]",
            "text/plain": [
              "<Figure size 432x288 with 1 Axes>"
            ]
          },
          "metadata": {
            "tags": []
          }
        }
      ]
    },
    {
      "cell_type": "code",
      "metadata": {
        "id": "1piN_onDCGij",
        "colab_type": "code",
        "outputId": "128aa6ff-b26f-4005-be0b-f5487584a982",
        "colab": {
          "base_uri": "https://localhost:8080/",
          "height": 324
        }
      },
      "source": [
        "sns.distplot(train.loc[train['loan_default']==0,'disbursed_amount'],kde=False,bins=100)\n",
        "plt.xlim(0, 200000)"
      ],
      "execution_count": 0,
      "outputs": [
        {
          "output_type": "execute_result",
          "data": {
            "text/plain": [
              "(0, 200000)"
            ]
          },
          "metadata": {
            "tags": []
          },
          "execution_count": 89
        },
        {
          "output_type": "display_data",
          "data": {
            "image/png": "[encoded data removed]",
            "text/plain": [
              "<Figure size 432x288 with 1 Axes>"
            ]
          },
          "metadata": {
            "tags": []
          }
        }
      ]
    },
    {
      "cell_type": "markdown",
      "metadata": {
        "id": "FhFgBtN1DTsu",
        "colab_type": "text"
      },
      "source": [
        "data distribution of the disbursed amount for 'loan_default' 0 or 1  is almost same if limit is 2 lakhs as there are more samples of 'loan_default' label zero it has outliers above 2 lakhs amount."
      ]
    },
    {
      "cell_type": "code",
      "metadata": {
        "id": "aGljL2bTEu9b",
        "colab_type": "code",
        "outputId": "402351e8-76b8-4a3f-d44e-ecc1b7ac4a5c",
        "colab": {
          "base_uri": "https://localhost:8080/",
          "height": 73
        }
      },
      "source": [
        "train.loc[train['disbursed_amount']>200000,'loan_default'].value_counts()"
      ],
      "execution_count": 0,
      "outputs": [
        {
          "output_type": "execute_result",
          "data": {
            "text/plain": [
              "0    7\n",
              "Name: loan_default, dtype: int64"
            ]
          },
          "metadata": {
            "tags": []
          },
          "execution_count": 90
        }
      ]
    },
    {
      "cell_type": "code",
      "metadata": {
        "id": "NHRJmCmBVpqK",
        "colab_type": "code",
        "outputId": "254ed4c5-7497-4a8d-d9e1-a234f92c2343",
        "colab": {
          "base_uri": "https://localhost:8080/",
          "height": 55
        }
      },
      "source": [
        "test.loc[train['disbursed_amount']>200000].shape[0]"
      ],
      "execution_count": 0,
      "outputs": [
        {
          "output_type": "execute_result",
          "data": {
            "text/plain": [
              "1"
            ]
          },
          "metadata": {
            "tags": []
          },
          "execution_count": 91
        }
      ]
    },
    {
      "cell_type": "code",
      "metadata": {
        "id": "W-GCCcXnc31c",
        "colab_type": "code",
        "outputId": "9b9eeb91-42cb-4faf-d835-0afcf0ca7a5b",
        "colab": {
          "base_uri": "https://localhost:8080/",
          "height": 324
        }
      },
      "source": [
        "sns.distplot(test['disbursed_amount'],kde=False,bins=100)\n",
        "plt.xlim(0, 200000)"
      ],
      "execution_count": 0,
      "outputs": [
        {
          "output_type": "execute_result",
          "data": {
            "text/plain": [
              "(0, 200000)"
            ]
          },
          "metadata": {
            "tags": []
          },
          "execution_count": 92
        },
        {
          "output_type": "display_data",
          "data": {
            "image/png": "[encoded data removed]",
            "text/plain": [
              "<Figure size 432x288 with 1 Axes>"
            ]
          },
          "metadata": {
            "tags": []
          }
        }
      ]
    },
    {
      "cell_type": "markdown",
      "metadata": {
        "id": "qCScIYt-D8x4",
        "colab_type": "text"
      },
      "source": [
        "##**Asset Cost**\n",
        "(Real cost of the asset i.e the vehicle purchased)"
      ]
    },
    {
      "cell_type": "code",
      "metadata": {
        "id": "cfM8zMo9CU_r",
        "colab_type": "code",
        "outputId": "bb27ec72-7623-4f9c-c7f8-1cc5de656fee",
        "colab": {
          "base_uri": "https://localhost:8080/",
          "height": 304
        }
      },
      "source": [
        "sns.distplot(train['asset_cost'],kde=False,bins=100)\n",
        "plt.xlim(0, 200000)"
      ],
      "execution_count": 0,
      "outputs": [
        {
          "output_type": "execute_result",
          "data": {
            "text/plain": [
              "(0, 200000)"
            ]
          },
          "metadata": {
            "tags": []
          },
          "execution_count": 93
        },
        {
          "output_type": "display_data",
          "data": {
            "image/png": "[encoded data removed]",
            "text/plain": [
              "<Figure size 432x288 with 1 Axes>"
            ]
          },
          "metadata": {
            "tags": []
          }
        }
      ]
    },
    {
      "cell_type": "code",
      "metadata": {
        "id": "Oyd4oiGqEt14",
        "colab_type": "code",
        "outputId": "24b6bedc-6764-4693-d80c-59e55e0998df",
        "colab": {
          "base_uri": "https://localhost:8080/",
          "height": 304
        }
      },
      "source": [
        "sns.violinplot(y='asset_cost',x='loan_default',data=train)"
      ],
      "execution_count": 0,
      "outputs": [
        {
          "output_type": "execute_result",
          "data": {
            "text/plain": [
              "<matplotlib.axes._subplots.AxesSubplot at 0x7f2f022205f8>"
            ]
          },
          "metadata": {
            "tags": []
          },
          "execution_count": 94
        },
        {
          "output_type": "display_data",
          "data": {
            "image/png": "[encoded data removed]",
            "text/plain": [
              "<Figure size 432x288 with 1 Axes>"
            ]
          },
          "metadata": {
            "tags": []
          }
        }
      ]
    },
    {
      "cell_type": "markdown",
      "metadata": {
        "id": "GVbvLdLjbcOm",
        "colab_type": "text"
      },
      "source": [
        "**ltv**(Loan to value of the asset)\n",
        "I guess it is the ratio between the loan asked and the value of the asset, telling the percentage of the amount user tends to pay via emi"
      ]
    },
    {
      "cell_type": "code",
      "metadata": {
        "id": "8loVp7U9adGP",
        "colab_type": "code",
        "outputId": "e5f4e01e-7409-4ca7-d447-72d1738a3891",
        "colab": {
          "base_uri": "https://localhost:8080/",
          "height": 304
        }
      },
      "source": [
        "sns.distplot(test['ltv'],kde=False,bins=30)"
      ],
      "execution_count": 0,
      "outputs": [
        {
          "output_type": "execute_result",
          "data": {
            "text/plain": [
              "<matplotlib.axes._subplots.AxesSubplot at 0x7f2efe8dc3c8>"
            ]
          },
          "metadata": {
            "tags": []
          },
          "execution_count": 95
        },
        {
          "output_type": "display_data",
          "data": {
            "image/png": "[encoded data removed]",
            "text/plain": [
              "<Figure size 432x288 with 1 Axes>"
            ]
          },
          "metadata": {
            "tags": []
          }
        }
      ]
    },
    {
      "cell_type": "code",
      "metadata": {
        "id": "0igIPRe130Sj",
        "colab_type": "code",
        "outputId": "4077d3c4-db0c-44e5-d8dd-4372bc4c47fd",
        "colab": {
          "base_uri": "https://localhost:8080/",
          "height": 304
        }
      },
      "source": [
        "sns.violinplot(y='ltv',x='loan_default',data=train)"
      ],
      "execution_count": 0,
      "outputs": [
        {
          "output_type": "execute_result",
          "data": {
            "text/plain": [
              "<matplotlib.axes._subplots.AxesSubplot at 0x7f2efe7fae48>"
            ]
          },
          "metadata": {
            "tags": []
          },
          "execution_count": 96
        },
        {
          "output_type": "display_data",
          "data": {
            "image/png": "[encoded data removed]",
            "text/plain": [
              "<Figure size 432x288 with 1 Axes>"
            ]
          },
          "metadata": {
            "tags": []
          }
        }
      ]
    },
    {
      "cell_type": "markdown",
      "metadata": {
        "id": "aaSTA-9O4xEY",
        "colab_type": "text"
      },
      "source": [
        "Both the labels have almost similar distribution and variation of data. There are defaulters mostly in the large loan  amounts. Most of the people in the data are the one's with high ltv ratio which shows many people considered buying vehicles on loans with almost 70% money to be paid in emi to the value of the vehicle.\n",
        "\n"
      ]
    },
    {
      "cell_type": "markdown",
      "metadata": {
        "id": "e1W1iXyu7gim",
        "colab_type": "text"
      },
      "source": [
        "###**Date of birth and disbursal date**\n",
        "We can use both of these to find the person's age at the time he/she got the loan\n"
      ]
    },
    {
      "cell_type": "code",
      "metadata": {
        "id": "cjWgq17I4b_Y",
        "colab_type": "code",
        "outputId": "2b6cf22d-07a8-4b0a-c673-3e955bc0e74c",
        "colab": {
          "base_uri": "https://localhost:8080/",
          "height": 204
        }
      },
      "source": [
        "train[['Date.of.Birth','DisbursalDate']].head()"
      ],
      "execution_count": 0,
      "outputs": [
        {
          "output_type": "execute_result",
          "data": {
            "text/html": [
              "<div>\n",
              "<style scoped>\n",
              "    .dataframe tbody tr th:only-of-type {\n",
              "        vertical-align: middle;\n",
              "    }\n",
              "\n",
              "    .dataframe tbody tr th {\n",
              "        vertical-align: top;\n",
              "    }\n",
              "\n",
              "    .dataframe thead th {\n",
              "        text-align: right;\n",
              "    }\n",
              "</style>\n",
              "<table border=\"1\" class=\"dataframe\">\n",
              "  <thead>\n",
              "    <tr style=\"text-align: right;\">\n",
              "      <th></th>\n",
              "      <th>Date.of.Birth</th>\n",
              "      <th>DisbursalDate</th>\n",
              "    </tr>\n",
              "  </thead>\n",
              "  <tbody>\n",
              "    <tr>\n",
              "      <th>0</th>\n",
              "      <td>01-01-84</td>\n",
              "      <td>03-08-18</td>\n",
              "    </tr>\n",
              "    <tr>\n",
              "      <th>1</th>\n",
              "      <td>31-07-85</td>\n",
              "      <td>26-09-18</td>\n",
              "    </tr>\n",
              "    <tr>\n",
              "      <th>2</th>\n",
              "      <td>24-08-85</td>\n",
              "      <td>01-08-18</td>\n",
              "    </tr>\n",
              "    <tr>\n",
              "      <th>3</th>\n",
              "      <td>30-12-93</td>\n",
              "      <td>26-10-18</td>\n",
              "    </tr>\n",
              "    <tr>\n",
              "      <th>4</th>\n",
              "      <td>09-12-77</td>\n",
              "      <td>26-09-18</td>\n",
              "    </tr>\n",
              "  </tbody>\n",
              "</table>\n",
              "</div>"
            ],
            "text/plain": [
              "  Date.of.Birth DisbursalDate\n",
              "0      01-01-84      03-08-18\n",
              "1      31-07-85      26-09-18\n",
              "2      24-08-85      01-08-18\n",
              "3      30-12-93      26-10-18\n",
              "4      09-12-77      26-09-18"
            ]
          },
          "metadata": {
            "tags": []
          },
          "execution_count": 97
        }
      ]
    },
    {
      "cell_type": "code",
      "metadata": {
        "id": "17xgYykv8n7p",
        "colab_type": "code",
        "colab": {}
      },
      "source": [
        "train['Date.of.Birth'] = pd.to_datetime(train['Date.of.Birth'])\n",
        "train['DisbursalDate'] = pd.to_datetime(train['DisbursalDate'])"
      ],
      "execution_count": 0,
      "outputs": []
    },
    {
      "cell_type": "code",
      "metadata": {
        "id": "TgWfPqxwB381",
        "colab_type": "code",
        "colab": {}
      },
      "source": [
        "test['Date.of.Birth'] = pd.to_datetime(test['Date.of.Birth'])\n",
        "test['DisbursalDate'] = pd.to_datetime(test['DisbursalDate'])"
      ],
      "execution_count": 0,
      "outputs": []
    },
    {
      "cell_type": "code",
      "metadata": {
        "id": "651ASk-6A6hl",
        "colab_type": "code",
        "colab": {}
      },
      "source": [
        "def countAge(row):\n",
        "  return relativedelta(row['DisbursalDate'],row['Date.of.Birth']).years"
      ],
      "execution_count": 0,
      "outputs": []
    },
    {
      "cell_type": "code",
      "metadata": {
        "id": "_J-h0ixk9bW9",
        "colab_type": "code",
        "colab": {}
      },
      "source": [
        "train['AgeAtDisbursal'] = train.apply(countAge,axis=1)"
      ],
      "execution_count": 0,
      "outputs": []
    },
    {
      "cell_type": "code",
      "metadata": {
        "id": "Hb7eUAM_CC50",
        "colab_type": "code",
        "colab": {}
      },
      "source": [
        "test['AgeAtDisbursal'] = test.apply(countAge,axis=1)"
      ],
      "execution_count": 0,
      "outputs": []
    },
    {
      "cell_type": "code",
      "metadata": {
        "id": "5MNWfAgU91UA",
        "colab_type": "code",
        "outputId": "67b55123-ecc6-411a-f909-d69b7987ae8d",
        "colab": {
          "base_uri": "https://localhost:8080/",
          "height": 359
        }
      },
      "source": [
        "train[['Date.of.Birth','DisbursalDate','AgeAtDisbursal']].head(10)"
      ],
      "execution_count": 0,
      "outputs": [
        {
          "output_type": "execute_result",
          "data": {
            "text/html": [
              "<div>\n",
              "<style scoped>\n",
              "    .dataframe tbody tr th:only-of-type {\n",
              "        vertical-align: middle;\n",
              "    }\n",
              "\n",
              "    .dataframe tbody tr th {\n",
              "        vertical-align: top;\n",
              "    }\n",
              "\n",
              "    .dataframe thead th {\n",
              "        text-align: right;\n",
              "    }\n",
              "</style>\n",
              "<table border=\"1\" class=\"dataframe\">\n",
              "  <thead>\n",
              "    <tr style=\"text-align: right;\">\n",
              "      <th></th>\n",
              "      <th>Date.of.Birth</th>\n",
              "      <th>DisbursalDate</th>\n",
              "      <th>AgeAtDisbursal</th>\n",
              "    </tr>\n",
              "  </thead>\n",
              "  <tbody>\n",
              "    <tr>\n",
              "      <th>0</th>\n",
              "      <td>1984-01-01</td>\n",
              "      <td>2018-03-08</td>\n",
              "      <td>34</td>\n",
              "    </tr>\n",
              "    <tr>\n",
              "      <th>1</th>\n",
              "      <td>1985-07-31</td>\n",
              "      <td>2018-09-26</td>\n",
              "      <td>33</td>\n",
              "    </tr>\n",
              "    <tr>\n",
              "      <th>2</th>\n",
              "      <td>1985-08-24</td>\n",
              "      <td>2018-01-08</td>\n",
              "      <td>32</td>\n",
              "    </tr>\n",
              "    <tr>\n",
              "      <th>3</th>\n",
              "      <td>1993-12-30</td>\n",
              "      <td>2018-10-26</td>\n",
              "      <td>24</td>\n",
              "    </tr>\n",
              "    <tr>\n",
              "      <th>4</th>\n",
              "      <td>1977-09-12</td>\n",
              "      <td>2018-09-26</td>\n",
              "      <td>41</td>\n",
              "    </tr>\n",
              "    <tr>\n",
              "      <th>5</th>\n",
              "      <td>1990-08-09</td>\n",
              "      <td>2018-09-19</td>\n",
              "      <td>28</td>\n",
              "    </tr>\n",
              "    <tr>\n",
              "      <th>6</th>\n",
              "      <td>1988-01-06</td>\n",
              "      <td>2018-09-23</td>\n",
              "      <td>30</td>\n",
              "    </tr>\n",
              "    <tr>\n",
              "      <th>7</th>\n",
              "      <td>1989-04-10</td>\n",
              "      <td>2018-09-16</td>\n",
              "      <td>29</td>\n",
              "    </tr>\n",
              "    <tr>\n",
              "      <th>8</th>\n",
              "      <td>1991-11-15</td>\n",
              "      <td>2018-05-09</td>\n",
              "      <td>26</td>\n",
              "    </tr>\n",
              "    <tr>\n",
              "      <th>9</th>\n",
              "      <td>2068-01-06</td>\n",
              "      <td>2018-09-16</td>\n",
              "      <td>-49</td>\n",
              "    </tr>\n",
              "  </tbody>\n",
              "</table>\n",
              "</div>"
            ],
            "text/plain": [
              "  Date.of.Birth DisbursalDate  AgeAtDisbursal\n",
              "0    1984-01-01    2018-03-08              34\n",
              "1    1985-07-31    2018-09-26              33\n",
              "2    1985-08-24    2018-01-08              32\n",
              "3    1993-12-30    2018-10-26              24\n",
              "4    1977-09-12    2018-09-26              41\n",
              "5    1990-08-09    2018-09-19              28\n",
              "6    1988-01-06    2018-09-23              30\n",
              "7    1989-04-10    2018-09-16              29\n",
              "8    1991-11-15    2018-05-09              26\n",
              "9    2068-01-06    2018-09-16             -49"
            ]
          },
          "metadata": {
            "tags": []
          },
          "execution_count": 101
        }
      ]
    },
    {
      "cell_type": "code",
      "metadata": {
        "id": "39O3_zm_95Bg",
        "colab_type": "code",
        "outputId": "21c804b0-997b-424d-d754-e7ee117edf48",
        "colab": {
          "base_uri": "https://localhost:8080/",
          "height": 304
        }
      },
      "source": [
        "sns.distplot(train['AgeAtDisbursal'],kde=False,bins=30)"
      ],
      "execution_count": 0,
      "outputs": [
        {
          "output_type": "execute_result",
          "data": {
            "text/plain": [
              "<matplotlib.axes._subplots.AxesSubplot at 0x7f2efe9684e0>"
            ]
          },
          "metadata": {
            "tags": []
          },
          "execution_count": 102
        },
        {
          "output_type": "display_data",
          "data": {
            "image/png": "[encoded data removed]",
            "text/plain": [
              "<Figure size 432x288 with 1 Axes>"
            ]
          },
          "metadata": {
            "tags": []
          }
        }
      ]
    },
    {
      "cell_type": "code",
      "metadata": {
        "id": "23tBxlUKB1fo",
        "colab_type": "code",
        "outputId": "d65f9d36-5eae-422f-8ca8-ca6df8d1bb64",
        "colab": {
          "base_uri": "https://localhost:8080/",
          "height": 35
        }
      },
      "source": [
        "len(train[train['AgeAtDisbursal']<0])"
      ],
      "execution_count": 0,
      "outputs": [
        {
          "output_type": "execute_result",
          "data": {
            "text/plain": [
              "19866"
            ]
          },
          "metadata": {
            "tags": []
          },
          "execution_count": 103
        }
      ]
    },
    {
      "cell_type": "code",
      "metadata": {
        "id": "Bmn7JJ0KCuY3",
        "colab_type": "code",
        "outputId": "56bb3360-1792-4e01-ace5-d30259887872",
        "colab": {
          "base_uri": "https://localhost:8080/",
          "height": 125
        }
      },
      "source": [
        "train.loc[train['AgeAtDisbursal']<0,'Date.of.Birth'].head()"
      ],
      "execution_count": 0,
      "outputs": [
        {
          "output_type": "execute_result",
          "data": {
            "text/plain": [
              "9    2068-01-06\n",
              "26   2068-02-08\n",
              "32   2066-01-06\n",
              "59   2064-01-06\n",
              "68   2067-01-01\n",
              "Name: Date.of.Birth, dtype: datetime64[ns]"
            ]
          },
          "metadata": {
            "tags": []
          },
          "execution_count": 104
        }
      ]
    },
    {
      "cell_type": "code",
      "metadata": {
        "id": "aU3qazeNn01l",
        "colab_type": "code",
        "outputId": "ec1dbedb-3873-48a2-f7cb-97a290600ed1",
        "colab": {
          "base_uri": "https://localhost:8080/",
          "height": 35
        }
      },
      "source": [
        "max(train['AgeAtDisbursal'])"
      ],
      "execution_count": 0,
      "outputs": [
        {
          "output_type": "execute_result",
          "data": {
            "text/plain": [
              "49"
            ]
          },
          "metadata": {
            "tags": []
          },
          "execution_count": 105
        }
      ]
    },
    {
      "cell_type": "markdown",
      "metadata": {
        "id": "oLgmaEIEDFRm",
        "colab_type": "text"
      },
      "source": [
        "The above ages which are negative show mistyped or wrong filled dobs. The ages are mostly between 20 - 50 years that is mostly adults.\n"
      ]
    },
    {
      "cell_type": "code",
      "metadata": {
        "id": "5dLZJ28zDECS",
        "colab_type": "code",
        "outputId": "c9315e79-3ffb-4030-ddf8-1ac3e9927c51",
        "colab": {
          "base_uri": "https://localhost:8080/",
          "height": 304
        }
      },
      "source": [
        "sns.violinplot(y='AgeAtDisbursal',x='loan_default',data=train)"
      ],
      "execution_count": 0,
      "outputs": [
        {
          "output_type": "execute_result",
          "data": {
            "text/plain": [
              "<matplotlib.axes._subplots.AxesSubplot at 0x7f2f06b9bba8>"
            ]
          },
          "metadata": {
            "tags": []
          },
          "execution_count": 106
        },
        {
          "output_type": "display_data",
          "data": {
            "image/png": "[encoded data removed]",
            "text/plain": [
              "<Figure size 432x288 with 1 Axes>"
            ]
          },
          "metadata": {
            "tags": []
          }
        }
      ]
    },
    {
      "cell_type": "markdown",
      "metadata": {
        "id": "bahlgfxzx5TX",
        "colab_type": "text"
      },
      "source": [
        "##**Id flags**\n",
        "Lets make a new columns to check if any of the ids are submitted"
      ]
    },
    {
      "cell_type": "code",
      "metadata": {
        "id": "y0Ugp0mQC-Ob",
        "colab_type": "code",
        "colab": {}
      },
      "source": [
        "def checkId(row):\n",
        "  if row['MobileNo_Avl_Flag']==1 or row['Aadhar_flag']==1 or row['PAN_flag']==1 or row['VoterID_flag']==1 or row['Driving_flag']==1 or row['Passport_flag']==1:\n",
        "    return 1\n",
        "  else:\n",
        "    return 0"
      ],
      "execution_count": 0,
      "outputs": []
    },
    {
      "cell_type": "code",
      "metadata": {
        "id": "w8wxSheX1_bf",
        "colab_type": "code",
        "colab": {}
      },
      "source": [
        "train['idCheck'] = train.apply(checkId,axis=1)"
      ],
      "execution_count": 0,
      "outputs": []
    },
    {
      "cell_type": "code",
      "metadata": {
        "id": "riGBpkbp3P8X",
        "colab_type": "code",
        "outputId": "e08e62d9-90d8-475d-a742-9ba63feea77b",
        "colab": {
          "base_uri": "https://localhost:8080/",
          "height": 53
        }
      },
      "source": [
        "train['idCheck'].value_counts()"
      ],
      "execution_count": 0,
      "outputs": [
        {
          "output_type": "execute_result",
          "data": {
            "text/plain": [
              "1    233154\n",
              "Name: idCheck, dtype: int64"
            ]
          },
          "metadata": {
            "tags": []
          },
          "execution_count": 109
        }
      ]
    },
    {
      "cell_type": "markdown",
      "metadata": {
        "id": "5uK81vk93dkR",
        "colab_type": "text"
      },
      "source": [
        "Since all are labeled as 1 this means whole data if verified by valid ids"
      ]
    },
    {
      "cell_type": "markdown",
      "metadata": {
        "id": "XxtnLTYU4rZe",
        "colab_type": "text"
      },
      "source": [
        "##**PERFORM_CNS.SCORE and PERFORM_CNS.SCORE.DESCRIPTION**"
      ]
    },
    {
      "cell_type": "code",
      "metadata": {
        "id": "vfwnhQ1D3XKn",
        "colab_type": "code",
        "outputId": "5f0f315f-1e0a-4e44-bc30-771e79354e99",
        "colab": {
          "base_uri": "https://localhost:8080/",
          "height": 359
        }
      },
      "source": [
        "train[['PERFORM_CNS.SCORE','PERFORM_CNS.SCORE.DESCRIPTION']].head(10)"
      ],
      "execution_count": 0,
      "outputs": [
        {
          "output_type": "execute_result",
          "data": {
            "text/html": [
              "<div>\n",
              "<style scoped>\n",
              "    .dataframe tbody tr th:only-of-type {\n",
              "        vertical-align: middle;\n",
              "    }\n",
              "\n",
              "    .dataframe tbody tr th {\n",
              "        vertical-align: top;\n",
              "    }\n",
              "\n",
              "    .dataframe thead th {\n",
              "        text-align: right;\n",
              "    }\n",
              "</style>\n",
              "<table border=\"1\" class=\"dataframe\">\n",
              "  <thead>\n",
              "    <tr style=\"text-align: right;\">\n",
              "      <th></th>\n",
              "      <th>PERFORM_CNS.SCORE</th>\n",
              "      <th>PERFORM_CNS.SCORE.DESCRIPTION</th>\n",
              "    </tr>\n",
              "  </thead>\n",
              "  <tbody>\n",
              "    <tr>\n",
              "      <th>0</th>\n",
              "      <td>0</td>\n",
              "      <td>No Bureau History Available</td>\n",
              "    </tr>\n",
              "    <tr>\n",
              "      <th>1</th>\n",
              "      <td>598</td>\n",
              "      <td>I-Medium Risk</td>\n",
              "    </tr>\n",
              "    <tr>\n",
              "      <th>2</th>\n",
              "      <td>0</td>\n",
              "      <td>No Bureau History Available</td>\n",
              "    </tr>\n",
              "    <tr>\n",
              "      <th>3</th>\n",
              "      <td>305</td>\n",
              "      <td>L-Very High Risk</td>\n",
              "    </tr>\n",
              "    <tr>\n",
              "      <th>4</th>\n",
              "      <td>0</td>\n",
              "      <td>No Bureau History Available</td>\n",
              "    </tr>\n",
              "    <tr>\n",
              "      <th>5</th>\n",
              "      <td>825</td>\n",
              "      <td>A-Very Low Risk</td>\n",
              "    </tr>\n",
              "    <tr>\n",
              "      <th>6</th>\n",
              "      <td>0</td>\n",
              "      <td>No Bureau History Available</td>\n",
              "    </tr>\n",
              "    <tr>\n",
              "      <th>7</th>\n",
              "      <td>17</td>\n",
              "      <td>Not Scored: Not Enough Info available on the c...</td>\n",
              "    </tr>\n",
              "    <tr>\n",
              "      <th>8</th>\n",
              "      <td>718</td>\n",
              "      <td>D-Very Low Risk</td>\n",
              "    </tr>\n",
              "    <tr>\n",
              "      <th>9</th>\n",
              "      <td>818</td>\n",
              "      <td>A-Very Low Risk</td>\n",
              "    </tr>\n",
              "  </tbody>\n",
              "</table>\n",
              "</div>"
            ],
            "text/plain": [
              "   PERFORM_CNS.SCORE                      PERFORM_CNS.SCORE.DESCRIPTION\n",
              "0                  0                        No Bureau History Available\n",
              "1                598                                      I-Medium Risk\n",
              "2                  0                        No Bureau History Available\n",
              "3                305                                   L-Very High Risk\n",
              "4                  0                        No Bureau History Available\n",
              "5                825                                    A-Very Low Risk\n",
              "6                  0                        No Bureau History Available\n",
              "7                 17  Not Scored: Not Enough Info available on the c...\n",
              "8                718                                    D-Very Low Risk\n",
              "9                818                                    A-Very Low Risk"
            ]
          },
          "metadata": {
            "tags": []
          },
          "execution_count": 110
        }
      ]
    },
    {
      "cell_type": "markdown",
      "metadata": {
        "id": "hJe7zxfc5JvH",
        "colab_type": "text"
      },
      "source": [
        "The cns score is like a credit score showing ability to pay back the borrowed amount"
      ]
    },
    {
      "cell_type": "code",
      "metadata": {
        "id": "wPrs-aN-5A1u",
        "colab_type": "code",
        "outputId": "60fff37f-84b9-4724-9dd0-5600a7285d9d",
        "colab": {
          "base_uri": "https://localhost:8080/",
          "height": 304
        }
      },
      "source": [
        "sns.distplot(train['PERFORM_CNS.SCORE'],kde=False,bins=100)"
      ],
      "execution_count": 0,
      "outputs": [
        {
          "output_type": "execute_result",
          "data": {
            "text/plain": [
              "<matplotlib.axes._subplots.AxesSubplot at 0x7f2f06b70438>"
            ]
          },
          "metadata": {
            "tags": []
          },
          "execution_count": 111
        },
        {
          "output_type": "display_data",
          "data": {
            "image/png": "[encoded data removed]",
            "text/plain": [
              "<Figure size 432x288 with 1 Axes>"
            ]
          },
          "metadata": {
            "tags": []
          }
        }
      ]
    },
    {
      "cell_type": "code",
      "metadata": {
        "id": "08ahq5kK5rKp",
        "colab_type": "code",
        "outputId": "2731f910-a353-4e0b-86fe-69d31253ad9a",
        "colab": {
          "base_uri": "https://localhost:8080/",
          "height": 304
        }
      },
      "source": [
        "sns.violinplot(y='PERFORM_CNS.SCORE',x='loan_default',data=train)"
      ],
      "execution_count": 0,
      "outputs": [
        {
          "output_type": "execute_result",
          "data": {
            "text/plain": [
              "<matplotlib.axes._subplots.AxesSubplot at 0x7f2efea72e10>"
            ]
          },
          "metadata": {
            "tags": []
          },
          "execution_count": 112
        },
        {
          "output_type": "display_data",
          "data": {
            "image/png": "[encoded data removed]",
            "text/plain": [
              "<Figure size 432x288 with 1 Axes>"
            ]
          },
          "metadata": {
            "tags": []
          }
        }
      ]
    },
    {
      "cell_type": "code",
      "metadata": {
        "id": "ttrCT8E466xy",
        "colab_type": "code",
        "outputId": "8b217c28-3aeb-4a71-b0c3-81da0ad2b750",
        "colab": {
          "base_uri": "https://localhost:8080/",
          "height": 630
        }
      },
      "source": [
        "plt.figure(figsize=(10,10))\n",
        "sns.distplot(train.loc[train['loan_default']==0,'PERFORM_CNS.SCORE'],kde=False,bins=100,label='ld0')\n",
        "sns.distplot(train.loc[train['loan_default']==1,'PERFORM_CNS.SCORE'],kde=False,bins=100,label='ld1')\n",
        "plt.legend()"
      ],
      "execution_count": 0,
      "outputs": [
        {
          "output_type": "execute_result",
          "data": {
            "text/plain": [
              "<matplotlib.legend.Legend at 0x7f2efebde160>"
            ]
          },
          "metadata": {
            "tags": []
          },
          "execution_count": 113
        },
        {
          "output_type": "display_data",
          "data": {
            "image/png": "[encoded data removed]",
            "text/plain": [
              "<Figure size 720x720 with 1 Axes>"
            ]
          },
          "metadata": {
            "tags": []
          }
        }
      ]
    },
    {
      "cell_type": "markdown",
      "metadata": {
        "id": "qEmxVBff9Yvv",
        "colab_type": "text"
      },
      "source": [
        "It is clear by graph that most of the defaulters are with cns score of 0 that is bureau had no history of these people and some too with high risk i.e cns score below 400"
      ]
    },
    {
      "cell_type": "code",
      "metadata": {
        "id": "rpkFyXOJ7oP1",
        "colab_type": "code",
        "outputId": "a37f8271-0aac-43d6-c48c-6bff0466b985",
        "colab": {
          "base_uri": "https://localhost:8080/",
          "height": 71
        }
      },
      "source": [
        "train.loc[train['PERFORM_CNS.SCORE']<=50,'loan_default'].value_counts()"
      ],
      "execution_count": 0,
      "outputs": [
        {
          "output_type": "execute_result",
          "data": {
            "text/plain": [
              "0    99970\n",
              "1    29815\n",
              "Name: loan_default, dtype: int64"
            ]
          },
          "metadata": {
            "tags": []
          },
          "execution_count": 114
        }
      ]
    },
    {
      "cell_type": "code",
      "metadata": {
        "id": "r9AmxpOTGd_I",
        "colab_type": "code",
        "outputId": "d7d7a85a-6148-47dd-aae9-9ed095498d59",
        "colab": {
          "base_uri": "https://localhost:8080/",
          "height": 71
        }
      },
      "source": [
        "train.loc[train['PERFORM_CNS.SCORE']<=400,'loan_default'].value_counts()"
      ],
      "execution_count": 0,
      "outputs": [
        {
          "output_type": "execute_result",
          "data": {
            "text/plain": [
              "0    108127\n",
              "1     33384\n",
              "Name: loan_default, dtype: int64"
            ]
          },
          "metadata": {
            "tags": []
          },
          "execution_count": 115
        }
      ]
    },
    {
      "cell_type": "code",
      "metadata": {
        "id": "zciaRYhQGsVn",
        "colab_type": "code",
        "outputId": "c748b0aa-7db3-4786-aa1f-e4d474c538fd",
        "colab": {
          "base_uri": "https://localhost:8080/",
          "height": 71
        }
      },
      "source": [
        "train.loc[train['PERFORM_CNS.SCORE']>400,'loan_default'].value_counts()"
      ],
      "execution_count": 0,
      "outputs": [
        {
          "output_type": "execute_result",
          "data": {
            "text/plain": [
              "0    74416\n",
              "1    17227\n",
              "Name: loan_default, dtype: int64"
            ]
          },
          "metadata": {
            "tags": []
          },
          "execution_count": 116
        }
      ]
    },
    {
      "cell_type": "code",
      "metadata": {
        "id": "KlKLyD0wHTwk",
        "colab_type": "code",
        "outputId": "b92ce227-b232-4901-be56-dc8371ae248f",
        "colab": {
          "base_uri": "https://localhost:8080/",
          "height": 35
        }
      },
      "source": [
        "total_1 = 33384+17227\n",
        "total_1"
      ],
      "execution_count": 0,
      "outputs": [
        {
          "output_type": "execute_result",
          "data": {
            "text/plain": [
              "50611"
            ]
          },
          "metadata": {
            "tags": []
          },
          "execution_count": 117
        }
      ]
    },
    {
      "cell_type": "code",
      "metadata": {
        "id": "HWZt1D3SHphO",
        "colab_type": "code",
        "outputId": "d5e11e91-8b02-4fed-a8ee-a4f9c595445e",
        "colab": {
          "base_uri": "https://localhost:8080/",
          "height": 53
        }
      },
      "source": [
        "defaulters_with_high_risk = (33384/total_1)*100\n",
        "defaulters_with_med_or_low_risk = (17227/total_1)*100\n",
        "print(f'High risk cns score defaulters = {defaulters_with_high_risk}')\n",
        "print(f'Medium or low risk cns score defaulters = {defaulters_with_med_or_low_risk}')"
      ],
      "execution_count": 0,
      "outputs": [
        {
          "output_type": "stream",
          "text": [
            "High risk cns score defaulters = 65.96194503171247\n",
            "Medium or low risk cns score defaulters = 34.038054968287526\n"
          ],
          "name": "stdout"
        }
      ]
    },
    {
      "cell_type": "code",
      "metadata": {
        "id": "Fm2dSpfJIj7I",
        "colab_type": "code",
        "outputId": "542b0e2c-c50f-4cd1-bfed-62cd1cf8e500",
        "colab": {
          "base_uri": "https://localhost:8080/",
          "height": 35
        }
      },
      "source": [
        "print(f'No history defaulters = {(29815/total_1)*100}')"
      ],
      "execution_count": 0,
      "outputs": [
        {
          "output_type": "stream",
          "text": [
            "No history defaulters = 58.910118353717564\n"
          ],
          "name": "stdout"
        }
      ]
    },
    {
      "cell_type": "code",
      "metadata": {
        "id": "GSpgwLixI8B_",
        "colab_type": "code",
        "outputId": "e3a614d6-7831-4234-b254-8e8f710d3f92",
        "colab": {
          "base_uri": "https://localhost:8080/",
          "height": 395
        }
      },
      "source": [
        "train['PERFORM_CNS.SCORE.DESCRIPTION'].value_counts()"
      ],
      "execution_count": 0,
      "outputs": [
        {
          "output_type": "execute_result",
          "data": {
            "text/plain": [
              "No Bureau History Available                                116950\n",
              "C-Very Low Risk                                             16045\n",
              "A-Very Low Risk                                             14124\n",
              "D-Very Low Risk                                             11358\n",
              "B-Very Low Risk                                              9201\n",
              "M-Very High Risk                                             8776\n",
              "F-Low Risk                                                   8485\n",
              "K-High Risk                                                  8277\n",
              "H-Medium Risk                                                6855\n",
              "E-Low Risk                                                   5821\n",
              "I-Medium Risk                                                5557\n",
              "G-Low Risk                                                   3988\n",
              "Not Scored: Sufficient History Not Available                 3765\n",
              "J-High Risk                                                  3748\n",
              "Not Scored: Not Enough Info available on the customer        3672\n",
              "Not Scored: No Activity seen on the customer (Inactive)      2885\n",
              "Not Scored: No Updates available in last 36 months           1534\n",
              "L-Very High Risk                                             1134\n",
              "Not Scored: Only a Guarantor                                  976\n",
              "Not Scored: More than 50 active Accounts found                  3\n",
              "Name: PERFORM_CNS.SCORE.DESCRIPTION, dtype: int64"
            ]
          },
          "metadata": {
            "tags": []
          },
          "execution_count": 120
        }
      ]
    },
    {
      "cell_type": "code",
      "metadata": {
        "id": "DCWsIsWmJQVI",
        "colab_type": "code",
        "outputId": "1ab98527-a621-455c-e330-f19d21a19189",
        "colab": {
          "base_uri": "https://localhost:8080/",
          "height": 807
        }
      },
      "source": [
        "plt.figure(figsize=(10,8))\n",
        "ax = sns.countplot(x=\"PERFORM_CNS.SCORE.DESCRIPTION\", data=train)\n",
        "plt.xticks(rotation=90)"
      ],
      "execution_count": 0,
      "outputs": [
        {
          "output_type": "execute_result",
          "data": {
            "text/plain": [
              "(array([ 0,  1,  2,  3,  4,  5,  6,  7,  8,  9, 10, 11, 12, 13, 14, 15, 16,\n",
              "        17, 18, 19]), <a list of 20 Text xticklabel objects>)"
            ]
          },
          "metadata": {
            "tags": []
          },
          "execution_count": 121
        },
        {
          "output_type": "display_data",
          "data": {
            "image/png": "[encoded data removed]",
            "text/plain": [
              "<Figure size 720x576 with 1 Axes>"
            ]
          },
          "metadata": {
            "tags": []
          }
        }
      ]
    },
    {
      "cell_type": "code",
      "metadata": {
        "id": "j60ep1MlKD-s",
        "colab_type": "code",
        "outputId": "8ccd172c-7b5f-4d04-e6aa-39a0cd95c37a",
        "colab": {
          "base_uri": "https://localhost:8080/",
          "height": 827
        }
      },
      "source": [
        "plt.figure(figsize=(15,8))\n",
        "ax = sns.countplot(x=\"PERFORM_CNS.SCORE.DESCRIPTION\", hue='loan_default',data=train)\n",
        "plt.xticks(rotation=90)"
      ],
      "execution_count": 0,
      "outputs": [
        {
          "output_type": "execute_result",
          "data": {
            "text/plain": [
              "(array([ 0,  1,  2,  3,  4,  5,  6,  7,  8,  9, 10, 11, 12, 13, 14, 15, 16,\n",
              "        17, 18, 19]), <a list of 20 Text xticklabel objects>)"
            ]
          },
          "metadata": {
            "tags": []
          },
          "execution_count": 122
        },
        {
          "output_type": "display_data",
          "data": {
            "image/png": "[encoded data removed]",
            "text/plain": [
              "<Figure size 1080x576 with 1 Axes>"
            ]
          },
          "metadata": {
            "tags": []
          }
        }
      ]
    },
    {
      "cell_type": "markdown",
      "metadata": {
        "id": "NAYCP76bfTM9",
        "colab_type": "text"
      },
      "source": [
        "##**PRI.NO.OF.ACCTS**\n",
        "Count of total loans taken by the customer at the time of disbursement"
      ]
    },
    {
      "cell_type": "code",
      "metadata": {
        "id": "yAaNmyQzfkNf",
        "colab_type": "code",
        "outputId": "e3308354-fa4c-45d5-b796-63e7374b6129",
        "colab": {
          "base_uri": "https://localhost:8080/",
          "height": 125
        }
      },
      "source": [
        "train['PRI.NO.OF.ACCTS'].head()"
      ],
      "execution_count": 0,
      "outputs": [
        {
          "output_type": "execute_result",
          "data": {
            "text/plain": [
              "0    0\n",
              "1    1\n",
              "2    0\n",
              "3    3\n",
              "4    0\n",
              "Name: PRI.NO.OF.ACCTS, dtype: int64"
            ]
          },
          "metadata": {
            "tags": []
          },
          "execution_count": 123
        }
      ]
    },
    {
      "cell_type": "code",
      "metadata": {
        "id": "SR-kTNaefrbw",
        "colab_type": "code",
        "outputId": "6c5d1e31-dec9-4ec7-d37b-f04d6e6d9c23",
        "colab": {
          "base_uri": "https://localhost:8080/",
          "height": 381
        }
      },
      "source": [
        "plt.figure(figsize=(15,5))\n",
        "sns.countplot(x='PRI.NO.OF.ACCTS',data=train)\n",
        "plt.xticks(rotation=90)\n",
        "plt.xlim(0,50)"
      ],
      "execution_count": 0,
      "outputs": [
        {
          "output_type": "execute_result",
          "data": {
            "text/plain": [
              "(0, 50)"
            ]
          },
          "metadata": {
            "tags": []
          },
          "execution_count": 124
        },
        {
          "output_type": "display_data",
          "data": {
            "image/png": "[encoded data removed]",
            "text/plain": [
              "<Figure size 1080x360 with 1 Axes>"
            ]
          },
          "metadata": {
            "tags": []
          }
        }
      ]
    },
    {
      "cell_type": "code",
      "metadata": {
        "id": "RBSaG3AJf1yO",
        "colab_type": "code",
        "outputId": "ea4e79ee-52f3-4818-a800-f04629778c16",
        "colab": {
          "base_uri": "https://localhost:8080/",
          "height": 1133
        }
      },
      "source": [
        "train['PRI.NO.OF.ACCTS'].value_counts()"
      ],
      "execution_count": 0,
      "outputs": [
        {
          "output_type": "execute_result",
          "data": {
            "text/plain": [
              "0      116950\n",
              "1       34978\n",
              "2       19784\n",
              "3       13015\n",
              "4        9323\n",
              "5        7222\n",
              "6        5557\n",
              "7        4411\n",
              "8        3570\n",
              "9        2884\n",
              "10       2358\n",
              "11       1919\n",
              "12       1567\n",
              "13       1401\n",
              "14       1132\n",
              "15        941\n",
              "16        798\n",
              "17        652\n",
              "18        573\n",
              "19        503\n",
              "20        436\n",
              "21        347\n",
              "22        323\n",
              "24        286\n",
              "23        250\n",
              "25        187\n",
              "26        170\n",
              "27        153\n",
              "28        141\n",
              "29        130\n",
              "        ...  \n",
              "87          3\n",
              "108         2\n",
              "94          2\n",
              "90          2\n",
              "84          2\n",
              "82          2\n",
              "81          2\n",
              "148         2\n",
              "73          2\n",
              "70          2\n",
              "354         1\n",
              "131         1\n",
              "104         1\n",
              "132         1\n",
              "102         1\n",
              "100         1\n",
              "113         1\n",
              "114         1\n",
              "99          1\n",
              "86          1\n",
              "136         1\n",
              "88          1\n",
              "453         1\n",
              "271         1\n",
              "85          1\n",
              "83          1\n",
              "147         1\n",
              "120         1\n",
              "194         1\n",
              "124         1\n",
              "Name: PRI.NO.OF.ACCTS, Length: 108, dtype: int64"
            ]
          },
          "metadata": {
            "tags": []
          },
          "execution_count": 125
        }
      ]
    },
    {
      "cell_type": "code",
      "metadata": {
        "id": "-kD1jpr5gcBQ",
        "colab_type": "code",
        "outputId": "808ac016-dd85-4c23-8239-4186c96b2930",
        "colab": {
          "base_uri": "https://localhost:8080/",
          "height": 358
        }
      },
      "source": [
        "plt.figure(figsize=(15,5))\n",
        "sns.distplot(train['PRI.NO.OF.ACCTS'],kde=False,bins=100)"
      ],
      "execution_count": 0,
      "outputs": [
        {
          "output_type": "execute_result",
          "data": {
            "text/plain": [
              "<matplotlib.axes._subplots.AxesSubplot at 0x7f2efe6a9240>"
            ]
          },
          "metadata": {
            "tags": []
          },
          "execution_count": 126
        },
        {
          "output_type": "display_data",
          "data": {
            "image/png": "[encoded data removed]",
            "text/plain": [
              "<Figure size 1080x360 with 1 Axes>"
            ]
          },
          "metadata": {
            "tags": []
          }
        }
      ]
    },
    {
      "cell_type": "code",
      "metadata": {
        "id": "fcTGG4W_g2aa",
        "colab_type": "code",
        "outputId": "96e39fe4-a824-4ede-8713-627ea64abcc5",
        "colab": {
          "base_uri": "https://localhost:8080/",
          "height": 358
        }
      },
      "source": [
        "plt.figure(figsize=(15,5))\n",
        "sns.distplot(train.loc[train['loan_default']==1,'PRI.NO.OF.ACCTS'],kde=False,bins=100,label='ld1')\n",
        "sns.distplot(train.loc[train['loan_default']==0,'PRI.NO.OF.ACCTS'],kde=False,bins=100,label='ld0')\n",
        "plt.legend()\n",
        "plt.xlim(0,50)"
      ],
      "execution_count": 0,
      "outputs": [
        {
          "output_type": "execute_result",
          "data": {
            "text/plain": [
              "(0, 50)"
            ]
          },
          "metadata": {
            "tags": []
          },
          "execution_count": 127
        },
        {
          "output_type": "display_data",
          "data": {
            "image/png": "[encoded data removed]",
            "text/plain": [
              "<Figure size 1080x360 with 1 Axes>"
            ]
          },
          "metadata": {
            "tags": []
          }
        }
      ]
    },
    {
      "cell_type": "code",
      "metadata": {
        "id": "JE4fw9omip7B",
        "colab_type": "code",
        "outputId": "fe66c20d-cd9c-47e8-f168-b81b1b9ad267",
        "colab": {
          "base_uri": "https://localhost:8080/",
          "height": 35
        }
      },
      "source": [
        "train['PRI.NO.OF.ACCTS'].mean()"
      ],
      "execution_count": 0,
      "outputs": [
        {
          "output_type": "execute_result",
          "data": {
            "text/plain": [
              "2.4406358029456925"
            ]
          },
          "metadata": {
            "tags": []
          },
          "execution_count": 128
        }
      ]
    },
    {
      "cell_type": "markdown",
      "metadata": {
        "id": "70oV5qLFk81m",
        "colab_type": "text"
      },
      "source": [
        "Checking out the mean does show that on an average people took almost 3 loans at time of disbursement but the data also have some number of loans above 100. Is this misleading or a true case? Although the data maker has kept distributions of label 0 and 1 loan defaulters same, the distibution plot shows decreasing rate of defaulters as the number of initial loan taken increases."
      ]
    },
    {
      "cell_type": "markdown",
      "metadata": {
        "id": "d47wTCTJp7u5",
        "colab_type": "text"
      },
      "source": [
        "##**PRI.ACTIVE.ACCTS**\n",
        "Count of active loans taken by the customer at the time of disbursement"
      ]
    },
    {
      "cell_type": "code",
      "metadata": {
        "id": "jx2Bsv2YjwvU",
        "colab_type": "code",
        "outputId": "cf3f9206-743a-47f8-a874-a8e7ed1d2959",
        "colab": {
          "base_uri": "https://localhost:8080/",
          "height": 125
        }
      },
      "source": [
        "train['PRI.ACTIVE.ACCTS'].head()"
      ],
      "execution_count": 0,
      "outputs": [
        {
          "output_type": "execute_result",
          "data": {
            "text/plain": [
              "0    0\n",
              "1    1\n",
              "2    0\n",
              "3    0\n",
              "4    0\n",
              "Name: PRI.ACTIVE.ACCTS, dtype: int64"
            ]
          },
          "metadata": {
            "tags": []
          },
          "execution_count": 129
        }
      ]
    },
    {
      "cell_type": "code",
      "metadata": {
        "id": "Pd_lnnFbqb65",
        "colab_type": "code",
        "outputId": "aecca85a-f5cd-4f4b-f270-6b294095cb8e",
        "colab": {
          "base_uri": "https://localhost:8080/",
          "height": 755
        }
      },
      "source": [
        "train['PRI.ACTIVE.ACCTS'].value_counts()"
      ],
      "execution_count": 0,
      "outputs": [
        {
          "output_type": "execute_result",
          "data": {
            "text/plain": [
              "0      137016\n",
              "1       42055\n",
              "2       21549\n",
              "3       12268\n",
              "4        7460\n",
              "5        4542\n",
              "6        2788\n",
              "7        1795\n",
              "8        1202\n",
              "9         756\n",
              "10        515\n",
              "11        330\n",
              "12        229\n",
              "13        177\n",
              "14        120\n",
              "15         96\n",
              "17         54\n",
              "16         53\n",
              "18         33\n",
              "19         27\n",
              "20         13\n",
              "22         10\n",
              "23         10\n",
              "24         10\n",
              "21          9\n",
              "25          7\n",
              "26          6\n",
              "28          5\n",
              "27          3\n",
              "31          2\n",
              "32          2\n",
              "34          2\n",
              "35          2\n",
              "37          2\n",
              "52          1\n",
              "144         1\n",
              "39          1\n",
              "42          1\n",
              "43          1\n",
              "65          1\n",
              "Name: PRI.ACTIVE.ACCTS, dtype: int64"
            ]
          },
          "metadata": {
            "tags": []
          },
          "execution_count": 130
        }
      ]
    },
    {
      "cell_type": "code",
      "metadata": {
        "id": "x9um85nYq4if",
        "colab_type": "code",
        "outputId": "95d656bc-2ba6-4db3-cfe2-b451e533b7c6",
        "colab": {
          "base_uri": "https://localhost:8080/",
          "height": 423
        }
      },
      "source": [
        "plt.figure(figsize=(15,5))\n",
        "sns.countplot(x='PRI.ACTIVE.ACCTS',data=train,color='yellow')\n",
        "plt.xticks(rotation=90)"
      ],
      "execution_count": 0,
      "outputs": [
        {
          "output_type": "execute_result",
          "data": {
            "text/plain": [
              "(array([ 0,  1,  2,  3,  4,  5,  6,  7,  8,  9, 10, 11, 12, 13, 14, 15, 16,\n",
              "        17, 18, 19, 20, 21, 22, 23, 24, 25, 26, 27, 28, 29, 30, 31, 32, 33,\n",
              "        34, 35, 36, 37, 38, 39]), <a list of 40 Text xticklabel objects>)"
            ]
          },
          "metadata": {
            "tags": []
          },
          "execution_count": 131
        },
        {
          "output_type": "display_data",
          "data": {
            "image/png": "[encoded data removed]",
            "text/plain": [
              "<Figure size 1080x360 with 1 Axes>"
            ]
          },
          "metadata": {
            "tags": []
          }
        }
      ]
    },
    {
      "cell_type": "code",
      "metadata": {
        "id": "ZBbxMpeVu8qu",
        "colab_type": "code",
        "colab": {}
      },
      "source": [
        "train['diff_total_to_active'] = train['PRI.NO.OF.ACCTS'] - train['PRI.ACTIVE.ACCTS']"
      ],
      "execution_count": 0,
      "outputs": []
    },
    {
      "cell_type": "code",
      "metadata": {
        "id": "lTKbY07BBffM",
        "colab_type": "code",
        "colab": {}
      },
      "source": [
        "test['diff_total_to_active'] = test['PRI.NO.OF.ACCTS'] - test['PRI.ACTIVE.ACCTS']"
      ],
      "execution_count": 0,
      "outputs": []
    },
    {
      "cell_type": "code",
      "metadata": {
        "id": "H4gUryPNva2k",
        "colab_type": "code",
        "outputId": "5790f8e6-bac4-4985-94a4-7b3df215ecaa",
        "colab": {
          "base_uri": "https://localhost:8080/",
          "height": 381
        }
      },
      "source": [
        "plt.figure(figsize=(15,5))\n",
        "sns.countplot(x='PRI.ACTIVE.ACCTS',data=train,label='active',color='cyan')\n",
        "sns.countplot(x='diff_total_to_active',data=train,label='closed',color='yellow')\n",
        "plt.xticks(rotation=90)\n",
        "plt.xlim(0,20)\n",
        "plt.legend()"
      ],
      "execution_count": 0,
      "outputs": [
        {
          "output_type": "execute_result",
          "data": {
            "text/plain": [
              "<matplotlib.legend.Legend at 0x7f2efe0239e8>"
            ]
          },
          "metadata": {
            "tags": []
          },
          "execution_count": 133
        },
        {
          "output_type": "display_data",
          "data": {
            "image/png": "[encoded data removed]",
            "text/plain": [
              "<Figure size 1080x360 with 1 Axes>"
            ]
          },
          "metadata": {
            "tags": []
          }
        }
      ]
    },
    {
      "cell_type": "markdown",
      "metadata": {
        "id": "Xr93h3NyyYY8",
        "colab_type": "text"
      },
      "source": [
        "##**PRI.OVERDUE.ACCTS**\n",
        "Count of default accounts at the time of disbursement"
      ]
    },
    {
      "cell_type": "code",
      "metadata": {
        "id": "kRH9Oh21v1-r",
        "colab_type": "code",
        "outputId": "e3290126-2cff-4b74-f0f5-6b24f1597e1b",
        "colab": {
          "base_uri": "https://localhost:8080/",
          "height": 358
        }
      },
      "source": [
        "plt.figure(figsize=(10,5))\n",
        "sns.countplot(train['PRI.OVERDUE.ACCTS'],hue='loan_default',data=train)"
      ],
      "execution_count": 0,
      "outputs": [
        {
          "output_type": "execute_result",
          "data": {
            "text/plain": [
              "<matplotlib.axes._subplots.AxesSubplot at 0x7f2efe12bcc0>"
            ]
          },
          "metadata": {
            "tags": []
          },
          "execution_count": 134
        },
        {
          "output_type": "display_data",
          "data": {
            "image/png": "[encoded data removed]",
            "text/plain": [
              "<Figure size 720x360 with 1 Axes>"
            ]
          },
          "metadata": {
            "tags": []
          }
        }
      ]
    },
    {
      "cell_type": "markdown",
      "metadata": {
        "id": "EpTYstBz5hEn",
        "colab_type": "text"
      },
      "source": [
        "##**Employment Type**"
      ]
    },
    {
      "cell_type": "code",
      "metadata": {
        "id": "DwTyLIFA5m8t",
        "colab_type": "code",
        "outputId": "6b7c6051-b2ab-4d7b-913d-e81e21cbe826",
        "colab": {
          "base_uri": "https://localhost:8080/",
          "height": 71
        }
      },
      "source": [
        "train['Employment.Type'].value_counts()"
      ],
      "execution_count": 0,
      "outputs": [
        {
          "output_type": "execute_result",
          "data": {
            "text/plain": [
              "Self employed    127635\n",
              "Salaried          97858\n",
              "Name: Employment.Type, dtype: int64"
            ]
          },
          "metadata": {
            "tags": []
          },
          "execution_count": 135
        }
      ]
    },
    {
      "cell_type": "code",
      "metadata": {
        "id": "Ce3NNjUz5zpQ",
        "colab_type": "code",
        "outputId": "8198e257-9a33-42e8-d7a2-43f4f0289702",
        "colab": {
          "base_uri": "https://localhost:8080/",
          "height": 304
        }
      },
      "source": [
        "sns.countplot(x='Employment.Type',hue='loan_default',data=train)"
      ],
      "execution_count": 0,
      "outputs": [
        {
          "output_type": "execute_result",
          "data": {
            "text/plain": [
              "<matplotlib.axes._subplots.AxesSubplot at 0x7f2efe0598d0>"
            ]
          },
          "metadata": {
            "tags": []
          },
          "execution_count": 136
        },
        {
          "output_type": "display_data",
          "data": {
            "image/png": "[encoded data removed]",
            "text/plain": [
              "<Figure size 432x288 with 1 Axes>"
            ]
          },
          "metadata": {
            "tags": []
          }
        }
      ]
    },
    {
      "cell_type": "markdown",
      "metadata": {
        "id": "LaG3Vhv2i9uH",
        "colab_type": "text"
      },
      "source": [
        "##**'AVERAGE.ACCT.AGE' and 'CREDIT.HISTORY.LENGTH'**"
      ]
    },
    {
      "cell_type": "code",
      "metadata": {
        "id": "NTKQduQujCwN",
        "colab_type": "code",
        "outputId": "36bb18d6-3a51-476f-b2cb-d7678ddaefda",
        "colab": {
          "base_uri": "https://localhost:8080/",
          "height": 204
        }
      },
      "source": [
        "train[['AVERAGE.ACCT.AGE','CREDIT.HISTORY.LENGTH']].head()"
      ],
      "execution_count": 0,
      "outputs": [
        {
          "output_type": "execute_result",
          "data": {
            "text/html": [
              "<div>\n",
              "<style scoped>\n",
              "    .dataframe tbody tr th:only-of-type {\n",
              "        vertical-align: middle;\n",
              "    }\n",
              "\n",
              "    .dataframe tbody tr th {\n",
              "        vertical-align: top;\n",
              "    }\n",
              "\n",
              "    .dataframe thead th {\n",
              "        text-align: right;\n",
              "    }\n",
              "</style>\n",
              "<table border=\"1\" class=\"dataframe\">\n",
              "  <thead>\n",
              "    <tr style=\"text-align: right;\">\n",
              "      <th></th>\n",
              "      <th>AVERAGE.ACCT.AGE</th>\n",
              "      <th>CREDIT.HISTORY.LENGTH</th>\n",
              "    </tr>\n",
              "  </thead>\n",
              "  <tbody>\n",
              "    <tr>\n",
              "      <th>0</th>\n",
              "      <td>0yrs 0mon</td>\n",
              "      <td>0yrs 0mon</td>\n",
              "    </tr>\n",
              "    <tr>\n",
              "      <th>1</th>\n",
              "      <td>1yrs 11mon</td>\n",
              "      <td>1yrs 11mon</td>\n",
              "    </tr>\n",
              "    <tr>\n",
              "      <th>2</th>\n",
              "      <td>0yrs 0mon</td>\n",
              "      <td>0yrs 0mon</td>\n",
              "    </tr>\n",
              "    <tr>\n",
              "      <th>3</th>\n",
              "      <td>0yrs 8mon</td>\n",
              "      <td>1yrs 3mon</td>\n",
              "    </tr>\n",
              "    <tr>\n",
              "      <th>4</th>\n",
              "      <td>0yrs 0mon</td>\n",
              "      <td>0yrs 0mon</td>\n",
              "    </tr>\n",
              "  </tbody>\n",
              "</table>\n",
              "</div>"
            ],
            "text/plain": [
              "  AVERAGE.ACCT.AGE CREDIT.HISTORY.LENGTH\n",
              "0        0yrs 0mon             0yrs 0mon\n",
              "1       1yrs 11mon            1yrs 11mon\n",
              "2        0yrs 0mon             0yrs 0mon\n",
              "3        0yrs 8mon             1yrs 3mon\n",
              "4        0yrs 0mon             0yrs 0mon"
            ]
          },
          "metadata": {
            "tags": []
          },
          "execution_count": 186
        }
      ]
    },
    {
      "cell_type": "code",
      "metadata": {
        "id": "PG0Pa8O8jXzk",
        "colab_type": "code",
        "colab": {}
      },
      "source": [
        "train['AVERAGE.ACCT.AGE.YEAR'] = train['AVERAGE.ACCT.AGE'].apply(lambda x: int(x.split(' ')[0][0]))\n",
        "train['AVERAGE.ACCT.AGE.MONTH'] = train['AVERAGE.ACCT.AGE'].apply(lambda x: int(x.split(' ')[1][0]))"
      ],
      "execution_count": 0,
      "outputs": []
    },
    {
      "cell_type": "code",
      "metadata": {
        "id": "lwcjOqpUlBMR",
        "colab_type": "code",
        "outputId": "040a9b03-cbf5-4fb0-b88a-521ac8f4f15c",
        "colab": {
          "base_uri": "https://localhost:8080/",
          "height": 204
        }
      },
      "source": [
        "train[['AVERAGE.ACCT.AGE.YEAR','AVERAGE.ACCT.AGE.MONTH']].head()"
      ],
      "execution_count": 0,
      "outputs": [
        {
          "output_type": "execute_result",
          "data": {
            "text/html": [
              "<div>\n",
              "<style scoped>\n",
              "    .dataframe tbody tr th:only-of-type {\n",
              "        vertical-align: middle;\n",
              "    }\n",
              "\n",
              "    .dataframe tbody tr th {\n",
              "        vertical-align: top;\n",
              "    }\n",
              "\n",
              "    .dataframe thead th {\n",
              "        text-align: right;\n",
              "    }\n",
              "</style>\n",
              "<table border=\"1\" class=\"dataframe\">\n",
              "  <thead>\n",
              "    <tr style=\"text-align: right;\">\n",
              "      <th></th>\n",
              "      <th>AVERAGE.ACCT.AGE.YEAR</th>\n",
              "      <th>AVERAGE.ACCT.AGE.MONTH</th>\n",
              "    </tr>\n",
              "  </thead>\n",
              "  <tbody>\n",
              "    <tr>\n",
              "      <th>0</th>\n",
              "      <td>0</td>\n",
              "      <td>0</td>\n",
              "    </tr>\n",
              "    <tr>\n",
              "      <th>1</th>\n",
              "      <td>1</td>\n",
              "      <td>1</td>\n",
              "    </tr>\n",
              "    <tr>\n",
              "      <th>2</th>\n",
              "      <td>0</td>\n",
              "      <td>0</td>\n",
              "    </tr>\n",
              "    <tr>\n",
              "      <th>3</th>\n",
              "      <td>0</td>\n",
              "      <td>8</td>\n",
              "    </tr>\n",
              "    <tr>\n",
              "      <th>4</th>\n",
              "      <td>0</td>\n",
              "      <td>0</td>\n",
              "    </tr>\n",
              "  </tbody>\n",
              "</table>\n",
              "</div>"
            ],
            "text/plain": [
              "   AVERAGE.ACCT.AGE.YEAR  AVERAGE.ACCT.AGE.MONTH\n",
              "0                      0                       0\n",
              "1                      1                       1\n",
              "2                      0                       0\n",
              "3                      0                       8\n",
              "4                      0                       0"
            ]
          },
          "metadata": {
            "tags": []
          },
          "execution_count": 188
        }
      ]
    },
    {
      "cell_type": "code",
      "metadata": {
        "id": "a1LvTKSLlQg5",
        "colab_type": "code",
        "colab": {}
      },
      "source": [
        "train['CREDIT.HISTORY.LENGTH.YEAR'] = train['CREDIT.HISTORY.LENGTH'].apply(lambda x: int(x.split(' ')[0][0]))\n",
        "train['CREDIT.HISTORY.LENGTH.MONTH'] = train['CREDIT.HISTORY.LENGTH'].apply(lambda x: int(x.split(' ')[1][0]))"
      ],
      "execution_count": 0,
      "outputs": []
    },
    {
      "cell_type": "code",
      "metadata": {
        "id": "PUiJPpB1lgsv",
        "colab_type": "code",
        "outputId": "b710cba1-fea9-46e5-da3c-baead85a28df",
        "colab": {
          "base_uri": "https://localhost:8080/",
          "height": 204
        }
      },
      "source": [
        "train[['CREDIT.HISTORY.LENGTH.YEAR','CREDIT.HISTORY.LENGTH.MONTH']].head()"
      ],
      "execution_count": 0,
      "outputs": [
        {
          "output_type": "execute_result",
          "data": {
            "text/html": [
              "<div>\n",
              "<style scoped>\n",
              "    .dataframe tbody tr th:only-of-type {\n",
              "        vertical-align: middle;\n",
              "    }\n",
              "\n",
              "    .dataframe tbody tr th {\n",
              "        vertical-align: top;\n",
              "    }\n",
              "\n",
              "    .dataframe thead th {\n",
              "        text-align: right;\n",
              "    }\n",
              "</style>\n",
              "<table border=\"1\" class=\"dataframe\">\n",
              "  <thead>\n",
              "    <tr style=\"text-align: right;\">\n",
              "      <th></th>\n",
              "      <th>CREDIT.HISTORY.LENGTH.YEAR</th>\n",
              "      <th>CREDIT.HISTORY.LENGTH.MONTH</th>\n",
              "    </tr>\n",
              "  </thead>\n",
              "  <tbody>\n",
              "    <tr>\n",
              "      <th>0</th>\n",
              "      <td>0</td>\n",
              "      <td>0</td>\n",
              "    </tr>\n",
              "    <tr>\n",
              "      <th>1</th>\n",
              "      <td>1</td>\n",
              "      <td>1</td>\n",
              "    </tr>\n",
              "    <tr>\n",
              "      <th>2</th>\n",
              "      <td>0</td>\n",
              "      <td>0</td>\n",
              "    </tr>\n",
              "    <tr>\n",
              "      <th>3</th>\n",
              "      <td>1</td>\n",
              "      <td>3</td>\n",
              "    </tr>\n",
              "    <tr>\n",
              "      <th>4</th>\n",
              "      <td>0</td>\n",
              "      <td>0</td>\n",
              "    </tr>\n",
              "  </tbody>\n",
              "</table>\n",
              "</div>"
            ],
            "text/plain": [
              "   CREDIT.HISTORY.LENGTH.YEAR  CREDIT.HISTORY.LENGTH.MONTH\n",
              "0                           0                            0\n",
              "1                           1                            1\n",
              "2                           0                            0\n",
              "3                           1                            3\n",
              "4                           0                            0"
            ]
          },
          "metadata": {
            "tags": []
          },
          "execution_count": 190
        }
      ]
    },
    {
      "cell_type": "code",
      "metadata": {
        "id": "ofdL_lzo__FS",
        "colab_type": "code",
        "colab": {}
      },
      "source": [
        "test['AVERAGE.ACCT.AGE.YEAR'] = test['AVERAGE.ACCT.AGE'].apply(lambda x: int(x.split(' ')[0][0]))\n",
        "test['AVERAGE.ACCT.AGE.MONTH'] = test['AVERAGE.ACCT.AGE'].apply(lambda x: int(x.split(' ')[1][0]))"
      ],
      "execution_count": 0,
      "outputs": []
    },
    {
      "cell_type": "code",
      "metadata": {
        "id": "uS-XolNzDmBL",
        "colab_type": "code",
        "colab": {}
      },
      "source": [
        "test['CREDIT.HISTORY.LENGTH.YEAR'] = test['CREDIT.HISTORY.LENGTH'].apply(lambda x: int(x.split(' ')[0][0]))\n",
        "test['CREDIT.HISTORY.LENGTH.MONTH'] = test['CREDIT.HISTORY.LENGTH'].apply(lambda x: int(x.split(' ')[1][0]))"
      ],
      "execution_count": 0,
      "outputs": []
    },
    {
      "cell_type": "markdown",
      "metadata": {
        "id": "3VVYzpiH44OS",
        "colab_type": "text"
      },
      "source": [
        "##**Data Cleaning and prediction model**"
      ]
    },
    {
      "cell_type": "code",
      "metadata": {
        "id": "wf2QBhfCzBYT",
        "colab_type": "code",
        "outputId": "88fc2e31-d866-4cef-a16a-22a77d6f4269",
        "colab": {
          "base_uri": "https://localhost:8080/",
          "height": 827
        }
      },
      "source": [
        "train.isnull().any()"
      ],
      "execution_count": 0,
      "outputs": [
        {
          "output_type": "execute_result",
          "data": {
            "text/plain": [
              "UniqueID                               False\n",
              "disbursed_amount                       False\n",
              "asset_cost                             False\n",
              "ltv                                    False\n",
              "branch_id                              False\n",
              "supplier_id                            False\n",
              "manufacturer_id                        False\n",
              "Current_pincode_ID                     False\n",
              "Date.of.Birth                          False\n",
              "Employment.Type                         True\n",
              "DisbursalDate                          False\n",
              "State_ID                               False\n",
              "Employee_code_ID                       False\n",
              "MobileNo_Avl_Flag                      False\n",
              "Aadhar_flag                            False\n",
              "PAN_flag                               False\n",
              "VoterID_flag                           False\n",
              "Driving_flag                           False\n",
              "Passport_flag                          False\n",
              "PERFORM_CNS.SCORE                      False\n",
              "PERFORM_CNS.SCORE.DESCRIPTION          False\n",
              "PRI.NO.OF.ACCTS                        False\n",
              "PRI.ACTIVE.ACCTS                       False\n",
              "PRI.OVERDUE.ACCTS                      False\n",
              "PRI.CURRENT.BALANCE                    False\n",
              "PRI.SANCTIONED.AMOUNT                  False\n",
              "PRI.DISBURSED.AMOUNT                   False\n",
              "SEC.NO.OF.ACCTS                        False\n",
              "SEC.ACTIVE.ACCTS                       False\n",
              "SEC.OVERDUE.ACCTS                      False\n",
              "SEC.CURRENT.BALANCE                    False\n",
              "SEC.SANCTIONED.AMOUNT                  False\n",
              "SEC.DISBURSED.AMOUNT                   False\n",
              "PRIMARY.INSTAL.AMT                     False\n",
              "SEC.INSTAL.AMT                         False\n",
              "NEW.ACCTS.IN.LAST.SIX.MONTHS           False\n",
              "DELINQUENT.ACCTS.IN.LAST.SIX.MONTHS    False\n",
              "AVERAGE.ACCT.AGE                       False\n",
              "CREDIT.HISTORY.LENGTH                  False\n",
              "NO.OF_INQUIRIES                        False\n",
              "loan_default                           False\n",
              "AgeAtDisbursal                         False\n",
              "idCheck                                False\n",
              "diff_total_to_active                   False\n",
              "dtype: bool"
            ]
          },
          "metadata": {
            "tags": []
          },
          "execution_count": 137
        }
      ]
    },
    {
      "cell_type": "code",
      "metadata": {
        "id": "VKt9yZzS7RQ8",
        "colab_type": "code",
        "outputId": "836be6a1-3228-4713-b836-6a8737a61781",
        "colab": {
          "base_uri": "https://localhost:8080/",
          "height": 89
        }
      },
      "source": [
        "train['Employment.Type'] = train['Employment.Type'].astype(\"category\").cat.codes\n",
        "train['Employment.Type'].value_counts()"
      ],
      "execution_count": 0,
      "outputs": [
        {
          "output_type": "execute_result",
          "data": {
            "text/plain": [
              "2    127635\n",
              "1     97858\n",
              "0      7661\n",
              "Name: Employment.Type, dtype: int64"
            ]
          },
          "metadata": {
            "tags": []
          },
          "execution_count": 194
        }
      ]
    },
    {
      "cell_type": "code",
      "metadata": {
        "id": "bP8Tc9eg7qAK",
        "colab_type": "code",
        "outputId": "5cbeb5e8-03e7-487a-fb8d-e1cf18d56dc0",
        "colab": {
          "base_uri": "https://localhost:8080/",
          "height": 287
        }
      },
      "source": [
        "train_encoded = pd.get_dummies(train, columns=['PERFORM_CNS.SCORE.DESCRIPTION'])\n",
        "train_encoded.head()"
      ],
      "execution_count": 0,
      "outputs": [
        {
          "output_type": "execute_result",
          "data": {
            "text/html": [
              "<div>\n",
              "<style scoped>\n",
              "    .dataframe tbody tr th:only-of-type {\n",
              "        vertical-align: middle;\n",
              "    }\n",
              "\n",
              "    .dataframe tbody tr th {\n",
              "        vertical-align: top;\n",
              "    }\n",
              "\n",
              "    .dataframe thead th {\n",
              "        text-align: right;\n",
              "    }\n",
              "</style>\n",
              "<table border=\"1\" class=\"dataframe\">\n",
              "  <thead>\n",
              "    <tr style=\"text-align: right;\">\n",
              "      <th></th>\n",
              "      <th>UniqueID</th>\n",
              "      <th>disbursed_amount</th>\n",
              "      <th>asset_cost</th>\n",
              "      <th>ltv</th>\n",
              "      <th>branch_id</th>\n",
              "      <th>supplier_id</th>\n",
              "      <th>manufacturer_id</th>\n",
              "      <th>Current_pincode_ID</th>\n",
              "      <th>Date.of.Birth</th>\n",
              "      <th>Employment.Type</th>\n",
              "      <th>...</th>\n",
              "      <th>PERFORM_CNS.SCORE.DESCRIPTION_K-High Risk</th>\n",
              "      <th>PERFORM_CNS.SCORE.DESCRIPTION_L-Very High Risk</th>\n",
              "      <th>PERFORM_CNS.SCORE.DESCRIPTION_M-Very High Risk</th>\n",
              "      <th>PERFORM_CNS.SCORE.DESCRIPTION_No Bureau History Available</th>\n",
              "      <th>PERFORM_CNS.SCORE.DESCRIPTION_Not Scored: More than 50 active Accounts found</th>\n",
              "      <th>PERFORM_CNS.SCORE.DESCRIPTION_Not Scored: No Activity seen on the customer (Inactive)</th>\n",
              "      <th>PERFORM_CNS.SCORE.DESCRIPTION_Not Scored: No Updates available in last 36 months</th>\n",
              "      <th>PERFORM_CNS.SCORE.DESCRIPTION_Not Scored: Not Enough Info available on the customer</th>\n",
              "      <th>PERFORM_CNS.SCORE.DESCRIPTION_Not Scored: Only a Guarantor</th>\n",
              "      <th>PERFORM_CNS.SCORE.DESCRIPTION_Not Scored: Sufficient History Not Available</th>\n",
              "    </tr>\n",
              "  </thead>\n",
              "  <tbody>\n",
              "    <tr>\n",
              "      <th>0</th>\n",
              "      <td>420825</td>\n",
              "      <td>50578</td>\n",
              "      <td>58400</td>\n",
              "      <td>89.55</td>\n",
              "      <td>67</td>\n",
              "      <td>22807</td>\n",
              "      <td>45</td>\n",
              "      <td>1441</td>\n",
              "      <td>1984-01-01</td>\n",
              "      <td>1</td>\n",
              "      <td>...</td>\n",
              "      <td>0</td>\n",
              "      <td>0</td>\n",
              "      <td>0</td>\n",
              "      <td>1</td>\n",
              "      <td>0</td>\n",
              "      <td>0</td>\n",
              "      <td>0</td>\n",
              "      <td>0</td>\n",
              "      <td>0</td>\n",
              "      <td>0</td>\n",
              "    </tr>\n",
              "    <tr>\n",
              "      <th>1</th>\n",
              "      <td>537409</td>\n",
              "      <td>47145</td>\n",
              "      <td>65550</td>\n",
              "      <td>73.23</td>\n",
              "      <td>67</td>\n",
              "      <td>22807</td>\n",
              "      <td>45</td>\n",
              "      <td>1502</td>\n",
              "      <td>1985-07-31</td>\n",
              "      <td>2</td>\n",
              "      <td>...</td>\n",
              "      <td>0</td>\n",
              "      <td>0</td>\n",
              "      <td>0</td>\n",
              "      <td>0</td>\n",
              "      <td>0</td>\n",
              "      <td>0</td>\n",
              "      <td>0</td>\n",
              "      <td>0</td>\n",
              "      <td>0</td>\n",
              "      <td>0</td>\n",
              "    </tr>\n",
              "    <tr>\n",
              "      <th>2</th>\n",
              "      <td>417566</td>\n",
              "      <td>53278</td>\n",
              "      <td>61360</td>\n",
              "      <td>89.63</td>\n",
              "      <td>67</td>\n",
              "      <td>22807</td>\n",
              "      <td>45</td>\n",
              "      <td>1497</td>\n",
              "      <td>1985-08-24</td>\n",
              "      <td>2</td>\n",
              "      <td>...</td>\n",
              "      <td>0</td>\n",
              "      <td>0</td>\n",
              "      <td>0</td>\n",
              "      <td>1</td>\n",
              "      <td>0</td>\n",
              "      <td>0</td>\n",
              "      <td>0</td>\n",
              "      <td>0</td>\n",
              "      <td>0</td>\n",
              "      <td>0</td>\n",
              "    </tr>\n",
              "    <tr>\n",
              "      <th>3</th>\n",
              "      <td>624493</td>\n",
              "      <td>57513</td>\n",
              "      <td>66113</td>\n",
              "      <td>88.48</td>\n",
              "      <td>67</td>\n",
              "      <td>22807</td>\n",
              "      <td>45</td>\n",
              "      <td>1501</td>\n",
              "      <td>1993-12-30</td>\n",
              "      <td>2</td>\n",
              "      <td>...</td>\n",
              "      <td>0</td>\n",
              "      <td>1</td>\n",
              "      <td>0</td>\n",
              "      <td>0</td>\n",
              "      <td>0</td>\n",
              "      <td>0</td>\n",
              "      <td>0</td>\n",
              "      <td>0</td>\n",
              "      <td>0</td>\n",
              "      <td>0</td>\n",
              "    </tr>\n",
              "    <tr>\n",
              "      <th>4</th>\n",
              "      <td>539055</td>\n",
              "      <td>52378</td>\n",
              "      <td>60300</td>\n",
              "      <td>88.39</td>\n",
              "      <td>67</td>\n",
              "      <td>22807</td>\n",
              "      <td>45</td>\n",
              "      <td>1495</td>\n",
              "      <td>1977-09-12</td>\n",
              "      <td>2</td>\n",
              "      <td>...</td>\n",
              "      <td>0</td>\n",
              "      <td>0</td>\n",
              "      <td>0</td>\n",
              "      <td>1</td>\n",
              "      <td>0</td>\n",
              "      <td>0</td>\n",
              "      <td>0</td>\n",
              "      <td>0</td>\n",
              "      <td>0</td>\n",
              "      <td>0</td>\n",
              "    </tr>\n",
              "  </tbody>\n",
              "</table>\n",
              "<p>5 rows × 67 columns</p>\n",
              "</div>"
            ],
            "text/plain": [
              "   UniqueID  disbursed_amount  asset_cost    ltv  branch_id  supplier_id  \\\n",
              "0    420825             50578       58400  89.55         67        22807   \n",
              "1    537409             47145       65550  73.23         67        22807   \n",
              "2    417566             53278       61360  89.63         67        22807   \n",
              "3    624493             57513       66113  88.48         67        22807   \n",
              "4    539055             52378       60300  88.39         67        22807   \n",
              "\n",
              "   manufacturer_id  Current_pincode_ID Date.of.Birth  Employment.Type  \\\n",
              "0               45                1441    1984-01-01                1   \n",
              "1               45                1502    1985-07-31                2   \n",
              "2               45                1497    1985-08-24                2   \n",
              "3               45                1501    1993-12-30                2   \n",
              "4               45                1495    1977-09-12                2   \n",
              "\n",
              "                                      ...                                      \\\n",
              "0                                     ...                                       \n",
              "1                                     ...                                       \n",
              "2                                     ...                                       \n",
              "3                                     ...                                       \n",
              "4                                     ...                                       \n",
              "\n",
              "  PERFORM_CNS.SCORE.DESCRIPTION_K-High Risk  \\\n",
              "0                                         0   \n",
              "1                                         0   \n",
              "2                                         0   \n",
              "3                                         0   \n",
              "4                                         0   \n",
              "\n",
              "   PERFORM_CNS.SCORE.DESCRIPTION_L-Very High Risk  \\\n",
              "0                                               0   \n",
              "1                                               0   \n",
              "2                                               0   \n",
              "3                                               1   \n",
              "4                                               0   \n",
              "\n",
              "   PERFORM_CNS.SCORE.DESCRIPTION_M-Very High Risk  \\\n",
              "0                                               0   \n",
              "1                                               0   \n",
              "2                                               0   \n",
              "3                                               0   \n",
              "4                                               0   \n",
              "\n",
              "   PERFORM_CNS.SCORE.DESCRIPTION_No Bureau History Available  \\\n",
              "0                                                  1           \n",
              "1                                                  0           \n",
              "2                                                  1           \n",
              "3                                                  0           \n",
              "4                                                  1           \n",
              "\n",
              "   PERFORM_CNS.SCORE.DESCRIPTION_Not Scored: More than 50 active Accounts found  \\\n",
              "0                                                  0                              \n",
              "1                                                  0                              \n",
              "2                                                  0                              \n",
              "3                                                  0                              \n",
              "4                                                  0                              \n",
              "\n",
              "   PERFORM_CNS.SCORE.DESCRIPTION_Not Scored: No Activity seen on the customer (Inactive)  \\\n",
              "0                                                  0                                       \n",
              "1                                                  0                                       \n",
              "2                                                  0                                       \n",
              "3                                                  0                                       \n",
              "4                                                  0                                       \n",
              "\n",
              "   PERFORM_CNS.SCORE.DESCRIPTION_Not Scored: No Updates available in last 36 months  \\\n",
              "0                                                  0                                  \n",
              "1                                                  0                                  \n",
              "2                                                  0                                  \n",
              "3                                                  0                                  \n",
              "4                                                  0                                  \n",
              "\n",
              "   PERFORM_CNS.SCORE.DESCRIPTION_Not Scored: Not Enough Info available on the customer  \\\n",
              "0                                                  0                                     \n",
              "1                                                  0                                     \n",
              "2                                                  0                                     \n",
              "3                                                  0                                     \n",
              "4                                                  0                                     \n",
              "\n",
              "   PERFORM_CNS.SCORE.DESCRIPTION_Not Scored: Only a Guarantor  \\\n",
              "0                                                  0            \n",
              "1                                                  0            \n",
              "2                                                  0            \n",
              "3                                                  0            \n",
              "4                                                  0            \n",
              "\n",
              "   PERFORM_CNS.SCORE.DESCRIPTION_Not Scored: Sufficient History Not Available  \n",
              "0                                                  0                           \n",
              "1                                                  0                           \n",
              "2                                                  0                           \n",
              "3                                                  0                           \n",
              "4                                                  0                           \n",
              "\n",
              "[5 rows x 67 columns]"
            ]
          },
          "metadata": {
            "tags": []
          },
          "execution_count": 195
        }
      ]
    },
    {
      "cell_type": "code",
      "metadata": {
        "id": "iFOX-u9XCRYA",
        "colab_type": "code",
        "outputId": "f8b173ee-a403-4d80-e2f2-875f095ee868",
        "colab": {
          "base_uri": "https://localhost:8080/",
          "height": 89
        }
      },
      "source": [
        "test['Employment.Type'] = test['Employment.Type'].astype(\"category\").cat.codes\n",
        "test['Employment.Type'].value_counts()"
      ],
      "execution_count": 0,
      "outputs": [
        {
          "output_type": "execute_result",
          "data": {
            "text/plain": [
              "2    59794\n",
              "1    49155\n",
              "0     3443\n",
              "Name: Employment.Type, dtype: int64"
            ]
          },
          "metadata": {
            "tags": []
          },
          "execution_count": 350
        }
      ]
    },
    {
      "cell_type": "code",
      "metadata": {
        "id": "U7dcPh6PCbeS",
        "colab_type": "code",
        "outputId": "8e1d23e9-e13d-4352-c76e-720bed77f50a",
        "colab": {
          "base_uri": "https://localhost:8080/",
          "height": 287
        }
      },
      "source": [
        "test_encoded = pd.get_dummies(test, columns=['PERFORM_CNS.SCORE.DESCRIPTION'])\n",
        "test_encoded.head()"
      ],
      "execution_count": 0,
      "outputs": [
        {
          "output_type": "execute_result",
          "data": {
            "text/html": [
              "<div>\n",
              "<style scoped>\n",
              "    .dataframe tbody tr th:only-of-type {\n",
              "        vertical-align: middle;\n",
              "    }\n",
              "\n",
              "    .dataframe tbody tr th {\n",
              "        vertical-align: top;\n",
              "    }\n",
              "\n",
              "    .dataframe thead th {\n",
              "        text-align: right;\n",
              "    }\n",
              "</style>\n",
              "<table border=\"1\" class=\"dataframe\">\n",
              "  <thead>\n",
              "    <tr style=\"text-align: right;\">\n",
              "      <th></th>\n",
              "      <th>UniqueID</th>\n",
              "      <th>disbursed_amount</th>\n",
              "      <th>asset_cost</th>\n",
              "      <th>ltv</th>\n",
              "      <th>branch_id</th>\n",
              "      <th>supplier_id</th>\n",
              "      <th>manufacturer_id</th>\n",
              "      <th>Current_pincode_ID</th>\n",
              "      <th>Date.of.Birth</th>\n",
              "      <th>Employment.Type</th>\n",
              "      <th>...</th>\n",
              "      <th>PERFORM_CNS.SCORE.DESCRIPTION_J-High Risk</th>\n",
              "      <th>PERFORM_CNS.SCORE.DESCRIPTION_K-High Risk</th>\n",
              "      <th>PERFORM_CNS.SCORE.DESCRIPTION_L-Very High Risk</th>\n",
              "      <th>PERFORM_CNS.SCORE.DESCRIPTION_M-Very High Risk</th>\n",
              "      <th>PERFORM_CNS.SCORE.DESCRIPTION_No Bureau History Available</th>\n",
              "      <th>PERFORM_CNS.SCORE.DESCRIPTION_Not Scored: No Activity seen on the customer (Inactive)</th>\n",
              "      <th>PERFORM_CNS.SCORE.DESCRIPTION_Not Scored: No Updates available in last 36 months</th>\n",
              "      <th>PERFORM_CNS.SCORE.DESCRIPTION_Not Scored: Not Enough Info available on the customer</th>\n",
              "      <th>PERFORM_CNS.SCORE.DESCRIPTION_Not Scored: Only a Guarantor</th>\n",
              "      <th>PERFORM_CNS.SCORE.DESCRIPTION_Not Scored: Sufficient History Not Available</th>\n",
              "    </tr>\n",
              "  </thead>\n",
              "  <tbody>\n",
              "    <tr>\n",
              "      <th>0</th>\n",
              "      <td>655269</td>\n",
              "      <td>53478</td>\n",
              "      <td>63558</td>\n",
              "      <td>86.54</td>\n",
              "      <td>67</td>\n",
              "      <td>22807</td>\n",
              "      <td>45</td>\n",
              "      <td>1497</td>\n",
              "      <td>1974-01-01</td>\n",
              "      <td>1</td>\n",
              "      <td>...</td>\n",
              "      <td>0</td>\n",
              "      <td>0</td>\n",
              "      <td>0</td>\n",
              "      <td>0</td>\n",
              "      <td>1</td>\n",
              "      <td>0</td>\n",
              "      <td>0</td>\n",
              "      <td>0</td>\n",
              "      <td>0</td>\n",
              "      <td>0</td>\n",
              "    </tr>\n",
              "    <tr>\n",
              "      <th>1</th>\n",
              "      <td>723482</td>\n",
              "      <td>55513</td>\n",
              "      <td>63163</td>\n",
              "      <td>89.45</td>\n",
              "      <td>67</td>\n",
              "      <td>22807</td>\n",
              "      <td>45</td>\n",
              "      <td>1497</td>\n",
              "      <td>1985-05-20</td>\n",
              "      <td>2</td>\n",
              "      <td>...</td>\n",
              "      <td>0</td>\n",
              "      <td>0</td>\n",
              "      <td>0</td>\n",
              "      <td>0</td>\n",
              "      <td>0</td>\n",
              "      <td>0</td>\n",
              "      <td>0</td>\n",
              "      <td>0</td>\n",
              "      <td>0</td>\n",
              "      <td>0</td>\n",
              "    </tr>\n",
              "    <tr>\n",
              "      <th>2</th>\n",
              "      <td>758529</td>\n",
              "      <td>65282</td>\n",
              "      <td>84320</td>\n",
              "      <td>79.93</td>\n",
              "      <td>78</td>\n",
              "      <td>23135</td>\n",
              "      <td>86</td>\n",
              "      <td>2071</td>\n",
              "      <td>1995-10-14</td>\n",
              "      <td>1</td>\n",
              "      <td>...</td>\n",
              "      <td>0</td>\n",
              "      <td>0</td>\n",
              "      <td>0</td>\n",
              "      <td>0</td>\n",
              "      <td>1</td>\n",
              "      <td>0</td>\n",
              "      <td>0</td>\n",
              "      <td>0</td>\n",
              "      <td>0</td>\n",
              "      <td>0</td>\n",
              "    </tr>\n",
              "    <tr>\n",
              "      <th>3</th>\n",
              "      <td>763449</td>\n",
              "      <td>46905</td>\n",
              "      <td>63896</td>\n",
              "      <td>76.58</td>\n",
              "      <td>78</td>\n",
              "      <td>17014</td>\n",
              "      <td>45</td>\n",
              "      <td>2070</td>\n",
              "      <td>1973-01-06</td>\n",
              "      <td>2</td>\n",
              "      <td>...</td>\n",
              "      <td>0</td>\n",
              "      <td>0</td>\n",
              "      <td>0</td>\n",
              "      <td>0</td>\n",
              "      <td>0</td>\n",
              "      <td>0</td>\n",
              "      <td>0</td>\n",
              "      <td>0</td>\n",
              "      <td>1</td>\n",
              "      <td>0</td>\n",
              "    </tr>\n",
              "    <tr>\n",
              "      <th>4</th>\n",
              "      <td>708663</td>\n",
              "      <td>51428</td>\n",
              "      <td>63896</td>\n",
              "      <td>86.08</td>\n",
              "      <td>78</td>\n",
              "      <td>17014</td>\n",
              "      <td>45</td>\n",
              "      <td>2069</td>\n",
              "      <td>1972-01-06</td>\n",
              "      <td>1</td>\n",
              "      <td>...</td>\n",
              "      <td>0</td>\n",
              "      <td>0</td>\n",
              "      <td>0</td>\n",
              "      <td>0</td>\n",
              "      <td>1</td>\n",
              "      <td>0</td>\n",
              "      <td>0</td>\n",
              "      <td>0</td>\n",
              "      <td>0</td>\n",
              "      <td>0</td>\n",
              "    </tr>\n",
              "  </tbody>\n",
              "</table>\n",
              "<p>5 rows × 64 columns</p>\n",
              "</div>"
            ],
            "text/plain": [
              "   UniqueID  disbursed_amount  asset_cost    ltv  branch_id  supplier_id  \\\n",
              "0    655269             53478       63558  86.54         67        22807   \n",
              "1    723482             55513       63163  89.45         67        22807   \n",
              "2    758529             65282       84320  79.93         78        23135   \n",
              "3    763449             46905       63896  76.58         78        17014   \n",
              "4    708663             51428       63896  86.08         78        17014   \n",
              "\n",
              "   manufacturer_id  Current_pincode_ID Date.of.Birth  Employment.Type  \\\n",
              "0               45                1497    1974-01-01                1   \n",
              "1               45                1497    1985-05-20                2   \n",
              "2               86                2071    1995-10-14                1   \n",
              "3               45                2070    1973-01-06                2   \n",
              "4               45                2069    1972-01-06                1   \n",
              "\n",
              "                                      ...                                      \\\n",
              "0                                     ...                                       \n",
              "1                                     ...                                       \n",
              "2                                     ...                                       \n",
              "3                                     ...                                       \n",
              "4                                     ...                                       \n",
              "\n",
              "  PERFORM_CNS.SCORE.DESCRIPTION_J-High Risk  \\\n",
              "0                                         0   \n",
              "1                                         0   \n",
              "2                                         0   \n",
              "3                                         0   \n",
              "4                                         0   \n",
              "\n",
              "   PERFORM_CNS.SCORE.DESCRIPTION_K-High Risk  \\\n",
              "0                                          0   \n",
              "1                                          0   \n",
              "2                                          0   \n",
              "3                                          0   \n",
              "4                                          0   \n",
              "\n",
              "   PERFORM_CNS.SCORE.DESCRIPTION_L-Very High Risk  \\\n",
              "0                                               0   \n",
              "1                                               0   \n",
              "2                                               0   \n",
              "3                                               0   \n",
              "4                                               0   \n",
              "\n",
              "   PERFORM_CNS.SCORE.DESCRIPTION_M-Very High Risk  \\\n",
              "0                                               0   \n",
              "1                                               0   \n",
              "2                                               0   \n",
              "3                                               0   \n",
              "4                                               0   \n",
              "\n",
              "   PERFORM_CNS.SCORE.DESCRIPTION_No Bureau History Available  \\\n",
              "0                                                  1           \n",
              "1                                                  0           \n",
              "2                                                  1           \n",
              "3                                                  0           \n",
              "4                                                  1           \n",
              "\n",
              "   PERFORM_CNS.SCORE.DESCRIPTION_Not Scored: No Activity seen on the customer (Inactive)  \\\n",
              "0                                                  0                                       \n",
              "1                                                  0                                       \n",
              "2                                                  0                                       \n",
              "3                                                  0                                       \n",
              "4                                                  0                                       \n",
              "\n",
              "   PERFORM_CNS.SCORE.DESCRIPTION_Not Scored: No Updates available in last 36 months  \\\n",
              "0                                                  0                                  \n",
              "1                                                  0                                  \n",
              "2                                                  0                                  \n",
              "3                                                  0                                  \n",
              "4                                                  0                                  \n",
              "\n",
              "   PERFORM_CNS.SCORE.DESCRIPTION_Not Scored: Not Enough Info available on the customer  \\\n",
              "0                                                  0                                     \n",
              "1                                                  0                                     \n",
              "2                                                  0                                     \n",
              "3                                                  0                                     \n",
              "4                                                  0                                     \n",
              "\n",
              "   PERFORM_CNS.SCORE.DESCRIPTION_Not Scored: Only a Guarantor  \\\n",
              "0                                                  0            \n",
              "1                                                  0            \n",
              "2                                                  0            \n",
              "3                                                  1            \n",
              "4                                                  0            \n",
              "\n",
              "   PERFORM_CNS.SCORE.DESCRIPTION_Not Scored: Sufficient History Not Available  \n",
              "0                                                  0                           \n",
              "1                                                  0                           \n",
              "2                                                  0                           \n",
              "3                                                  0                           \n",
              "4                                                  0                           \n",
              "\n",
              "[5 rows x 64 columns]"
            ]
          },
          "metadata": {
            "tags": []
          },
          "execution_count": 351
        }
      ]
    },
    {
      "cell_type": "code",
      "metadata": {
        "id": "ab7gM9RD8J7_",
        "colab_type": "code",
        "colab": {}
      },
      "source": [
        "drop_cols = ['UniqueID','branch_id','supplier_id', 'manufacturer_id', 'Current_pincode_ID', 'Date.of.Birth',\n",
        "             'DisbursalDate','State_ID', 'Employee_code_ID','MobileNo_Avl_Flag', 'Aadhar_flag', 'PAN_flag', \n",
        "             'VoterID_flag','Driving_flag', 'Passport_flag','loan_default','AVERAGE.ACCT.AGE','CREDIT.HISTORY.LENGTH',\n",
        "             'idCheck','PERFORM_CNS.SCORE.DESCRIPTION_Not Scored: More than 50 active Accounts found']"
      ],
      "execution_count": 0,
      "outputs": []
    },
    {
      "cell_type": "code",
      "metadata": {
        "id": "9ZABsEo8YAGq",
        "colab_type": "code",
        "colab": {}
      },
      "source": [
        "features = train_encoded.columns.drop(drop_cols)"
      ],
      "execution_count": 0,
      "outputs": []
    },
    {
      "cell_type": "code",
      "metadata": {
        "id": "58lXNJVbYBcG",
        "colab_type": "code",
        "outputId": "96f008ca-f44e-458b-f2ec-c5cd296ed9d3",
        "colab": {
          "base_uri": "https://localhost:8080/",
          "height": 557
        }
      },
      "source": [
        "features"
      ],
      "execution_count": 0,
      "outputs": [
        {
          "output_type": "execute_result",
          "data": {
            "text/plain": [
              "Index(['disbursed_amount', 'asset_cost', 'ltv', 'Employment.Type',\n",
              "       'PERFORM_CNS.SCORE', 'PRI.NO.OF.ACCTS', 'PRI.ACTIVE.ACCTS',\n",
              "       'PRI.OVERDUE.ACCTS', 'PRI.CURRENT.BALANCE', 'PRI.SANCTIONED.AMOUNT',\n",
              "       'PRI.DISBURSED.AMOUNT', 'SEC.NO.OF.ACCTS', 'SEC.ACTIVE.ACCTS',\n",
              "       'SEC.OVERDUE.ACCTS', 'SEC.CURRENT.BALANCE', 'SEC.SANCTIONED.AMOUNT',\n",
              "       'SEC.DISBURSED.AMOUNT', 'PRIMARY.INSTAL.AMT', 'SEC.INSTAL.AMT',\n",
              "       'NEW.ACCTS.IN.LAST.SIX.MONTHS', 'DELINQUENT.ACCTS.IN.LAST.SIX.MONTHS',\n",
              "       'NO.OF_INQUIRIES', 'AgeAtDisbursal', 'diff_total_to_active',\n",
              "       'AVERAGE.ACCT.AGE.YEAR', 'AVERAGE.ACCT.AGE.MONTH',\n",
              "       'CREDIT.HISTORY.LENGTH.YEAR', 'CREDIT.HISTORY.LENGTH.MONTH',\n",
              "       'PERFORM_CNS.SCORE.DESCRIPTION_A-Very Low Risk',\n",
              "       'PERFORM_CNS.SCORE.DESCRIPTION_B-Very Low Risk',\n",
              "       'PERFORM_CNS.SCORE.DESCRIPTION_C-Very Low Risk',\n",
              "       'PERFORM_CNS.SCORE.DESCRIPTION_D-Very Low Risk',\n",
              "       'PERFORM_CNS.SCORE.DESCRIPTION_E-Low Risk',\n",
              "       'PERFORM_CNS.SCORE.DESCRIPTION_F-Low Risk',\n",
              "       'PERFORM_CNS.SCORE.DESCRIPTION_G-Low Risk',\n",
              "       'PERFORM_CNS.SCORE.DESCRIPTION_H-Medium Risk',\n",
              "       'PERFORM_CNS.SCORE.DESCRIPTION_I-Medium Risk',\n",
              "       'PERFORM_CNS.SCORE.DESCRIPTION_J-High Risk',\n",
              "       'PERFORM_CNS.SCORE.DESCRIPTION_K-High Risk',\n",
              "       'PERFORM_CNS.SCORE.DESCRIPTION_L-Very High Risk',\n",
              "       'PERFORM_CNS.SCORE.DESCRIPTION_M-Very High Risk',\n",
              "       'PERFORM_CNS.SCORE.DESCRIPTION_No Bureau History Available',\n",
              "       'PERFORM_CNS.SCORE.DESCRIPTION_Not Scored: No Activity seen on the customer (Inactive)',\n",
              "       'PERFORM_CNS.SCORE.DESCRIPTION_Not Scored: No Updates available in last 36 months',\n",
              "       'PERFORM_CNS.SCORE.DESCRIPTION_Not Scored: Not Enough Info available on the customer',\n",
              "       'PERFORM_CNS.SCORE.DESCRIPTION_Not Scored: Only a Guarantor',\n",
              "       'PERFORM_CNS.SCORE.DESCRIPTION_Not Scored: Sufficient History Not Available'],\n",
              "      dtype='object')"
            ]
          },
          "metadata": {
            "tags": []
          },
          "execution_count": 367
        }
      ]
    },
    {
      "cell_type": "code",
      "metadata": {
        "id": "3FfkbzHUezsq",
        "colab_type": "code",
        "colab": {}
      },
      "source": [
        "count_class_0, count_class_1 = train_encoded['loan_default'].value_counts()\n",
        "\n",
        "#division of dataframe by classes\n",
        "df_class_0 = train_encoded[train_encoded['loan_default']==0]\n",
        "df_class_1 = train_encoded[train_encoded['loan_default']==1]"
      ],
      "execution_count": 0,
      "outputs": []
    },
    {
      "cell_type": "code",
      "metadata": {
        "id": "v2BBuU7mftCE",
        "colab_type": "code",
        "outputId": "3fccaf6f-e5b2-4dbc-9020-10767211a9bf",
        "colab": {
          "base_uri": "https://localhost:8080/",
          "height": 380
        }
      },
      "source": [
        "df_class_0.describe()"
      ],
      "execution_count": 0,
      "outputs": [
        {
          "output_type": "execute_result",
          "data": {
            "text/html": [
              "<div>\n",
              "<style scoped>\n",
              "    .dataframe tbody tr th:only-of-type {\n",
              "        vertical-align: middle;\n",
              "    }\n",
              "\n",
              "    .dataframe tbody tr th {\n",
              "        vertical-align: top;\n",
              "    }\n",
              "\n",
              "    .dataframe thead th {\n",
              "        text-align: right;\n",
              "    }\n",
              "</style>\n",
              "<table border=\"1\" class=\"dataframe\">\n",
              "  <thead>\n",
              "    <tr style=\"text-align: right;\">\n",
              "      <th></th>\n",
              "      <th>UniqueID</th>\n",
              "      <th>disbursed_amount</th>\n",
              "      <th>asset_cost</th>\n",
              "      <th>ltv</th>\n",
              "      <th>branch_id</th>\n",
              "      <th>supplier_id</th>\n",
              "      <th>manufacturer_id</th>\n",
              "      <th>Current_pincode_ID</th>\n",
              "      <th>Employment.Type</th>\n",
              "      <th>State_ID</th>\n",
              "      <th>...</th>\n",
              "      <th>PERFORM_CNS.SCORE.DESCRIPTION_K-High Risk</th>\n",
              "      <th>PERFORM_CNS.SCORE.DESCRIPTION_L-Very High Risk</th>\n",
              "      <th>PERFORM_CNS.SCORE.DESCRIPTION_M-Very High Risk</th>\n",
              "      <th>PERFORM_CNS.SCORE.DESCRIPTION_No Bureau History Available</th>\n",
              "      <th>PERFORM_CNS.SCORE.DESCRIPTION_Not Scored: More than 50 active Accounts found</th>\n",
              "      <th>PERFORM_CNS.SCORE.DESCRIPTION_Not Scored: No Activity seen on the customer (Inactive)</th>\n",
              "      <th>PERFORM_CNS.SCORE.DESCRIPTION_Not Scored: No Updates available in last 36 months</th>\n",
              "      <th>PERFORM_CNS.SCORE.DESCRIPTION_Not Scored: Not Enough Info available on the customer</th>\n",
              "      <th>PERFORM_CNS.SCORE.DESCRIPTION_Not Scored: Only a Guarantor</th>\n",
              "      <th>PERFORM_CNS.SCORE.DESCRIPTION_Not Scored: Sufficient History Not Available</th>\n",
              "    </tr>\n",
              "  </thead>\n",
              "  <tbody>\n",
              "    <tr>\n",
              "      <th>count</th>\n",
              "      <td>182543.000000</td>\n",
              "      <td>182543.000000</td>\n",
              "      <td>1.825430e+05</td>\n",
              "      <td>182543.000000</td>\n",
              "      <td>182543.000000</td>\n",
              "      <td>182543.000000</td>\n",
              "      <td>182543.000000</td>\n",
              "      <td>182543.000000</td>\n",
              "      <td>182543.000000</td>\n",
              "      <td>182543.000000</td>\n",
              "      <td>...</td>\n",
              "      <td>182543.000000</td>\n",
              "      <td>182543.00000</td>\n",
              "      <td>182543.000000</td>\n",
              "      <td>182543.000000</td>\n",
              "      <td>182543.000000</td>\n",
              "      <td>182543.000000</td>\n",
              "      <td>182543.000000</td>\n",
              "      <td>182543.000000</td>\n",
              "      <td>182543.000000</td>\n",
              "      <td>182543.00000</td>\n",
              "    </tr>\n",
              "    <tr>\n",
              "      <th>mean</th>\n",
              "      <td>534700.011186</td>\n",
              "      <td>53826.471111</td>\n",
              "      <td>7.572281e+04</td>\n",
              "      <td>74.154093</td>\n",
              "      <td>71.825833</td>\n",
              "      <td>19588.334360</td>\n",
              "      <td>69.319974</td>\n",
              "      <td>3363.389015</td>\n",
              "      <td>1.507064</td>\n",
              "      <td>7.148781</td>\n",
              "      <td>...</td>\n",
              "      <td>0.032732</td>\n",
              "      <td>0.00447</td>\n",
              "      <td>0.033433</td>\n",
              "      <td>0.492476</td>\n",
              "      <td>0.000016</td>\n",
              "      <td>0.012901</td>\n",
              "      <td>0.006804</td>\n",
              "      <td>0.015898</td>\n",
              "      <td>0.004207</td>\n",
              "      <td>0.01535</td>\n",
              "    </tr>\n",
              "    <tr>\n",
              "      <th>std</th>\n",
              "      <td>67551.156434</td>\n",
              "      <td>13140.699007</td>\n",
              "      <td>1.901500e+04</td>\n",
              "      <td>11.681455</td>\n",
              "      <td>69.193732</td>\n",
              "      <td>3501.284188</td>\n",
              "      <td>22.098119</td>\n",
              "      <td>2234.614601</td>\n",
              "      <td>0.562028</td>\n",
              "      <td>4.454475</td>\n",
              "      <td>...</td>\n",
              "      <td>0.177935</td>\n",
              "      <td>0.06671</td>\n",
              "      <td>0.179765</td>\n",
              "      <td>0.499945</td>\n",
              "      <td>0.004054</td>\n",
              "      <td>0.112848</td>\n",
              "      <td>0.082205</td>\n",
              "      <td>0.125080</td>\n",
              "      <td>0.064727</td>\n",
              "      <td>0.12294</td>\n",
              "    </tr>\n",
              "    <tr>\n",
              "      <th>min</th>\n",
              "      <td>417428.000000</td>\n",
              "      <td>13320.000000</td>\n",
              "      <td>3.700000e+04</td>\n",
              "      <td>10.030000</td>\n",
              "      <td>1.000000</td>\n",
              "      <td>10524.000000</td>\n",
              "      <td>45.000000</td>\n",
              "      <td>1.000000</td>\n",
              "      <td>0.000000</td>\n",
              "      <td>1.000000</td>\n",
              "      <td>...</td>\n",
              "      <td>0.000000</td>\n",
              "      <td>0.00000</td>\n",
              "      <td>0.000000</td>\n",
              "      <td>0.000000</td>\n",
              "      <td>0.000000</td>\n",
              "      <td>0.000000</td>\n",
              "      <td>0.000000</td>\n",
              "      <td>0.000000</td>\n",
              "      <td>0.000000</td>\n",
              "      <td>0.00000</td>\n",
              "    </tr>\n",
              "    <tr>\n",
              "      <th>25%</th>\n",
              "      <td>476510.000000</td>\n",
              "      <td>46369.000000</td>\n",
              "      <td>6.568000e+04</td>\n",
              "      <td>68.020000</td>\n",
              "      <td>13.000000</td>\n",
              "      <td>16445.000000</td>\n",
              "      <td>48.000000</td>\n",
              "      <td>1509.000000</td>\n",
              "      <td>1.000000</td>\n",
              "      <td>4.000000</td>\n",
              "      <td>...</td>\n",
              "      <td>0.000000</td>\n",
              "      <td>0.00000</td>\n",
              "      <td>0.000000</td>\n",
              "      <td>0.000000</td>\n",
              "      <td>0.000000</td>\n",
              "      <td>0.000000</td>\n",
              "      <td>0.000000</td>\n",
              "      <td>0.000000</td>\n",
              "      <td>0.000000</td>\n",
              "      <td>0.00000</td>\n",
              "    </tr>\n",
              "    <tr>\n",
              "      <th>50%</th>\n",
              "      <td>533986.000000</td>\n",
              "      <td>53303.000000</td>\n",
              "      <td>7.084500e+04</td>\n",
              "      <td>76.000000</td>\n",
              "      <td>61.000000</td>\n",
              "      <td>20289.000000</td>\n",
              "      <td>86.000000</td>\n",
              "      <td>2958.000000</td>\n",
              "      <td>2.000000</td>\n",
              "      <td>6.000000</td>\n",
              "      <td>...</td>\n",
              "      <td>0.000000</td>\n",
              "      <td>0.00000</td>\n",
              "      <td>0.000000</td>\n",
              "      <td>0.000000</td>\n",
              "      <td>0.000000</td>\n",
              "      <td>0.000000</td>\n",
              "      <td>0.000000</td>\n",
              "      <td>0.000000</td>\n",
              "      <td>0.000000</td>\n",
              "      <td>0.00000</td>\n",
              "    </tr>\n",
              "    <tr>\n",
              "      <th>75%</th>\n",
              "      <td>592566.500000</td>\n",
              "      <td>59947.000000</td>\n",
              "      <td>7.899900e+04</td>\n",
              "      <td>83.160000</td>\n",
              "      <td>121.000000</td>\n",
              "      <td>22995.000000</td>\n",
              "      <td>86.000000</td>\n",
              "      <td>5638.000000</td>\n",
              "      <td>2.000000</td>\n",
              "      <td>9.000000</td>\n",
              "      <td>...</td>\n",
              "      <td>0.000000</td>\n",
              "      <td>0.00000</td>\n",
              "      <td>0.000000</td>\n",
              "      <td>1.000000</td>\n",
              "      <td>0.000000</td>\n",
              "      <td>0.000000</td>\n",
              "      <td>0.000000</td>\n",
              "      <td>0.000000</td>\n",
              "      <td>0.000000</td>\n",
              "      <td>0.00000</td>\n",
              "    </tr>\n",
              "    <tr>\n",
              "      <th>max</th>\n",
              "      <td>671084.000000</td>\n",
              "      <td>990572.000000</td>\n",
              "      <td>1.628992e+06</td>\n",
              "      <td>95.000000</td>\n",
              "      <td>261.000000</td>\n",
              "      <td>24803.000000</td>\n",
              "      <td>156.000000</td>\n",
              "      <td>7345.000000</td>\n",
              "      <td>2.000000</td>\n",
              "      <td>22.000000</td>\n",
              "      <td>...</td>\n",
              "      <td>1.000000</td>\n",
              "      <td>1.00000</td>\n",
              "      <td>1.000000</td>\n",
              "      <td>1.000000</td>\n",
              "      <td>1.000000</td>\n",
              "      <td>1.000000</td>\n",
              "      <td>1.000000</td>\n",
              "      <td>1.000000</td>\n",
              "      <td>1.000000</td>\n",
              "      <td>1.00000</td>\n",
              "    </tr>\n",
              "  </tbody>\n",
              "</table>\n",
              "<p>8 rows × 63 columns</p>\n",
              "</div>"
            ],
            "text/plain": [
              "            UniqueID  disbursed_amount    asset_cost            ltv  \\\n",
              "count  182543.000000     182543.000000  1.825430e+05  182543.000000   \n",
              "mean   534700.011186      53826.471111  7.572281e+04      74.154093   \n",
              "std     67551.156434      13140.699007  1.901500e+04      11.681455   \n",
              "min    417428.000000      13320.000000  3.700000e+04      10.030000   \n",
              "25%    476510.000000      46369.000000  6.568000e+04      68.020000   \n",
              "50%    533986.000000      53303.000000  7.084500e+04      76.000000   \n",
              "75%    592566.500000      59947.000000  7.899900e+04      83.160000   \n",
              "max    671084.000000     990572.000000  1.628992e+06      95.000000   \n",
              "\n",
              "           branch_id    supplier_id  manufacturer_id  Current_pincode_ID  \\\n",
              "count  182543.000000  182543.000000    182543.000000       182543.000000   \n",
              "mean       71.825833   19588.334360        69.319974         3363.389015   \n",
              "std        69.193732    3501.284188        22.098119         2234.614601   \n",
              "min         1.000000   10524.000000        45.000000            1.000000   \n",
              "25%        13.000000   16445.000000        48.000000         1509.000000   \n",
              "50%        61.000000   20289.000000        86.000000         2958.000000   \n",
              "75%       121.000000   22995.000000        86.000000         5638.000000   \n",
              "max       261.000000   24803.000000       156.000000         7345.000000   \n",
              "\n",
              "       Employment.Type       State_ID  \\\n",
              "count    182543.000000  182543.000000   \n",
              "mean          1.507064       7.148781   \n",
              "std           0.562028       4.454475   \n",
              "min           0.000000       1.000000   \n",
              "25%           1.000000       4.000000   \n",
              "50%           2.000000       6.000000   \n",
              "75%           2.000000       9.000000   \n",
              "max           2.000000      22.000000   \n",
              "\n",
              "                                          ...                                      \\\n",
              "count                                     ...                                       \n",
              "mean                                      ...                                       \n",
              "std                                       ...                                       \n",
              "min                                       ...                                       \n",
              "25%                                       ...                                       \n",
              "50%                                       ...                                       \n",
              "75%                                       ...                                       \n",
              "max                                       ...                                       \n",
              "\n",
              "       PERFORM_CNS.SCORE.DESCRIPTION_K-High Risk  \\\n",
              "count                              182543.000000   \n",
              "mean                                    0.032732   \n",
              "std                                     0.177935   \n",
              "min                                     0.000000   \n",
              "25%                                     0.000000   \n",
              "50%                                     0.000000   \n",
              "75%                                     0.000000   \n",
              "max                                     1.000000   \n",
              "\n",
              "       PERFORM_CNS.SCORE.DESCRIPTION_L-Very High Risk  \\\n",
              "count                                    182543.00000   \n",
              "mean                                          0.00447   \n",
              "std                                           0.06671   \n",
              "min                                           0.00000   \n",
              "25%                                           0.00000   \n",
              "50%                                           0.00000   \n",
              "75%                                           0.00000   \n",
              "max                                           1.00000   \n",
              "\n",
              "       PERFORM_CNS.SCORE.DESCRIPTION_M-Very High Risk  \\\n",
              "count                                   182543.000000   \n",
              "mean                                         0.033433   \n",
              "std                                          0.179765   \n",
              "min                                          0.000000   \n",
              "25%                                          0.000000   \n",
              "50%                                          0.000000   \n",
              "75%                                          0.000000   \n",
              "max                                          1.000000   \n",
              "\n",
              "       PERFORM_CNS.SCORE.DESCRIPTION_No Bureau History Available  \\\n",
              "count                                      182543.000000           \n",
              "mean                                            0.492476           \n",
              "std                                             0.499945           \n",
              "min                                             0.000000           \n",
              "25%                                             0.000000           \n",
              "50%                                             0.000000           \n",
              "75%                                             1.000000           \n",
              "max                                             1.000000           \n",
              "\n",
              "       PERFORM_CNS.SCORE.DESCRIPTION_Not Scored: More than 50 active Accounts found  \\\n",
              "count                                      182543.000000                              \n",
              "mean                                            0.000016                              \n",
              "std                                             0.004054                              \n",
              "min                                             0.000000                              \n",
              "25%                                             0.000000                              \n",
              "50%                                             0.000000                              \n",
              "75%                                             0.000000                              \n",
              "max                                             1.000000                              \n",
              "\n",
              "       PERFORM_CNS.SCORE.DESCRIPTION_Not Scored: No Activity seen on the customer (Inactive)  \\\n",
              "count                                      182543.000000                                       \n",
              "mean                                            0.012901                                       \n",
              "std                                             0.112848                                       \n",
              "min                                             0.000000                                       \n",
              "25%                                             0.000000                                       \n",
              "50%                                             0.000000                                       \n",
              "75%                                             0.000000                                       \n",
              "max                                             1.000000                                       \n",
              "\n",
              "       PERFORM_CNS.SCORE.DESCRIPTION_Not Scored: No Updates available in last 36 months  \\\n",
              "count                                      182543.000000                                  \n",
              "mean                                            0.006804                                  \n",
              "std                                             0.082205                                  \n",
              "min                                             0.000000                                  \n",
              "25%                                             0.000000                                  \n",
              "50%                                             0.000000                                  \n",
              "75%                                             0.000000                                  \n",
              "max                                             1.000000                                  \n",
              "\n",
              "       PERFORM_CNS.SCORE.DESCRIPTION_Not Scored: Not Enough Info available on the customer  \\\n",
              "count                                      182543.000000                                     \n",
              "mean                                            0.015898                                     \n",
              "std                                             0.125080                                     \n",
              "min                                             0.000000                                     \n",
              "25%                                             0.000000                                     \n",
              "50%                                             0.000000                                     \n",
              "75%                                             0.000000                                     \n",
              "max                                             1.000000                                     \n",
              "\n",
              "       PERFORM_CNS.SCORE.DESCRIPTION_Not Scored: Only a Guarantor  \\\n",
              "count                                      182543.000000            \n",
              "mean                                            0.004207            \n",
              "std                                             0.064727            \n",
              "min                                             0.000000            \n",
              "25%                                             0.000000            \n",
              "50%                                             0.000000            \n",
              "75%                                             0.000000            \n",
              "max                                             1.000000            \n",
              "\n",
              "       PERFORM_CNS.SCORE.DESCRIPTION_Not Scored: Sufficient History Not Available  \n",
              "count                                       182543.00000                           \n",
              "mean                                             0.01535                           \n",
              "std                                              0.12294                           \n",
              "min                                              0.00000                           \n",
              "25%                                              0.00000                           \n",
              "50%                                              0.00000                           \n",
              "75%                                              0.00000                           \n",
              "max                                              1.00000                           \n",
              "\n",
              "[8 rows x 63 columns]"
            ]
          },
          "metadata": {
            "tags": []
          },
          "execution_count": 200
        }
      ]
    },
    {
      "cell_type": "markdown",
      "metadata": {
        "id": "mdtbY3k64v3i",
        "colab_type": "text"
      },
      "source": [
        "**under sampling**"
      ]
    },
    {
      "cell_type": "code",
      "metadata": {
        "id": "uw1xMRwOfSYI",
        "colab_type": "code",
        "outputId": "9d74b17a-9391-4935-8b38-d44a438b369c",
        "colab": {
          "base_uri": "https://localhost:8080/",
          "height": 380
        }
      },
      "source": [
        "df_class_0_under = df_class_0.sample(n=count_class_1,random_state=2)\n",
        "df_class_0_under.describe()"
      ],
      "execution_count": 0,
      "outputs": [
        {
          "output_type": "execute_result",
          "data": {
            "text/html": [
              "<div>\n",
              "<style scoped>\n",
              "    .dataframe tbody tr th:only-of-type {\n",
              "        vertical-align: middle;\n",
              "    }\n",
              "\n",
              "    .dataframe tbody tr th {\n",
              "        vertical-align: top;\n",
              "    }\n",
              "\n",
              "    .dataframe thead th {\n",
              "        text-align: right;\n",
              "    }\n",
              "</style>\n",
              "<table border=\"1\" class=\"dataframe\">\n",
              "  <thead>\n",
              "    <tr style=\"text-align: right;\">\n",
              "      <th></th>\n",
              "      <th>UniqueID</th>\n",
              "      <th>disbursed_amount</th>\n",
              "      <th>asset_cost</th>\n",
              "      <th>ltv</th>\n",
              "      <th>branch_id</th>\n",
              "      <th>supplier_id</th>\n",
              "      <th>manufacturer_id</th>\n",
              "      <th>Current_pincode_ID</th>\n",
              "      <th>Employment.Type</th>\n",
              "      <th>State_ID</th>\n",
              "      <th>...</th>\n",
              "      <th>PERFORM_CNS.SCORE.DESCRIPTION_K-High Risk</th>\n",
              "      <th>PERFORM_CNS.SCORE.DESCRIPTION_L-Very High Risk</th>\n",
              "      <th>PERFORM_CNS.SCORE.DESCRIPTION_M-Very High Risk</th>\n",
              "      <th>PERFORM_CNS.SCORE.DESCRIPTION_No Bureau History Available</th>\n",
              "      <th>PERFORM_CNS.SCORE.DESCRIPTION_Not Scored: More than 50 active Accounts found</th>\n",
              "      <th>PERFORM_CNS.SCORE.DESCRIPTION_Not Scored: No Activity seen on the customer (Inactive)</th>\n",
              "      <th>PERFORM_CNS.SCORE.DESCRIPTION_Not Scored: No Updates available in last 36 months</th>\n",
              "      <th>PERFORM_CNS.SCORE.DESCRIPTION_Not Scored: Not Enough Info available on the customer</th>\n",
              "      <th>PERFORM_CNS.SCORE.DESCRIPTION_Not Scored: Only a Guarantor</th>\n",
              "      <th>PERFORM_CNS.SCORE.DESCRIPTION_Not Scored: Sufficient History Not Available</th>\n",
              "    </tr>\n",
              "  </thead>\n",
              "  <tbody>\n",
              "    <tr>\n",
              "      <th>count</th>\n",
              "      <td>50611.000000</td>\n",
              "      <td>50611.000000</td>\n",
              "      <td>5.061100e+04</td>\n",
              "      <td>50611.000000</td>\n",
              "      <td>50611.000000</td>\n",
              "      <td>50611.000000</td>\n",
              "      <td>50611.000000</td>\n",
              "      <td>50611.000000</td>\n",
              "      <td>50611.000000</td>\n",
              "      <td>50611.000000</td>\n",
              "      <td>...</td>\n",
              "      <td>50611.000000</td>\n",
              "      <td>50611.000000</td>\n",
              "      <td>50611.000000</td>\n",
              "      <td>50611.000000</td>\n",
              "      <td>50611.000000</td>\n",
              "      <td>50611.000000</td>\n",
              "      <td>50611.000000</td>\n",
              "      <td>50611.000000</td>\n",
              "      <td>50611.000000</td>\n",
              "      <td>50611.000000</td>\n",
              "    </tr>\n",
              "    <tr>\n",
              "      <th>mean</th>\n",
              "      <td>534973.188615</td>\n",
              "      <td>53928.222066</td>\n",
              "      <td>7.586862e+04</td>\n",
              "      <td>74.162199</td>\n",
              "      <td>71.701112</td>\n",
              "      <td>19601.899745</td>\n",
              "      <td>69.283259</td>\n",
              "      <td>3381.243070</td>\n",
              "      <td>1.512319</td>\n",
              "      <td>7.147320</td>\n",
              "      <td>...</td>\n",
              "      <td>0.033036</td>\n",
              "      <td>0.004643</td>\n",
              "      <td>0.032562</td>\n",
              "      <td>0.493193</td>\n",
              "      <td>0.000040</td>\n",
              "      <td>0.012922</td>\n",
              "      <td>0.006876</td>\n",
              "      <td>0.016716</td>\n",
              "      <td>0.004209</td>\n",
              "      <td>0.016281</td>\n",
              "    </tr>\n",
              "    <tr>\n",
              "      <th>std</th>\n",
              "      <td>67517.150281</td>\n",
              "      <td>14204.258400</td>\n",
              "      <td>2.067784e+04</td>\n",
              "      <td>11.652413</td>\n",
              "      <td>68.975242</td>\n",
              "      <td>3495.665822</td>\n",
              "      <td>22.146467</td>\n",
              "      <td>2234.930147</td>\n",
              "      <td>0.559820</td>\n",
              "      <td>4.454604</td>\n",
              "      <td>...</td>\n",
              "      <td>0.178733</td>\n",
              "      <td>0.067984</td>\n",
              "      <td>0.177489</td>\n",
              "      <td>0.499959</td>\n",
              "      <td>0.006286</td>\n",
              "      <td>0.112940</td>\n",
              "      <td>0.082637</td>\n",
              "      <td>0.128205</td>\n",
              "      <td>0.064737</td>\n",
              "      <td>0.126555</td>\n",
              "    </tr>\n",
              "    <tr>\n",
              "      <th>min</th>\n",
              "      <td>417441.000000</td>\n",
              "      <td>13600.000000</td>\n",
              "      <td>3.737700e+04</td>\n",
              "      <td>13.500000</td>\n",
              "      <td>1.000000</td>\n",
              "      <td>10524.000000</td>\n",
              "      <td>45.000000</td>\n",
              "      <td>1.000000</td>\n",
              "      <td>0.000000</td>\n",
              "      <td>1.000000</td>\n",
              "      <td>...</td>\n",
              "      <td>0.000000</td>\n",
              "      <td>0.000000</td>\n",
              "      <td>0.000000</td>\n",
              "      <td>0.000000</td>\n",
              "      <td>0.000000</td>\n",
              "      <td>0.000000</td>\n",
              "      <td>0.000000</td>\n",
              "      <td>0.000000</td>\n",
              "      <td>0.000000</td>\n",
              "      <td>0.000000</td>\n",
              "    </tr>\n",
              "    <tr>\n",
              "      <th>25%</th>\n",
              "      <td>477116.500000</td>\n",
              "      <td>46449.000000</td>\n",
              "      <td>6.568700e+04</td>\n",
              "      <td>68.085000</td>\n",
              "      <td>13.000000</td>\n",
              "      <td>16461.000000</td>\n",
              "      <td>48.000000</td>\n",
              "      <td>1510.000000</td>\n",
              "      <td>1.000000</td>\n",
              "      <td>4.000000</td>\n",
              "      <td>...</td>\n",
              "      <td>0.000000</td>\n",
              "      <td>0.000000</td>\n",
              "      <td>0.000000</td>\n",
              "      <td>0.000000</td>\n",
              "      <td>0.000000</td>\n",
              "      <td>0.000000</td>\n",
              "      <td>0.000000</td>\n",
              "      <td>0.000000</td>\n",
              "      <td>0.000000</td>\n",
              "      <td>0.000000</td>\n",
              "    </tr>\n",
              "    <tr>\n",
              "      <th>50%</th>\n",
              "      <td>533825.000000</td>\n",
              "      <td>53303.000000</td>\n",
              "      <td>7.091600e+04</td>\n",
              "      <td>75.990000</td>\n",
              "      <td>61.000000</td>\n",
              "      <td>20292.000000</td>\n",
              "      <td>86.000000</td>\n",
              "      <td>2965.000000</td>\n",
              "      <td>2.000000</td>\n",
              "      <td>6.000000</td>\n",
              "      <td>...</td>\n",
              "      <td>0.000000</td>\n",
              "      <td>0.000000</td>\n",
              "      <td>0.000000</td>\n",
              "      <td>0.000000</td>\n",
              "      <td>0.000000</td>\n",
              "      <td>0.000000</td>\n",
              "      <td>0.000000</td>\n",
              "      <td>0.000000</td>\n",
              "      <td>0.000000</td>\n",
              "      <td>0.000000</td>\n",
              "    </tr>\n",
              "    <tr>\n",
              "      <th>75%</th>\n",
              "      <td>592928.000000</td>\n",
              "      <td>59947.000000</td>\n",
              "      <td>7.909250e+04</td>\n",
              "      <td>83.130000</td>\n",
              "      <td>121.000000</td>\n",
              "      <td>22995.000000</td>\n",
              "      <td>86.000000</td>\n",
              "      <td>5659.000000</td>\n",
              "      <td>2.000000</td>\n",
              "      <td>9.000000</td>\n",
              "      <td>...</td>\n",
              "      <td>0.000000</td>\n",
              "      <td>0.000000</td>\n",
              "      <td>0.000000</td>\n",
              "      <td>1.000000</td>\n",
              "      <td>0.000000</td>\n",
              "      <td>0.000000</td>\n",
              "      <td>0.000000</td>\n",
              "      <td>0.000000</td>\n",
              "      <td>0.000000</td>\n",
              "      <td>0.000000</td>\n",
              "    </tr>\n",
              "    <tr>\n",
              "      <th>max</th>\n",
              "      <td>671033.000000</td>\n",
              "      <td>990572.000000</td>\n",
              "      <td>1.628992e+06</td>\n",
              "      <td>95.000000</td>\n",
              "      <td>261.000000</td>\n",
              "      <td>24803.000000</td>\n",
              "      <td>156.000000</td>\n",
              "      <td>7345.000000</td>\n",
              "      <td>2.000000</td>\n",
              "      <td>22.000000</td>\n",
              "      <td>...</td>\n",
              "      <td>1.000000</td>\n",
              "      <td>1.000000</td>\n",
              "      <td>1.000000</td>\n",
              "      <td>1.000000</td>\n",
              "      <td>1.000000</td>\n",
              "      <td>1.000000</td>\n",
              "      <td>1.000000</td>\n",
              "      <td>1.000000</td>\n",
              "      <td>1.000000</td>\n",
              "      <td>1.000000</td>\n",
              "    </tr>\n",
              "  </tbody>\n",
              "</table>\n",
              "<p>8 rows × 63 columns</p>\n",
              "</div>"
            ],
            "text/plain": [
              "            UniqueID  disbursed_amount    asset_cost           ltv  \\\n",
              "count   50611.000000      50611.000000  5.061100e+04  50611.000000   \n",
              "mean   534973.188615      53928.222066  7.586862e+04     74.162199   \n",
              "std     67517.150281      14204.258400  2.067784e+04     11.652413   \n",
              "min    417441.000000      13600.000000  3.737700e+04     13.500000   \n",
              "25%    477116.500000      46449.000000  6.568700e+04     68.085000   \n",
              "50%    533825.000000      53303.000000  7.091600e+04     75.990000   \n",
              "75%    592928.000000      59947.000000  7.909250e+04     83.130000   \n",
              "max    671033.000000     990572.000000  1.628992e+06     95.000000   \n",
              "\n",
              "          branch_id   supplier_id  manufacturer_id  Current_pincode_ID  \\\n",
              "count  50611.000000  50611.000000     50611.000000        50611.000000   \n",
              "mean      71.701112  19601.899745        69.283259         3381.243070   \n",
              "std       68.975242   3495.665822        22.146467         2234.930147   \n",
              "min        1.000000  10524.000000        45.000000            1.000000   \n",
              "25%       13.000000  16461.000000        48.000000         1510.000000   \n",
              "50%       61.000000  20292.000000        86.000000         2965.000000   \n",
              "75%      121.000000  22995.000000        86.000000         5659.000000   \n",
              "max      261.000000  24803.000000       156.000000         7345.000000   \n",
              "\n",
              "       Employment.Type      State_ID  \\\n",
              "count     50611.000000  50611.000000   \n",
              "mean          1.512319      7.147320   \n",
              "std           0.559820      4.454604   \n",
              "min           0.000000      1.000000   \n",
              "25%           1.000000      4.000000   \n",
              "50%           2.000000      6.000000   \n",
              "75%           2.000000      9.000000   \n",
              "max           2.000000     22.000000   \n",
              "\n",
              "                                          ...                                      \\\n",
              "count                                     ...                                       \n",
              "mean                                      ...                                       \n",
              "std                                       ...                                       \n",
              "min                                       ...                                       \n",
              "25%                                       ...                                       \n",
              "50%                                       ...                                       \n",
              "75%                                       ...                                       \n",
              "max                                       ...                                       \n",
              "\n",
              "       PERFORM_CNS.SCORE.DESCRIPTION_K-High Risk  \\\n",
              "count                               50611.000000   \n",
              "mean                                    0.033036   \n",
              "std                                     0.178733   \n",
              "min                                     0.000000   \n",
              "25%                                     0.000000   \n",
              "50%                                     0.000000   \n",
              "75%                                     0.000000   \n",
              "max                                     1.000000   \n",
              "\n",
              "       PERFORM_CNS.SCORE.DESCRIPTION_L-Very High Risk  \\\n",
              "count                                    50611.000000   \n",
              "mean                                         0.004643   \n",
              "std                                          0.067984   \n",
              "min                                          0.000000   \n",
              "25%                                          0.000000   \n",
              "50%                                          0.000000   \n",
              "75%                                          0.000000   \n",
              "max                                          1.000000   \n",
              "\n",
              "       PERFORM_CNS.SCORE.DESCRIPTION_M-Very High Risk  \\\n",
              "count                                    50611.000000   \n",
              "mean                                         0.032562   \n",
              "std                                          0.177489   \n",
              "min                                          0.000000   \n",
              "25%                                          0.000000   \n",
              "50%                                          0.000000   \n",
              "75%                                          0.000000   \n",
              "max                                          1.000000   \n",
              "\n",
              "       PERFORM_CNS.SCORE.DESCRIPTION_No Bureau History Available  \\\n",
              "count                                       50611.000000           \n",
              "mean                                            0.493193           \n",
              "std                                             0.499959           \n",
              "min                                             0.000000           \n",
              "25%                                             0.000000           \n",
              "50%                                             0.000000           \n",
              "75%                                             1.000000           \n",
              "max                                             1.000000           \n",
              "\n",
              "       PERFORM_CNS.SCORE.DESCRIPTION_Not Scored: More than 50 active Accounts found  \\\n",
              "count                                       50611.000000                              \n",
              "mean                                            0.000040                              \n",
              "std                                             0.006286                              \n",
              "min                                             0.000000                              \n",
              "25%                                             0.000000                              \n",
              "50%                                             0.000000                              \n",
              "75%                                             0.000000                              \n",
              "max                                             1.000000                              \n",
              "\n",
              "       PERFORM_CNS.SCORE.DESCRIPTION_Not Scored: No Activity seen on the customer (Inactive)  \\\n",
              "count                                       50611.000000                                       \n",
              "mean                                            0.012922                                       \n",
              "std                                             0.112940                                       \n",
              "min                                             0.000000                                       \n",
              "25%                                             0.000000                                       \n",
              "50%                                             0.000000                                       \n",
              "75%                                             0.000000                                       \n",
              "max                                             1.000000                                       \n",
              "\n",
              "       PERFORM_CNS.SCORE.DESCRIPTION_Not Scored: No Updates available in last 36 months  \\\n",
              "count                                       50611.000000                                  \n",
              "mean                                            0.006876                                  \n",
              "std                                             0.082637                                  \n",
              "min                                             0.000000                                  \n",
              "25%                                             0.000000                                  \n",
              "50%                                             0.000000                                  \n",
              "75%                                             0.000000                                  \n",
              "max                                             1.000000                                  \n",
              "\n",
              "       PERFORM_CNS.SCORE.DESCRIPTION_Not Scored: Not Enough Info available on the customer  \\\n",
              "count                                       50611.000000                                     \n",
              "mean                                            0.016716                                     \n",
              "std                                             0.128205                                     \n",
              "min                                             0.000000                                     \n",
              "25%                                             0.000000                                     \n",
              "50%                                             0.000000                                     \n",
              "75%                                             0.000000                                     \n",
              "max                                             1.000000                                     \n",
              "\n",
              "       PERFORM_CNS.SCORE.DESCRIPTION_Not Scored: Only a Guarantor  \\\n",
              "count                                       50611.000000            \n",
              "mean                                            0.004209            \n",
              "std                                             0.064737            \n",
              "min                                             0.000000            \n",
              "25%                                             0.000000            \n",
              "50%                                             0.000000            \n",
              "75%                                             0.000000            \n",
              "max                                             1.000000            \n",
              "\n",
              "       PERFORM_CNS.SCORE.DESCRIPTION_Not Scored: Sufficient History Not Available  \n",
              "count                                       50611.000000                           \n",
              "mean                                            0.016281                           \n",
              "std                                             0.126555                           \n",
              "min                                             0.000000                           \n",
              "25%                                             0.000000                           \n",
              "50%                                             0.000000                           \n",
              "75%                                             0.000000                           \n",
              "max                                             1.000000                           \n",
              "\n",
              "[8 rows x 63 columns]"
            ]
          },
          "metadata": {
            "tags": []
          },
          "execution_count": 272
        }
      ]
    },
    {
      "cell_type": "code",
      "metadata": {
        "id": "3ETNhjd_f4yA",
        "colab_type": "code",
        "colab": {}
      },
      "source": [
        "df_train_under = pd.concat([df_class_0_under,df_class_1],axis=0)"
      ],
      "execution_count": 0,
      "outputs": []
    },
    {
      "cell_type": "code",
      "metadata": {
        "id": "kJydvIN6gBwW",
        "colab_type": "code",
        "outputId": "b4c548da-cbf8-45b5-9a1b-47503929ab68",
        "colab": {
          "base_uri": "https://localhost:8080/",
          "height": 71
        }
      },
      "source": [
        "df_train_under['loan_default'].value_counts()"
      ],
      "execution_count": 0,
      "outputs": [
        {
          "output_type": "execute_result",
          "data": {
            "text/plain": [
              "1    50611\n",
              "0    50611\n",
              "Name: loan_default, dtype: int64"
            ]
          },
          "metadata": {
            "tags": []
          },
          "execution_count": 274
        }
      ]
    },
    {
      "cell_type": "code",
      "metadata": {
        "id": "N63jViYGgxJr",
        "colab_type": "code",
        "outputId": "7415cb58-a8a9-4357-b5cb-25c396c80708",
        "colab": {
          "base_uri": "https://localhost:8080/",
          "height": 287
        }
      },
      "source": [
        "df_train_under[features].head()"
      ],
      "execution_count": 0,
      "outputs": [
        {
          "output_type": "execute_result",
          "data": {
            "text/html": [
              "<div>\n",
              "<style scoped>\n",
              "    .dataframe tbody tr th:only-of-type {\n",
              "        vertical-align: middle;\n",
              "    }\n",
              "\n",
              "    .dataframe tbody tr th {\n",
              "        vertical-align: top;\n",
              "    }\n",
              "\n",
              "    .dataframe thead th {\n",
              "        text-align: right;\n",
              "    }\n",
              "</style>\n",
              "<table border=\"1\" class=\"dataframe\">\n",
              "  <thead>\n",
              "    <tr style=\"text-align: right;\">\n",
              "      <th></th>\n",
              "      <th>disbursed_amount</th>\n",
              "      <th>asset_cost</th>\n",
              "      <th>ltv</th>\n",
              "      <th>Employment.Type</th>\n",
              "      <th>PERFORM_CNS.SCORE</th>\n",
              "      <th>PRI.NO.OF.ACCTS</th>\n",
              "      <th>PRI.ACTIVE.ACCTS</th>\n",
              "      <th>PRI.OVERDUE.ACCTS</th>\n",
              "      <th>PRI.CURRENT.BALANCE</th>\n",
              "      <th>PRI.SANCTIONED.AMOUNT</th>\n",
              "      <th>...</th>\n",
              "      <th>PERFORM_CNS.SCORE.DESCRIPTION_K-High Risk</th>\n",
              "      <th>PERFORM_CNS.SCORE.DESCRIPTION_L-Very High Risk</th>\n",
              "      <th>PERFORM_CNS.SCORE.DESCRIPTION_M-Very High Risk</th>\n",
              "      <th>PERFORM_CNS.SCORE.DESCRIPTION_No Bureau History Available</th>\n",
              "      <th>PERFORM_CNS.SCORE.DESCRIPTION_Not Scored: More than 50 active Accounts found</th>\n",
              "      <th>PERFORM_CNS.SCORE.DESCRIPTION_Not Scored: No Activity seen on the customer (Inactive)</th>\n",
              "      <th>PERFORM_CNS.SCORE.DESCRIPTION_Not Scored: No Updates available in last 36 months</th>\n",
              "      <th>PERFORM_CNS.SCORE.DESCRIPTION_Not Scored: Not Enough Info available on the customer</th>\n",
              "      <th>PERFORM_CNS.SCORE.DESCRIPTION_Not Scored: Only a Guarantor</th>\n",
              "      <th>PERFORM_CNS.SCORE.DESCRIPTION_Not Scored: Sufficient History Not Available</th>\n",
              "    </tr>\n",
              "  </thead>\n",
              "  <tbody>\n",
              "    <tr>\n",
              "      <th>39009</th>\n",
              "      <td>74123</td>\n",
              "      <td>108469</td>\n",
              "      <td>69.14</td>\n",
              "      <td>1</td>\n",
              "      <td>680</td>\n",
              "      <td>7</td>\n",
              "      <td>5</td>\n",
              "      <td>0</td>\n",
              "      <td>98154</td>\n",
              "      <td>144169</td>\n",
              "      <td>...</td>\n",
              "      <td>0</td>\n",
              "      <td>0</td>\n",
              "      <td>0</td>\n",
              "      <td>0</td>\n",
              "      <td>0</td>\n",
              "      <td>0</td>\n",
              "      <td>0</td>\n",
              "      <td>0</td>\n",
              "      <td>0</td>\n",
              "      <td>0</td>\n",
              "    </tr>\n",
              "    <tr>\n",
              "      <th>52582</th>\n",
              "      <td>46369</td>\n",
              "      <td>64299</td>\n",
              "      <td>76.21</td>\n",
              "      <td>2</td>\n",
              "      <td>0</td>\n",
              "      <td>0</td>\n",
              "      <td>0</td>\n",
              "      <td>0</td>\n",
              "      <td>0</td>\n",
              "      <td>0</td>\n",
              "      <td>...</td>\n",
              "      <td>0</td>\n",
              "      <td>0</td>\n",
              "      <td>0</td>\n",
              "      <td>1</td>\n",
              "      <td>0</td>\n",
              "      <td>0</td>\n",
              "      <td>0</td>\n",
              "      <td>0</td>\n",
              "      <td>0</td>\n",
              "      <td>0</td>\n",
              "    </tr>\n",
              "    <tr>\n",
              "      <th>79557</th>\n",
              "      <td>56759</td>\n",
              "      <td>100482</td>\n",
              "      <td>57.72</td>\n",
              "      <td>2</td>\n",
              "      <td>0</td>\n",
              "      <td>0</td>\n",
              "      <td>0</td>\n",
              "      <td>0</td>\n",
              "      <td>0</td>\n",
              "      <td>0</td>\n",
              "      <td>...</td>\n",
              "      <td>0</td>\n",
              "      <td>0</td>\n",
              "      <td>0</td>\n",
              "      <td>1</td>\n",
              "      <td>0</td>\n",
              "      <td>0</td>\n",
              "      <td>0</td>\n",
              "      <td>0</td>\n",
              "      <td>0</td>\n",
              "      <td>0</td>\n",
              "    </tr>\n",
              "    <tr>\n",
              "      <th>60070</th>\n",
              "      <td>59871</td>\n",
              "      <td>71793</td>\n",
              "      <td>85.00</td>\n",
              "      <td>2</td>\n",
              "      <td>0</td>\n",
              "      <td>0</td>\n",
              "      <td>0</td>\n",
              "      <td>0</td>\n",
              "      <td>0</td>\n",
              "      <td>0</td>\n",
              "      <td>...</td>\n",
              "      <td>0</td>\n",
              "      <td>0</td>\n",
              "      <td>0</td>\n",
              "      <td>1</td>\n",
              "      <td>0</td>\n",
              "      <td>0</td>\n",
              "      <td>0</td>\n",
              "      <td>0</td>\n",
              "      <td>0</td>\n",
              "      <td>0</td>\n",
              "    </tr>\n",
              "    <tr>\n",
              "      <th>48198</th>\n",
              "      <td>40394</td>\n",
              "      <td>59134</td>\n",
              "      <td>71.03</td>\n",
              "      <td>1</td>\n",
              "      <td>0</td>\n",
              "      <td>0</td>\n",
              "      <td>0</td>\n",
              "      <td>0</td>\n",
              "      <td>0</td>\n",
              "      <td>0</td>\n",
              "      <td>...</td>\n",
              "      <td>0</td>\n",
              "      <td>0</td>\n",
              "      <td>0</td>\n",
              "      <td>1</td>\n",
              "      <td>0</td>\n",
              "      <td>0</td>\n",
              "      <td>0</td>\n",
              "      <td>0</td>\n",
              "      <td>0</td>\n",
              "      <td>0</td>\n",
              "    </tr>\n",
              "  </tbody>\n",
              "</table>\n",
              "<p>5 rows × 49 columns</p>\n",
              "</div>"
            ],
            "text/plain": [
              "       disbursed_amount  asset_cost    ltv  Employment.Type  \\\n",
              "39009             74123      108469  69.14                1   \n",
              "52582             46369       64299  76.21                2   \n",
              "79557             56759      100482  57.72                2   \n",
              "60070             59871       71793  85.00                2   \n",
              "48198             40394       59134  71.03                1   \n",
              "\n",
              "       PERFORM_CNS.SCORE  PRI.NO.OF.ACCTS  PRI.ACTIVE.ACCTS  \\\n",
              "39009                680                7                 5   \n",
              "52582                  0                0                 0   \n",
              "79557                  0                0                 0   \n",
              "60070                  0                0                 0   \n",
              "48198                  0                0                 0   \n",
              "\n",
              "       PRI.OVERDUE.ACCTS  PRI.CURRENT.BALANCE  PRI.SANCTIONED.AMOUNT  \\\n",
              "39009                  0                98154                 144169   \n",
              "52582                  0                    0                      0   \n",
              "79557                  0                    0                      0   \n",
              "60070                  0                    0                      0   \n",
              "48198                  0                    0                      0   \n",
              "\n",
              "                                          ...                                      \\\n",
              "39009                                     ...                                       \n",
              "52582                                     ...                                       \n",
              "79557                                     ...                                       \n",
              "60070                                     ...                                       \n",
              "48198                                     ...                                       \n",
              "\n",
              "       PERFORM_CNS.SCORE.DESCRIPTION_K-High Risk  \\\n",
              "39009                                          0   \n",
              "52582                                          0   \n",
              "79557                                          0   \n",
              "60070                                          0   \n",
              "48198                                          0   \n",
              "\n",
              "       PERFORM_CNS.SCORE.DESCRIPTION_L-Very High Risk  \\\n",
              "39009                                               0   \n",
              "52582                                               0   \n",
              "79557                                               0   \n",
              "60070                                               0   \n",
              "48198                                               0   \n",
              "\n",
              "       PERFORM_CNS.SCORE.DESCRIPTION_M-Very High Risk  \\\n",
              "39009                                               0   \n",
              "52582                                               0   \n",
              "79557                                               0   \n",
              "60070                                               0   \n",
              "48198                                               0   \n",
              "\n",
              "       PERFORM_CNS.SCORE.DESCRIPTION_No Bureau History Available  \\\n",
              "39009                                                  0           \n",
              "52582                                                  1           \n",
              "79557                                                  1           \n",
              "60070                                                  1           \n",
              "48198                                                  1           \n",
              "\n",
              "       PERFORM_CNS.SCORE.DESCRIPTION_Not Scored: More than 50 active Accounts found  \\\n",
              "39009                                                  0                              \n",
              "52582                                                  0                              \n",
              "79557                                                  0                              \n",
              "60070                                                  0                              \n",
              "48198                                                  0                              \n",
              "\n",
              "       PERFORM_CNS.SCORE.DESCRIPTION_Not Scored: No Activity seen on the customer (Inactive)  \\\n",
              "39009                                                  0                                       \n",
              "52582                                                  0                                       \n",
              "79557                                                  0                                       \n",
              "60070                                                  0                                       \n",
              "48198                                                  0                                       \n",
              "\n",
              "       PERFORM_CNS.SCORE.DESCRIPTION_Not Scored: No Updates available in last 36 months  \\\n",
              "39009                                                  0                                  \n",
              "52582                                                  0                                  \n",
              "79557                                                  0                                  \n",
              "60070                                                  0                                  \n",
              "48198                                                  0                                  \n",
              "\n",
              "       PERFORM_CNS.SCORE.DESCRIPTION_Not Scored: Not Enough Info available on the customer  \\\n",
              "39009                                                  0                                     \n",
              "52582                                                  0                                     \n",
              "79557                                                  0                                     \n",
              "60070                                                  0                                     \n",
              "48198                                                  0                                     \n",
              "\n",
              "       PERFORM_CNS.SCORE.DESCRIPTION_Not Scored: Only a Guarantor  \\\n",
              "39009                                                  0            \n",
              "52582                                                  0            \n",
              "79557                                                  0            \n",
              "60070                                                  0            \n",
              "48198                                                  0            \n",
              "\n",
              "       PERFORM_CNS.SCORE.DESCRIPTION_Not Scored: Sufficient History Not Available  \n",
              "39009                                                  0                           \n",
              "52582                                                  0                           \n",
              "79557                                                  0                           \n",
              "60070                                                  0                           \n",
              "48198                                                  0                           \n",
              "\n",
              "[5 rows x 49 columns]"
            ]
          },
          "metadata": {
            "tags": []
          },
          "execution_count": 275
        }
      ]
    },
    {
      "cell_type": "code",
      "metadata": {
        "id": "5iFouiy8gnVf",
        "colab_type": "code",
        "colab": {}
      },
      "source": [
        "from sklearn.model_selection import train_test_split"
      ],
      "execution_count": 0,
      "outputs": []
    },
    {
      "cell_type": "code",
      "metadata": {
        "id": "43ZeT2BfgJhP",
        "colab_type": "code",
        "colab": {}
      },
      "source": [
        "x_train, x_test, y_train, y_test = train_test_split(df_train_under[features], df_train_under['loan_default'], test_size=0.25, \n",
        "                                                        random_state=40,stratify=df_train_under['loan_default'])"
      ],
      "execution_count": 0,
      "outputs": []
    },
    {
      "cell_type": "code",
      "metadata": {
        "id": "d0Ztw_VtcL3E",
        "colab_type": "code",
        "colab": {}
      },
      "source": [
        "from lightgbm import LGBMClassifier"
      ],
      "execution_count": 0,
      "outputs": []
    },
    {
      "cell_type": "code",
      "metadata": {
        "id": "C9X0gFtWdz0Y",
        "colab_type": "code",
        "colab": {}
      },
      "source": [
        "lgbm = LGBMClassifier(num_leaves=13, importance_type='gain',\n",
        "                              n_estimators=5000, min_data_in_leaf=90,\n",
        "                       learning_rate=0.008,bagging_freq= 19,bagging_fraction= 0.675,feature_fraction =0.05)"
      ],
      "execution_count": 0,
      "outputs": []
    },
    {
      "cell_type": "code",
      "metadata": {
        "id": "TP-nLm6DeJzb",
        "colab_type": "code",
        "outputId": "9e064856-c289-4df0-b043-8601e6f6f73e",
        "colab": {
          "base_uri": "https://localhost:8080/",
          "height": 161
        }
      },
      "source": [
        "lgbm.fit(x_train,y_train,eval_metric='auc')"
      ],
      "execution_count": 0,
      "outputs": [
        {
          "output_type": "execute_result",
          "data": {
            "text/plain": [
              "LGBMClassifier(bagging_fraction=0.675, bagging_freq=19, boosting_type='gbdt',\n",
              "        class_weight=None, colsample_bytree=1.0, feature_fraction=0.05,\n",
              "        importance_type='gain', learning_rate=0.008, max_depth=-1,\n",
              "        min_child_samples=20, min_child_weight=0.001, min_data_in_leaf=90,\n",
              "        min_split_gain=0.0, n_estimators=5000, n_jobs=-1, num_leaves=13,\n",
              "        objective=None, random_state=None, reg_alpha=0.0, reg_lambda=0.0,\n",
              "        silent=True, subsample=1.0, subsample_for_bin=200000,\n",
              "        subsample_freq=0)"
            ]
          },
          "metadata": {
            "tags": []
          },
          "execution_count": 293
        }
      ]
    },
    {
      "cell_type": "code",
      "metadata": {
        "id": "h0DEGwrRmwH0",
        "colab_type": "code",
        "colab": {}
      },
      "source": [
        "from sklearn.metrics import roc_auc_score"
      ],
      "execution_count": 0,
      "outputs": []
    },
    {
      "cell_type": "code",
      "metadata": {
        "id": "sHq9N59Yiugz",
        "colab_type": "code",
        "outputId": "3c4b10fb-c647-4f9b-e250-7234b5df0531",
        "colab": {
          "base_uri": "https://localhost:8080/",
          "height": 35
        }
      },
      "source": [
        "roc_auc_score(y_train,lgbm.predict(x_train))"
      ],
      "execution_count": 0,
      "outputs": [
        {
          "output_type": "execute_result",
          "data": {
            "text/plain": [
              "0.6095421255071395"
            ]
          },
          "metadata": {
            "tags": []
          },
          "execution_count": 295
        }
      ]
    },
    {
      "cell_type": "code",
      "metadata": {
        "id": "cdp4kEM0m0PH",
        "colab_type": "code",
        "outputId": "078d993b-243f-4393-d5de-e42c33daaf23",
        "colab": {
          "base_uri": "https://localhost:8080/",
          "height": 35
        }
      },
      "source": [
        "roc_auc_score(y_test,lgbm.predict(x_test))"
      ],
      "execution_count": 0,
      "outputs": [
        {
          "output_type": "execute_result",
          "data": {
            "text/plain": [
              "0.5968940172291156"
            ]
          },
          "metadata": {
            "tags": []
          },
          "execution_count": 296
        }
      ]
    },
    {
      "cell_type": "markdown",
      "metadata": {
        "id": "1qzIf0397X8J",
        "colab_type": "text"
      },
      "source": [
        "**Using given data**"
      ]
    },
    {
      "cell_type": "code",
      "metadata": {
        "id": "UDZQnGOlnDkU",
        "colab_type": "code",
        "colab": {}
      },
      "source": [
        "x_train2, x_test2, y_train2, y_test2 = train_test_split(train_encoded[features], train_encoded['loan_default'], test_size=0.25, \n",
        "                                                        random_state=40,stratify=train_encoded['loan_default'])"
      ],
      "execution_count": 0,
      "outputs": []
    },
    {
      "cell_type": "code",
      "metadata": {
        "id": "SKfF-wl1ou17",
        "colab_type": "code",
        "colab": {}
      },
      "source": [
        "lgbm2 = LGBMClassifier(num_leaves=59, importance_type='gain',\n",
        "                              n_estimators=10000, min_data_in_leaf=90,\n",
        "                       learning_rate=0.008,bagging_freq= 9,bagging_fraction= 0.375,feature_fraction =0.05)"
      ],
      "execution_count": 0,
      "outputs": []
    },
    {
      "cell_type": "code",
      "metadata": {
        "id": "ufuPKRZao4Q2",
        "colab_type": "code",
        "outputId": "2d853a6b-21a1-4883-c1d0-bfffdb82b886",
        "colab": {
          "base_uri": "https://localhost:8080/",
          "height": 161
        }
      },
      "source": [
        "lgbm2.fit(x_train2,y_train2,eval_metric='auc')"
      ],
      "execution_count": 0,
      "outputs": [
        {
          "output_type": "execute_result",
          "data": {
            "text/plain": [
              "LGBMClassifier(bagging_fraction=0.375, bagging_freq=9, boosting_type='gbdt',\n",
              "        class_weight=None, colsample_bytree=1.0, feature_fraction=0.05,\n",
              "        importance_type='gain', learning_rate=0.008, max_depth=-1,\n",
              "        min_child_samples=20, min_child_weight=0.001, min_data_in_leaf=90,\n",
              "        min_split_gain=0.0, n_estimators=10000, n_jobs=-1, num_leaves=59,\n",
              "        objective=None, random_state=None, reg_alpha=0.0, reg_lambda=0.0,\n",
              "        silent=True, subsample=1.0, subsample_for_bin=200000,\n",
              "        subsample_freq=0)"
            ]
          },
          "metadata": {
            "tags": []
          },
          "execution_count": 298
        }
      ]
    },
    {
      "cell_type": "code",
      "metadata": {
        "id": "QblRnNA6o87K",
        "colab_type": "code",
        "outputId": "60d27c73-0c26-4015-a510-f6d0a300c7b6",
        "colab": {
          "base_uri": "https://localhost:8080/",
          "height": 35
        }
      },
      "source": [
        "roc_auc_score(y_train2,lgbm2.predict(x_train2))"
      ],
      "execution_count": 0,
      "outputs": [
        {
          "output_type": "execute_result",
          "data": {
            "text/plain": [
              "0.5068777598480482"
            ]
          },
          "metadata": {
            "tags": []
          },
          "execution_count": 311
        }
      ]
    },
    {
      "cell_type": "code",
      "metadata": {
        "id": "R4_VuGaypCu_",
        "colab_type": "code",
        "outputId": "069d32e4-c77f-4eb2-9ceb-72a47411d878",
        "colab": {
          "base_uri": "https://localhost:8080/",
          "height": 35
        }
      },
      "source": [
        "roc_auc_score(y_test2,lgbm2.predict(x_test2))"
      ],
      "execution_count": 0,
      "outputs": [
        {
          "output_type": "execute_result",
          "data": {
            "text/plain": [
              "0.5034033244637915"
            ]
          },
          "metadata": {
            "tags": []
          },
          "execution_count": 312
        }
      ]
    },
    {
      "cell_type": "markdown",
      "metadata": {
        "id": "k1Ac3hU04isG",
        "colab_type": "text"
      },
      "source": [
        "**Using over sampling**"
      ]
    },
    {
      "cell_type": "code",
      "metadata": {
        "id": "50uEt1u5pG-X",
        "colab_type": "code",
        "outputId": "112c3f32-ea7d-4dbd-f776-65cf9f8cbf10",
        "colab": {
          "base_uri": "https://localhost:8080/",
          "height": 380
        }
      },
      "source": [
        "df_class_1_over = df_class_1.sample(n=count_class_0,random_state=2,replace=True)\n",
        "df_class_1_over.describe()"
      ],
      "execution_count": 0,
      "outputs": [
        {
          "output_type": "execute_result",
          "data": {
            "text/html": [
              "<div>\n",
              "<style scoped>\n",
              "    .dataframe tbody tr th:only-of-type {\n",
              "        vertical-align: middle;\n",
              "    }\n",
              "\n",
              "    .dataframe tbody tr th {\n",
              "        vertical-align: top;\n",
              "    }\n",
              "\n",
              "    .dataframe thead th {\n",
              "        text-align: right;\n",
              "    }\n",
              "</style>\n",
              "<table border=\"1\" class=\"dataframe\">\n",
              "  <thead>\n",
              "    <tr style=\"text-align: right;\">\n",
              "      <th></th>\n",
              "      <th>UniqueID</th>\n",
              "      <th>disbursed_amount</th>\n",
              "      <th>asset_cost</th>\n",
              "      <th>ltv</th>\n",
              "      <th>branch_id</th>\n",
              "      <th>supplier_id</th>\n",
              "      <th>manufacturer_id</th>\n",
              "      <th>Current_pincode_ID</th>\n",
              "      <th>Employment.Type</th>\n",
              "      <th>State_ID</th>\n",
              "      <th>...</th>\n",
              "      <th>PERFORM_CNS.SCORE.DESCRIPTION_K-High Risk</th>\n",
              "      <th>PERFORM_CNS.SCORE.DESCRIPTION_L-Very High Risk</th>\n",
              "      <th>PERFORM_CNS.SCORE.DESCRIPTION_M-Very High Risk</th>\n",
              "      <th>PERFORM_CNS.SCORE.DESCRIPTION_No Bureau History Available</th>\n",
              "      <th>PERFORM_CNS.SCORE.DESCRIPTION_Not Scored: More than 50 active Accounts found</th>\n",
              "      <th>PERFORM_CNS.SCORE.DESCRIPTION_Not Scored: No Activity seen on the customer (Inactive)</th>\n",
              "      <th>PERFORM_CNS.SCORE.DESCRIPTION_Not Scored: No Updates available in last 36 months</th>\n",
              "      <th>PERFORM_CNS.SCORE.DESCRIPTION_Not Scored: Not Enough Info available on the customer</th>\n",
              "      <th>PERFORM_CNS.SCORE.DESCRIPTION_Not Scored: Only a Guarantor</th>\n",
              "      <th>PERFORM_CNS.SCORE.DESCRIPTION_Not Scored: Sufficient History Not Available</th>\n",
              "    </tr>\n",
              "  </thead>\n",
              "  <tbody>\n",
              "    <tr>\n",
              "      <th>count</th>\n",
              "      <td>182543.000000</td>\n",
              "      <td>182543.000000</td>\n",
              "      <td>182543.000000</td>\n",
              "      <td>182543.000000</td>\n",
              "      <td>182543.000000</td>\n",
              "      <td>182543.000000</td>\n",
              "      <td>182543.000000</td>\n",
              "      <td>182543.000000</td>\n",
              "      <td>182543.000000</td>\n",
              "      <td>182543.000000</td>\n",
              "      <td>...</td>\n",
              "      <td>182543.000000</td>\n",
              "      <td>182543.000000</td>\n",
              "      <td>182543.000000</td>\n",
              "      <td>182543.000000</td>\n",
              "      <td>182543.0</td>\n",
              "      <td>182543.000000</td>\n",
              "      <td>182543.000000</td>\n",
              "      <td>182543.000000</td>\n",
              "      <td>182543.000000</td>\n",
              "      <td>182543.000000</td>\n",
              "    </tr>\n",
              "    <tr>\n",
              "      <th>mean</th>\n",
              "      <td>540349.653304</td>\n",
              "      <td>56304.960207</td>\n",
              "      <td>76412.234120</td>\n",
              "      <td>76.894715</td>\n",
              "      <td>76.970078</td>\n",
              "      <td>19824.064911</td>\n",
              "      <td>67.993760</td>\n",
              "      <td>3508.861145</td>\n",
              "      <td>1.541166</td>\n",
              "      <td>7.661965</td>\n",
              "      <td>...</td>\n",
              "      <td>0.044943</td>\n",
              "      <td>0.006459</td>\n",
              "      <td>0.052919</td>\n",
              "      <td>0.534499</td>\n",
              "      <td>0.0</td>\n",
              "      <td>0.010441</td>\n",
              "      <td>0.005763</td>\n",
              "      <td>0.014594</td>\n",
              "      <td>0.004059</td>\n",
              "      <td>0.019743</td>\n",
              "    </tr>\n",
              "    <tr>\n",
              "      <th>std</th>\n",
              "      <td>70878.437900</td>\n",
              "      <td>12236.936757</td>\n",
              "      <td>18785.741557</td>\n",
              "      <td>10.340639</td>\n",
              "      <td>72.187455</td>\n",
              "      <td>3454.012536</td>\n",
              "      <td>22.301658</td>\n",
              "      <td>2246.777379</td>\n",
              "      <td>0.559977</td>\n",
              "      <td>4.563826</td>\n",
              "      <td>...</td>\n",
              "      <td>0.207179</td>\n",
              "      <td>0.080107</td>\n",
              "      <td>0.223872</td>\n",
              "      <td>0.498810</td>\n",
              "      <td>0.0</td>\n",
              "      <td>0.101648</td>\n",
              "      <td>0.075696</td>\n",
              "      <td>0.119920</td>\n",
              "      <td>0.063584</td>\n",
              "      <td>0.139117</td>\n",
              "    </tr>\n",
              "    <tr>\n",
              "      <th>min</th>\n",
              "      <td>417439.000000</td>\n",
              "      <td>13369.000000</td>\n",
              "      <td>37000.000000</td>\n",
              "      <td>15.300000</td>\n",
              "      <td>1.000000</td>\n",
              "      <td>10524.000000</td>\n",
              "      <td>45.000000</td>\n",
              "      <td>1.000000</td>\n",
              "      <td>0.000000</td>\n",
              "      <td>1.000000</td>\n",
              "      <td>...</td>\n",
              "      <td>0.000000</td>\n",
              "      <td>0.000000</td>\n",
              "      <td>0.000000</td>\n",
              "      <td>0.000000</td>\n",
              "      <td>0.0</td>\n",
              "      <td>0.000000</td>\n",
              "      <td>0.000000</td>\n",
              "      <td>0.000000</td>\n",
              "      <td>0.000000</td>\n",
              "      <td>0.000000</td>\n",
              "    </tr>\n",
              "    <tr>\n",
              "      <th>25%</th>\n",
              "      <td>477753.000000</td>\n",
              "      <td>49303.000000</td>\n",
              "      <td>65885.000000</td>\n",
              "      <td>72.090000</td>\n",
              "      <td>16.000000</td>\n",
              "      <td>16686.000000</td>\n",
              "      <td>45.000000</td>\n",
              "      <td>1577.000000</td>\n",
              "      <td>1.000000</td>\n",
              "      <td>4.000000</td>\n",
              "      <td>...</td>\n",
              "      <td>0.000000</td>\n",
              "      <td>0.000000</td>\n",
              "      <td>0.000000</td>\n",
              "      <td>0.000000</td>\n",
              "      <td>0.0</td>\n",
              "      <td>0.000000</td>\n",
              "      <td>0.000000</td>\n",
              "      <td>0.000000</td>\n",
              "      <td>0.000000</td>\n",
              "      <td>0.000000</td>\n",
              "    </tr>\n",
              "    <tr>\n",
              "      <th>50%</th>\n",
              "      <td>544516.000000</td>\n",
              "      <td>55463.000000</td>\n",
              "      <td>71321.000000</td>\n",
              "      <td>79.060000</td>\n",
              "      <td>64.000000</td>\n",
              "      <td>20644.000000</td>\n",
              "      <td>51.000000</td>\n",
              "      <td>2992.000000</td>\n",
              "      <td>2.000000</td>\n",
              "      <td>6.000000</td>\n",
              "      <td>...</td>\n",
              "      <td>0.000000</td>\n",
              "      <td>0.000000</td>\n",
              "      <td>0.000000</td>\n",
              "      <td>1.000000</td>\n",
              "      <td>0.0</td>\n",
              "      <td>0.000000</td>\n",
              "      <td>0.000000</td>\n",
              "      <td>0.000000</td>\n",
              "      <td>0.000000</td>\n",
              "      <td>0.000000</td>\n",
              "    </tr>\n",
              "    <tr>\n",
              "      <th>75%</th>\n",
              "      <td>604024.000000</td>\n",
              "      <td>61947.000000</td>\n",
              "      <td>80042.000000</td>\n",
              "      <td>84.680000</td>\n",
              "      <td>135.000000</td>\n",
              "      <td>23115.000000</td>\n",
              "      <td>86.000000</td>\n",
              "      <td>5816.000000</td>\n",
              "      <td>2.000000</td>\n",
              "      <td>12.000000</td>\n",
              "      <td>...</td>\n",
              "      <td>0.000000</td>\n",
              "      <td>0.000000</td>\n",
              "      <td>0.000000</td>\n",
              "      <td>1.000000</td>\n",
              "      <td>0.0</td>\n",
              "      <td>0.000000</td>\n",
              "      <td>0.000000</td>\n",
              "      <td>0.000000</td>\n",
              "      <td>0.000000</td>\n",
              "      <td>0.000000</td>\n",
              "    </tr>\n",
              "    <tr>\n",
              "      <th>max</th>\n",
              "      <td>658671.000000</td>\n",
              "      <td>191392.000000</td>\n",
              "      <td>281164.000000</td>\n",
              "      <td>95.000000</td>\n",
              "      <td>261.000000</td>\n",
              "      <td>24803.000000</td>\n",
              "      <td>153.000000</td>\n",
              "      <td>7341.000000</td>\n",
              "      <td>2.000000</td>\n",
              "      <td>22.000000</td>\n",
              "      <td>...</td>\n",
              "      <td>1.000000</td>\n",
              "      <td>1.000000</td>\n",
              "      <td>1.000000</td>\n",
              "      <td>1.000000</td>\n",
              "      <td>0.0</td>\n",
              "      <td>1.000000</td>\n",
              "      <td>1.000000</td>\n",
              "      <td>1.000000</td>\n",
              "      <td>1.000000</td>\n",
              "      <td>1.000000</td>\n",
              "    </tr>\n",
              "  </tbody>\n",
              "</table>\n",
              "<p>8 rows × 63 columns</p>\n",
              "</div>"
            ],
            "text/plain": [
              "            UniqueID  disbursed_amount     asset_cost            ltv  \\\n",
              "count  182543.000000     182543.000000  182543.000000  182543.000000   \n",
              "mean   540349.653304      56304.960207   76412.234120      76.894715   \n",
              "std     70878.437900      12236.936757   18785.741557      10.340639   \n",
              "min    417439.000000      13369.000000   37000.000000      15.300000   \n",
              "25%    477753.000000      49303.000000   65885.000000      72.090000   \n",
              "50%    544516.000000      55463.000000   71321.000000      79.060000   \n",
              "75%    604024.000000      61947.000000   80042.000000      84.680000   \n",
              "max    658671.000000     191392.000000  281164.000000      95.000000   \n",
              "\n",
              "           branch_id    supplier_id  manufacturer_id  Current_pincode_ID  \\\n",
              "count  182543.000000  182543.000000    182543.000000       182543.000000   \n",
              "mean       76.970078   19824.064911        67.993760         3508.861145   \n",
              "std        72.187455    3454.012536        22.301658         2246.777379   \n",
              "min         1.000000   10524.000000        45.000000            1.000000   \n",
              "25%        16.000000   16686.000000        45.000000         1577.000000   \n",
              "50%        64.000000   20644.000000        51.000000         2992.000000   \n",
              "75%       135.000000   23115.000000        86.000000         5816.000000   \n",
              "max       261.000000   24803.000000       153.000000         7341.000000   \n",
              "\n",
              "       Employment.Type       State_ID  \\\n",
              "count    182543.000000  182543.000000   \n",
              "mean          1.541166       7.661965   \n",
              "std           0.559977       4.563826   \n",
              "min           0.000000       1.000000   \n",
              "25%           1.000000       4.000000   \n",
              "50%           2.000000       6.000000   \n",
              "75%           2.000000      12.000000   \n",
              "max           2.000000      22.000000   \n",
              "\n",
              "                                          ...                                      \\\n",
              "count                                     ...                                       \n",
              "mean                                      ...                                       \n",
              "std                                       ...                                       \n",
              "min                                       ...                                       \n",
              "25%                                       ...                                       \n",
              "50%                                       ...                                       \n",
              "75%                                       ...                                       \n",
              "max                                       ...                                       \n",
              "\n",
              "       PERFORM_CNS.SCORE.DESCRIPTION_K-High Risk  \\\n",
              "count                              182543.000000   \n",
              "mean                                    0.044943   \n",
              "std                                     0.207179   \n",
              "min                                     0.000000   \n",
              "25%                                     0.000000   \n",
              "50%                                     0.000000   \n",
              "75%                                     0.000000   \n",
              "max                                     1.000000   \n",
              "\n",
              "       PERFORM_CNS.SCORE.DESCRIPTION_L-Very High Risk  \\\n",
              "count                                   182543.000000   \n",
              "mean                                         0.006459   \n",
              "std                                          0.080107   \n",
              "min                                          0.000000   \n",
              "25%                                          0.000000   \n",
              "50%                                          0.000000   \n",
              "75%                                          0.000000   \n",
              "max                                          1.000000   \n",
              "\n",
              "       PERFORM_CNS.SCORE.DESCRIPTION_M-Very High Risk  \\\n",
              "count                                   182543.000000   \n",
              "mean                                         0.052919   \n",
              "std                                          0.223872   \n",
              "min                                          0.000000   \n",
              "25%                                          0.000000   \n",
              "50%                                          0.000000   \n",
              "75%                                          0.000000   \n",
              "max                                          1.000000   \n",
              "\n",
              "       PERFORM_CNS.SCORE.DESCRIPTION_No Bureau History Available  \\\n",
              "count                                      182543.000000           \n",
              "mean                                            0.534499           \n",
              "std                                             0.498810           \n",
              "min                                             0.000000           \n",
              "25%                                             0.000000           \n",
              "50%                                             1.000000           \n",
              "75%                                             1.000000           \n",
              "max                                             1.000000           \n",
              "\n",
              "       PERFORM_CNS.SCORE.DESCRIPTION_Not Scored: More than 50 active Accounts found  \\\n",
              "count                                           182543.0                              \n",
              "mean                                                 0.0                              \n",
              "std                                                  0.0                              \n",
              "min                                                  0.0                              \n",
              "25%                                                  0.0                              \n",
              "50%                                                  0.0                              \n",
              "75%                                                  0.0                              \n",
              "max                                                  0.0                              \n",
              "\n",
              "       PERFORM_CNS.SCORE.DESCRIPTION_Not Scored: No Activity seen on the customer (Inactive)  \\\n",
              "count                                      182543.000000                                       \n",
              "mean                                            0.010441                                       \n",
              "std                                             0.101648                                       \n",
              "min                                             0.000000                                       \n",
              "25%                                             0.000000                                       \n",
              "50%                                             0.000000                                       \n",
              "75%                                             0.000000                                       \n",
              "max                                             1.000000                                       \n",
              "\n",
              "       PERFORM_CNS.SCORE.DESCRIPTION_Not Scored: No Updates available in last 36 months  \\\n",
              "count                                      182543.000000                                  \n",
              "mean                                            0.005763                                  \n",
              "std                                             0.075696                                  \n",
              "min                                             0.000000                                  \n",
              "25%                                             0.000000                                  \n",
              "50%                                             0.000000                                  \n",
              "75%                                             0.000000                                  \n",
              "max                                             1.000000                                  \n",
              "\n",
              "       PERFORM_CNS.SCORE.DESCRIPTION_Not Scored: Not Enough Info available on the customer  \\\n",
              "count                                      182543.000000                                     \n",
              "mean                                            0.014594                                     \n",
              "std                                             0.119920                                     \n",
              "min                                             0.000000                                     \n",
              "25%                                             0.000000                                     \n",
              "50%                                             0.000000                                     \n",
              "75%                                             0.000000                                     \n",
              "max                                             1.000000                                     \n",
              "\n",
              "       PERFORM_CNS.SCORE.DESCRIPTION_Not Scored: Only a Guarantor  \\\n",
              "count                                      182543.000000            \n",
              "mean                                            0.004059            \n",
              "std                                             0.063584            \n",
              "min                                             0.000000            \n",
              "25%                                             0.000000            \n",
              "50%                                             0.000000            \n",
              "75%                                             0.000000            \n",
              "max                                             1.000000            \n",
              "\n",
              "       PERFORM_CNS.SCORE.DESCRIPTION_Not Scored: Sufficient History Not Available  \n",
              "count                                      182543.000000                           \n",
              "mean                                            0.019743                           \n",
              "std                                             0.139117                           \n",
              "min                                             0.000000                           \n",
              "25%                                             0.000000                           \n",
              "50%                                             0.000000                           \n",
              "75%                                             0.000000                           \n",
              "max                                             1.000000                           \n",
              "\n",
              "[8 rows x 63 columns]"
            ]
          },
          "metadata": {
            "tags": []
          },
          "execution_count": 301
        }
      ]
    },
    {
      "cell_type": "code",
      "metadata": {
        "id": "Tp-KpWXN5HWI",
        "colab_type": "code",
        "outputId": "c77f21ec-65d1-47fa-f4ca-1055794fbf37",
        "colab": {
          "base_uri": "https://localhost:8080/",
          "height": 71
        }
      },
      "source": [
        "df_train_over = pd.concat([df_class_0,df_class_1_over],axis=0)\n",
        "df_train_over['loan_default'].value_counts()"
      ],
      "execution_count": 0,
      "outputs": [
        {
          "output_type": "execute_result",
          "data": {
            "text/plain": [
              "1    182543\n",
              "0    182543\n",
              "Name: loan_default, dtype: int64"
            ]
          },
          "metadata": {
            "tags": []
          },
          "execution_count": 303
        }
      ]
    },
    {
      "cell_type": "code",
      "metadata": {
        "id": "HiuHqZ6i5NmC",
        "colab_type": "code",
        "colab": {}
      },
      "source": [
        "x_train3, x_test3, y_train3, y_test3 = train_test_split(df_train_over[features], df_train_over['loan_default'], test_size=0.25, \n",
        "                                                        random_state=40,stratify=df_train_over['loan_default'])"
      ],
      "execution_count": 0,
      "outputs": []
    },
    {
      "cell_type": "code",
      "metadata": {
        "id": "musNds1x5v4C",
        "colab_type": "code",
        "colab": {}
      },
      "source": [
        "lgbm3 = LGBMClassifier(num_leaves=23, importance_type='gain',\n",
        "                              n_estimators=5000, min_data_in_leaf=90,\n",
        "                       learning_rate=0.008,bagging_freq= 19,bagging_fraction= 0.775,feature_fraction =0.58)"
      ],
      "execution_count": 0,
      "outputs": []
    },
    {
      "cell_type": "code",
      "metadata": {
        "id": "f8pnFDn_540R",
        "colab_type": "code",
        "outputId": "77dd3d48-88fa-4aa7-e8d9-ee8f3bdb4519",
        "colab": {
          "base_uri": "https://localhost:8080/",
          "height": 161
        }
      },
      "source": [
        "lgbm3.fit(x_train3,y_train3,eval_metric='auc')"
      ],
      "execution_count": 0,
      "outputs": [
        {
          "output_type": "execute_result",
          "data": {
            "text/plain": [
              "LGBMClassifier(bagging_fraction=0.775, bagging_freq=19, boosting_type='gbdt',\n",
              "        class_weight=None, colsample_bytree=1.0, feature_fraction=0.58,\n",
              "        importance_type='gain', learning_rate=0.008, max_depth=-1,\n",
              "        min_child_samples=20, min_child_weight=0.001, min_data_in_leaf=90,\n",
              "        min_split_gain=0.0, n_estimators=5000, n_jobs=-1, num_leaves=23,\n",
              "        objective=None, random_state=None, reg_alpha=0.0, reg_lambda=0.0,\n",
              "        silent=True, subsample=1.0, subsample_for_bin=200000,\n",
              "        subsample_freq=0)"
            ]
          },
          "metadata": {
            "tags": []
          },
          "execution_count": 373
        }
      ]
    },
    {
      "cell_type": "code",
      "metadata": {
        "id": "atROqOl_59iD",
        "colab_type": "code",
        "outputId": "1c79e454-cb8b-4de0-8e77-6b3fe6e8cdc4",
        "colab": {
          "base_uri": "https://localhost:8080/",
          "height": 35
        }
      },
      "source": [
        "roc_auc_score(y_train3,lgbm3.predict(x_train3))"
      ],
      "execution_count": 0,
      "outputs": [
        {
          "output_type": "execute_result",
          "data": {
            "text/plain": [
              "0.6482100988262105"
            ]
          },
          "metadata": {
            "tags": []
          },
          "execution_count": 374
        }
      ]
    },
    {
      "cell_type": "code",
      "metadata": {
        "id": "1aH_eurW6ASe",
        "colab_type": "code",
        "outputId": "4e57bccf-04fe-4eaf-aab0-09b69b8e6fad",
        "colab": {
          "base_uri": "https://localhost:8080/",
          "height": 35
        }
      },
      "source": [
        "roc_auc_score(y_test3,lgbm3.predict(x_test3))"
      ],
      "execution_count": 0,
      "outputs": [
        {
          "output_type": "execute_result",
          "data": {
            "text/plain": [
              "0.626029888684372"
            ]
          },
          "metadata": {
            "tags": []
          },
          "execution_count": 375
        }
      ]
    },
    {
      "cell_type": "markdown",
      "metadata": {
        "id": "lI57ylxq9qkW",
        "colab_type": "text"
      },
      "source": [
        "**Running model on test dataset**"
      ]
    },
    {
      "cell_type": "code",
      "metadata": {
        "id": "Ue-wxDBe6lPG",
        "colab_type": "code",
        "outputId": "6cca8ff3-93bf-4bab-d84e-d34905872d58",
        "colab": {
          "base_uri": "https://localhost:8080/",
          "height": 755
        }
      },
      "source": [
        "test.isnull().any()"
      ],
      "execution_count": 0,
      "outputs": [
        {
          "output_type": "execute_result",
          "data": {
            "text/plain": [
              "UniqueID                               False\n",
              "disbursed_amount                       False\n",
              "asset_cost                             False\n",
              "ltv                                    False\n",
              "branch_id                              False\n",
              "supplier_id                            False\n",
              "manufacturer_id                        False\n",
              "Current_pincode_ID                     False\n",
              "Date.of.Birth                          False\n",
              "Employment.Type                         True\n",
              "DisbursalDate                          False\n",
              "State_ID                               False\n",
              "Employee_code_ID                       False\n",
              "MobileNo_Avl_Flag                      False\n",
              "Aadhar_flag                            False\n",
              "PAN_flag                               False\n",
              "VoterID_flag                           False\n",
              "Driving_flag                           False\n",
              "Passport_flag                          False\n",
              "PERFORM_CNS.SCORE                      False\n",
              "PERFORM_CNS.SCORE.DESCRIPTION          False\n",
              "PRI.NO.OF.ACCTS                        False\n",
              "PRI.ACTIVE.ACCTS                       False\n",
              "PRI.OVERDUE.ACCTS                      False\n",
              "PRI.CURRENT.BALANCE                    False\n",
              "PRI.SANCTIONED.AMOUNT                  False\n",
              "PRI.DISBURSED.AMOUNT                   False\n",
              "SEC.NO.OF.ACCTS                        False\n",
              "SEC.ACTIVE.ACCTS                       False\n",
              "SEC.OVERDUE.ACCTS                      False\n",
              "SEC.CURRENT.BALANCE                    False\n",
              "SEC.SANCTIONED.AMOUNT                  False\n",
              "SEC.DISBURSED.AMOUNT                   False\n",
              "PRIMARY.INSTAL.AMT                     False\n",
              "SEC.INSTAL.AMT                         False\n",
              "NEW.ACCTS.IN.LAST.SIX.MONTHS           False\n",
              "DELINQUENT.ACCTS.IN.LAST.SIX.MONTHS    False\n",
              "AVERAGE.ACCT.AGE                       False\n",
              "CREDIT.HISTORY.LENGTH                  False\n",
              "NO.OF_INQUIRIES                        False\n",
              "dtype: bool"
            ]
          },
          "metadata": {
            "tags": []
          },
          "execution_count": 340
        }
      ]
    },
    {
      "cell_type": "code",
      "metadata": {
        "id": "l9ze7nEGD6Iv",
        "colab_type": "code",
        "outputId": "ea1922a6-c8f5-472f-94ff-f2174b9b7e07",
        "colab": {
          "base_uri": "https://localhost:8080/",
          "height": 35
        }
      },
      "source": [
        "df_train_over[features].shape"
      ],
      "execution_count": 0,
      "outputs": [
        {
          "output_type": "execute_result",
          "data": {
            "text/plain": [
              "(365086, 47)"
            ]
          },
          "metadata": {
            "tags": []
          },
          "execution_count": 370
        }
      ]
    },
    {
      "cell_type": "code",
      "metadata": {
        "id": "tMfzSAzYEFh4",
        "colab_type": "code",
        "outputId": "dee34f1d-d51b-4dda-98f3-dfcced8a2f4d",
        "colab": {
          "base_uri": "https://localhost:8080/",
          "height": 35
        }
      },
      "source": [
        "test_encoded[features].shape"
      ],
      "execution_count": 0,
      "outputs": [
        {
          "output_type": "execute_result",
          "data": {
            "text/plain": [
              "(112392, 47)"
            ]
          },
          "metadata": {
            "tags": []
          },
          "execution_count": 368
        }
      ]
    },
    {
      "cell_type": "code",
      "metadata": {
        "id": "MO3kAt3bF-PX",
        "colab_type": "code",
        "colab": {}
      },
      "source": [
        "test['loan_default'] = lgbm3.predict(test_encoded[features])"
      ],
      "execution_count": 0,
      "outputs": []
    },
    {
      "cell_type": "code",
      "metadata": {
        "id": "7x2jkN83IiRb",
        "colab_type": "code",
        "colab": {}
      },
      "source": [
        "test[['UniqueID','loan_default']].to_csv('my_data.csv',index=False)"
      ],
      "execution_count": 0,
      "outputs": []
    },
    {
      "cell_type": "code",
      "metadata": {
        "id": "2Uc0VKeyJ-Iw",
        "colab_type": "code",
        "outputId": "1a153951-5980-4440-e617-481350955781",
        "colab": {
          "base_uri": "https://localhost:8080/",
          "height": 127
        }
      },
      "source": [
        "from google.colab import drive\n",
        "drive.mount('drive')"
      ],
      "execution_count": 0,
      "outputs": [
        {
          "output_type": "stream",
          "text": [
            "Go to this URL in a browser: https://accounts.google.com/o/oauth2/auth?client_id=947318989803-6bn6qk8qdgf4n4g3pfee6491hc0brc4i.apps.googleusercontent.com&redirect_uri=urn%3Aietf%3Awg%3Aoauth%3A2.0%3Aoob&scope=email%20https%3A%2F%2Fwww.googleapis.com%2Fauth%2Fdocs.test%20https%3A%2F%2Fwww.googleapis.com%2Fauth%2Fdrive%20https%3A%2F%2Fwww.googleapis.com%2Fauth%2Fdrive.photos.readonly%20https%3A%2F%2Fwww.googleapis.com%2Fauth%2Fpeopleapi.readonly&response_type=code\n",
            "\n",
            "Enter your authorization code:\n",
            "··········\n",
            "Mounted at drive\n"
          ],
          "name": "stdout"
        }
      ]
    },
    {
      "cell_type": "code",
      "metadata": {
        "id": "KLNYJoZoKFu6",
        "colab_type": "code",
        "colab": {}
      },
      "source": [
        "!cp my_data.csv drive/My\\ Drive/"
      ],
      "execution_count": 0,
      "outputs": []
    },
    {
      "cell_type": "code",
      "metadata": {
        "id": "FUTz7m3SK7jR",
        "colab_type": "code",
        "colab": {}
      },
      "source": [
        ""
      ],
      "execution_count": 0,
      "outputs": []
    }
  ]
}